{
 "cells": [
  {
   "cell_type": "code",
   "execution_count": null,
   "id": "20b01b3b-b9cf-4447-9259-93ed9bcdefb3",
   "metadata": {},
   "outputs": [],
   "source": [
    "#%config Completer.use_jedi = False"
   ]
  },
  {
   "cell_type": "code",
   "execution_count": null,
   "id": "a0058786-e995-4ce7-b7de-cd7ba09af643",
   "metadata": {},
   "outputs": [],
   "source": []
  },
  {
   "cell_type": "markdown",
   "id": "194fd2c3-001f-4949-8a91-a9ee91c87809",
   "metadata": {},
   "source": [
    "# **Chapter 4**\n",
    "## *Persisting Time Series Data to Files*, \n",
    "\n",
    "This chapter covers different options and use cases to store time series data for later retrieval. The techniques will cover various methods and file types, whether on-premises or in the cloud. In addition, this chapter covers serialization, compression, overwriting, or appending to files. \n",
    "\n",
    "We will cover the following recipes on how to ingest data into a pandas DataFrame:\n",
    "* Time series data serialization with pickle\n",
    "* Writing to CSV and other delimited files\n",
    "* Writing data to an Excel file\n",
    "* Storing data to a private S3 bucket"
   ]
  },
  {
   "cell_type": "markdown",
   "id": "b826dd84-6964-4512-90de-50e8d23b5868",
   "metadata": {},
   "source": [
    "# Recipe 1: Serializing time series data with pickle\n",
    "* This recipe explains the concept of data serialization \n",
    "* Demonstrate how pickling works "
   ]
  },
  {
   "cell_type": "code",
   "execution_count": 1,
   "id": "65b6c194-3b9e-410e-ab5b-40c62585d799",
   "metadata": {},
   "outputs": [],
   "source": [
    "import pandas as pd\n",
    "from pathlib import Path"
   ]
  },
  {
   "cell_type": "code",
   "execution_count": 2,
   "id": "15656c7b-e2e7-4a6f-a1e5-4dd6a4b127b9",
   "metadata": {},
   "outputs": [
    {
     "data": {
      "text/plain": [
       "'2.2.2'"
      ]
     },
     "execution_count": 2,
     "metadata": {},
     "output_type": "execute_result"
    }
   ],
   "source": [
    "pd.__version__"
   ]
  },
  {
   "cell_type": "code",
   "execution_count": 12,
   "id": "e5badf72-9648-4a0d-9d4f-bc96b2f8ab15",
   "metadata": {},
   "outputs": [
    {
     "data": {
      "text/html": [
       "<div>\n",
       "<style scoped>\n",
       "    .dataframe tbody tr th:only-of-type {\n",
       "        vertical-align: middle;\n",
       "    }\n",
       "\n",
       "    .dataframe tbody tr th {\n",
       "        vertical-align: top;\n",
       "    }\n",
       "\n",
       "    .dataframe thead th {\n",
       "        text-align: right;\n",
       "    }\n",
       "</style>\n",
       "<table border=\"1\" class=\"dataframe\">\n",
       "  <thead>\n",
       "    <tr style=\"text-align: right;\">\n",
       "      <th></th>\n",
       "      <th>Province/State</th>\n",
       "      <th>Country/Region</th>\n",
       "      <th>Lat</th>\n",
       "      <th>Long</th>\n",
       "      <th>1/22/20</th>\n",
       "      <th>1/23/20</th>\n",
       "      <th>1/24/20</th>\n",
       "      <th>1/25/20</th>\n",
       "      <th>1/26/20</th>\n",
       "      <th>1/27/20</th>\n",
       "      <th>...</th>\n",
       "      <th>2/28/23</th>\n",
       "      <th>3/1/23</th>\n",
       "      <th>3/2/23</th>\n",
       "      <th>3/3/23</th>\n",
       "      <th>3/4/23</th>\n",
       "      <th>3/5/23</th>\n",
       "      <th>3/6/23</th>\n",
       "      <th>3/7/23</th>\n",
       "      <th>3/8/23</th>\n",
       "      <th>3/9/23</th>\n",
       "    </tr>\n",
       "  </thead>\n",
       "  <tbody>\n",
       "    <tr>\n",
       "      <th>0</th>\n",
       "      <td>NaN</td>\n",
       "      <td>Afghanistan</td>\n",
       "      <td>33.93911</td>\n",
       "      <td>67.709953</td>\n",
       "      <td>0</td>\n",
       "      <td>0</td>\n",
       "      <td>0</td>\n",
       "      <td>0</td>\n",
       "      <td>0</td>\n",
       "      <td>0</td>\n",
       "      <td>...</td>\n",
       "      <td>209322</td>\n",
       "      <td>209340</td>\n",
       "      <td>209358</td>\n",
       "      <td>209362</td>\n",
       "      <td>209369</td>\n",
       "      <td>209390</td>\n",
       "      <td>209406</td>\n",
       "      <td>209436</td>\n",
       "      <td>209451</td>\n",
       "      <td>209451</td>\n",
       "    </tr>\n",
       "    <tr>\n",
       "      <th>1</th>\n",
       "      <td>NaN</td>\n",
       "      <td>Albania</td>\n",
       "      <td>41.15330</td>\n",
       "      <td>20.168300</td>\n",
       "      <td>0</td>\n",
       "      <td>0</td>\n",
       "      <td>0</td>\n",
       "      <td>0</td>\n",
       "      <td>0</td>\n",
       "      <td>0</td>\n",
       "      <td>...</td>\n",
       "      <td>334391</td>\n",
       "      <td>334408</td>\n",
       "      <td>334408</td>\n",
       "      <td>334427</td>\n",
       "      <td>334427</td>\n",
       "      <td>334427</td>\n",
       "      <td>334427</td>\n",
       "      <td>334427</td>\n",
       "      <td>334443</td>\n",
       "      <td>334457</td>\n",
       "    </tr>\n",
       "    <tr>\n",
       "      <th>2</th>\n",
       "      <td>NaN</td>\n",
       "      <td>Algeria</td>\n",
       "      <td>28.03390</td>\n",
       "      <td>1.659600</td>\n",
       "      <td>0</td>\n",
       "      <td>0</td>\n",
       "      <td>0</td>\n",
       "      <td>0</td>\n",
       "      <td>0</td>\n",
       "      <td>0</td>\n",
       "      <td>...</td>\n",
       "      <td>271441</td>\n",
       "      <td>271448</td>\n",
       "      <td>271463</td>\n",
       "      <td>271469</td>\n",
       "      <td>271469</td>\n",
       "      <td>271477</td>\n",
       "      <td>271477</td>\n",
       "      <td>271490</td>\n",
       "      <td>271494</td>\n",
       "      <td>271496</td>\n",
       "    </tr>\n",
       "    <tr>\n",
       "      <th>3</th>\n",
       "      <td>NaN</td>\n",
       "      <td>Andorra</td>\n",
       "      <td>42.50630</td>\n",
       "      <td>1.521800</td>\n",
       "      <td>0</td>\n",
       "      <td>0</td>\n",
       "      <td>0</td>\n",
       "      <td>0</td>\n",
       "      <td>0</td>\n",
       "      <td>0</td>\n",
       "      <td>...</td>\n",
       "      <td>47866</td>\n",
       "      <td>47875</td>\n",
       "      <td>47875</td>\n",
       "      <td>47875</td>\n",
       "      <td>47875</td>\n",
       "      <td>47875</td>\n",
       "      <td>47875</td>\n",
       "      <td>47875</td>\n",
       "      <td>47890</td>\n",
       "      <td>47890</td>\n",
       "    </tr>\n",
       "    <tr>\n",
       "      <th>4</th>\n",
       "      <td>NaN</td>\n",
       "      <td>Angola</td>\n",
       "      <td>-11.20270</td>\n",
       "      <td>17.873900</td>\n",
       "      <td>0</td>\n",
       "      <td>0</td>\n",
       "      <td>0</td>\n",
       "      <td>0</td>\n",
       "      <td>0</td>\n",
       "      <td>0</td>\n",
       "      <td>...</td>\n",
       "      <td>105255</td>\n",
       "      <td>105277</td>\n",
       "      <td>105277</td>\n",
       "      <td>105277</td>\n",
       "      <td>105277</td>\n",
       "      <td>105277</td>\n",
       "      <td>105277</td>\n",
       "      <td>105277</td>\n",
       "      <td>105288</td>\n",
       "      <td>105288</td>\n",
       "    </tr>\n",
       "  </tbody>\n",
       "</table>\n",
       "<p>5 rows × 1147 columns</p>\n",
       "</div>"
      ],
      "text/plain": [
       "  Province/State Country/Region       Lat       Long  1/22/20  1/23/20  \\\n",
       "0            NaN    Afghanistan  33.93911  67.709953        0        0   \n",
       "1            NaN        Albania  41.15330  20.168300        0        0   \n",
       "2            NaN        Algeria  28.03390   1.659600        0        0   \n",
       "3            NaN        Andorra  42.50630   1.521800        0        0   \n",
       "4            NaN         Angola -11.20270  17.873900        0        0   \n",
       "\n",
       "   1/24/20  1/25/20  1/26/20  1/27/20  ...  2/28/23  3/1/23  3/2/23  3/3/23  \\\n",
       "0        0        0        0        0  ...   209322  209340  209358  209362   \n",
       "1        0        0        0        0  ...   334391  334408  334408  334427   \n",
       "2        0        0        0        0  ...   271441  271448  271463  271469   \n",
       "3        0        0        0        0  ...    47866   47875   47875   47875   \n",
       "4        0        0        0        0  ...   105255  105277  105277  105277   \n",
       "\n",
       "   3/4/23  3/5/23  3/6/23  3/7/23  3/8/23  3/9/23  \n",
       "0  209369  209390  209406  209436  209451  209451  \n",
       "1  334427  334427  334427  334427  334443  334457  \n",
       "2  271469  271477  271477  271490  271494  271496  \n",
       "3   47875   47875   47875   47875   47890   47890  \n",
       "4  105277  105277  105277  105277  105288  105288  \n",
       "\n",
       "[5 rows x 1147 columns]"
      ]
     },
     "execution_count": 12,
     "metadata": {},
     "output_type": "execute_result"
    }
   ],
   "source": [
    "file = \\\n",
    "Path('../../datasets/Ch4/time_series_covid19_confirmed_global.csv')\n",
    "df = pd.read_csv(file)\n",
    "df.head()"
   ]
  },
  {
   "cell_type": "code",
   "execution_count": 8,
   "id": "5ac7252d-aa4b-4d4a-b157-b9eaf6c47173",
   "metadata": {},
   "outputs": [
    {
     "name": "stdout",
     "output_type": "stream",
     "text": [
      "<class 'pandas.core.frame.DataFrame'>\n",
      "RangeIndex: 289 entries, 0 to 288\n",
      "Columns: 1147 entries, Province/State to 3/9/23\n",
      "dtypes: float64(2), int64(1143), object(2)\n",
      "memory usage: 2.5+ MB\n"
     ]
    }
   ],
   "source": [
    "df.info()"
   ]
  },
  {
   "cell_type": "code",
   "execution_count": 36,
   "id": "1a34737a-9af9-486a-a65a-b7a15f8fdc7d",
   "metadata": {},
   "outputs": [
    {
     "data": {
      "text/html": [
       "<div>\n",
       "<style scoped>\n",
       "    .dataframe tbody tr th:only-of-type {\n",
       "        vertical-align: middle;\n",
       "    }\n",
       "\n",
       "    .dataframe tbody tr th {\n",
       "        vertical-align: top;\n",
       "    }\n",
       "\n",
       "    .dataframe thead th {\n",
       "        text-align: right;\n",
       "    }\n",
       "</style>\n",
       "<table border=\"1\" class=\"dataframe\">\n",
       "  <thead>\n",
       "    <tr style=\"text-align: right;\">\n",
       "      <th></th>\n",
       "      <th>6/1/21</th>\n",
       "      <th>6/2/21</th>\n",
       "      <th>6/3/21</th>\n",
       "      <th>6/4/21</th>\n",
       "      <th>6/5/21</th>\n",
       "      <th>6/6/21</th>\n",
       "      <th>6/7/21</th>\n",
       "      <th>6/8/21</th>\n",
       "      <th>6/9/21</th>\n",
       "      <th>6/10/21</th>\n",
       "      <th>...</th>\n",
       "      <th>9/21/21</th>\n",
       "      <th>9/22/21</th>\n",
       "      <th>9/23/21</th>\n",
       "      <th>9/24/21</th>\n",
       "      <th>9/25/21</th>\n",
       "      <th>9/26/21</th>\n",
       "      <th>9/27/21</th>\n",
       "      <th>9/28/21</th>\n",
       "      <th>9/29/21</th>\n",
       "      <th>9/30/21</th>\n",
       "    </tr>\n",
       "  </thead>\n",
       "  <tbody>\n",
       "    <tr>\n",
       "      <th>260</th>\n",
       "      <td>33407540</td>\n",
       "      <td>33424131</td>\n",
       "      <td>33442100</td>\n",
       "      <td>33459613</td>\n",
       "      <td>33474770</td>\n",
       "      <td>33480666</td>\n",
       "      <td>33494852</td>\n",
       "      <td>33507651</td>\n",
       "      <td>33525852</td>\n",
       "      <td>33540369</td>\n",
       "      <td>...</td>\n",
       "      <td>42487611</td>\n",
       "      <td>42619242</td>\n",
       "      <td>42748318</td>\n",
       "      <td>42922887</td>\n",
       "      <td>42984802</td>\n",
       "      <td>43040459</td>\n",
       "      <td>43194360</td>\n",
       "      <td>43307569</td>\n",
       "      <td>43429449</td>\n",
       "      <td>43539596</td>\n",
       "    </tr>\n",
       "  </tbody>\n",
       "</table>\n",
       "<p>1 rows × 122 columns</p>\n",
       "</div>"
      ],
      "text/plain": [
       "       6/1/21    6/2/21    6/3/21    6/4/21    6/5/21    6/6/21    6/7/21  \\\n",
       "260  33407540  33424131  33442100  33459613  33474770  33480666  33494852   \n",
       "\n",
       "       6/8/21    6/9/21   6/10/21  ...   9/21/21   9/22/21   9/23/21  \\\n",
       "260  33507651  33525852  33540369  ...  42487611  42619242  42748318   \n",
       "\n",
       "      9/24/21   9/25/21   9/26/21   9/27/21   9/28/21   9/29/21   9/30/21  \n",
       "260  42922887  42984802  43040459  43194360  43307569  43429449  43539596  \n",
       "\n",
       "[1 rows x 122 columns]"
      ]
     },
     "execution_count": 36,
     "metadata": {},
     "output_type": "execute_result"
    }
   ],
   "source": [
    "# filter data where Country is United States\n",
    "df_usa = df[df['Country/Region'] == 'US']\n",
    "# filter columns from June to end of September\n",
    "df_usa_summer = df_usa.loc[:, '6/1/21':'9/30/21']\n",
    "# pivot the data \n",
    "df_usa_summer"
   ]
  },
  {
   "cell_type": "code",
   "execution_count": 51,
   "id": "f97c7e8e-7324-4301-aa32-d71bd1ceb7a2",
   "metadata": {},
   "outputs": [
    {
     "name": "stdout",
     "output_type": "stream",
     "text": [
      "<class 'pandas.core.frame.DataFrame'>\n",
      "DatetimeIndex: 122 entries, 2021-06-01 to 2021-09-30\n",
      "Data columns (total 1 columns):\n",
      " #   Column  Non-Null Count  Dtype\n",
      "---  ------  --------------  -----\n",
      " 0   cases   122 non-null    int64\n",
      "dtypes: int64(1)\n",
      "memory usage: 1.9 KB\n"
     ]
    }
   ],
   "source": [
    "# unpivot using pd.melt()\n",
    "df_usa_summer_unpivoted = \\\n",
    "    pd.melt(df_usa_summer,\n",
    "            value_vars=df_usa_summer.columns,\n",
    "            value_name='cases',\n",
    "            var_name='date').set_index('date')\n",
    "\n",
    "\n",
    "df_usa_summer_unpivoted.index = \\\n",
    "    pd.to_datetime(df_usa_summer_unpivoted.index, format=\"%m/%d/%y\")\n",
    "\n",
    "df_usa_summer_unpivoted.info()"
   ]
  },
  {
   "cell_type": "code",
   "execution_count": 40,
   "id": "d4bb6eb9-a676-49a1-af78-510d59990995",
   "metadata": {},
   "outputs": [],
   "source": [
    "# df_usa_summer_unpivoted.index = \\\n",
    "# pd.to_datetime(df_usa_summer_unpivoted.index, format=\"%m/%d/%y\")\n",
    "\n",
    "# df_usa_summer_unpivoted.info()"
   ]
  },
  {
   "cell_type": "code",
   "execution_count": 53,
   "id": "7483557b-191d-47d4-909a-d2d98eada98a",
   "metadata": {},
   "outputs": [
    {
     "name": "stdout",
     "output_type": "stream",
     "text": [
      "               cases\n",
      "date                \n",
      "2021-06-01  33407540\n",
      "2021-06-02  33424131\n",
      "2021-06-03  33442100\n",
      "2021-06-04  33459613\n",
      "2021-06-05  33474770\n"
     ]
    }
   ],
   "source": [
    "print(df_usa_summer_unpivoted.head())"
   ]
  },
  {
   "cell_type": "code",
   "execution_count": 57,
   "id": "e9ef960f-d0cf-4180-b10f-d698bd393a8e",
   "metadata": {},
   "outputs": [],
   "source": [
    "output =\\\n",
    "Path('../../datasets/Ch4/covid_usa_summer_2021.pkl')\n",
    "\n",
    "df_usa_summer_unpivoted.to_pickle(output)"
   ]
  },
  {
   "cell_type": "code",
   "execution_count": 55,
   "id": "a7e93ae0-7435-41cd-9e4e-d6136c6cf82e",
   "metadata": {},
   "outputs": [
    {
     "name": "stdout",
     "output_type": "stream",
     "text": [
      "<class 'pandas.core.frame.DataFrame'>\n",
      "DatetimeIndex: 122 entries, 2021-06-01 to 2021-09-30\n",
      "Data columns (total 1 columns):\n",
      " #   Column  Non-Null Count  Dtype\n",
      "---  ------  --------------  -----\n",
      " 0   cases   122 non-null    int64\n",
      "dtypes: int64(1)\n",
      "memory usage: 1.9 KB\n"
     ]
    }
   ],
   "source": [
    "unpickled_df = pd.read_pickle(output)\n",
    "unpickled_df.info()"
   ]
  },
  {
   "cell_type": "markdown",
   "id": "68b1cdc8-efcd-453b-8e74-4ef9fe3ef565",
   "metadata": {},
   "source": [
    "## Writing a Pickle file using the Pickle library"
   ]
  },
  {
   "cell_type": "code",
   "execution_count": 58,
   "id": "60f0c22e-141f-4808-b3b3-f1eba0743ccc",
   "metadata": {},
   "outputs": [],
   "source": [
    "import pickle"
   ]
  },
  {
   "cell_type": "code",
   "execution_count": 76,
   "id": "8f6ee014-c730-4c91-adf3-659a27eaa09f",
   "metadata": {},
   "outputs": [],
   "source": [
    "file_path = \\\n",
    "Path('../../datasets/Ch4/covid_usa_summer_2021_v2.pkl')\n",
    "\n",
    "with open(file_path, \"wb\") as file:\n",
    "    pickle.dump(df_usa_summer_unpivoted, file)"
   ]
  },
  {
   "cell_type": "code",
   "execution_count": 77,
   "id": "7e4ec6bb-6301-466a-bb4f-182c587775f0",
   "metadata": {},
   "outputs": [
    {
     "data": {
      "text/plain": [
       "pandas.core.frame.DataFrame"
      ]
     },
     "execution_count": 77,
     "metadata": {},
     "output_type": "execute_result"
    }
   ],
   "source": [
    "with open(file_path, \"rb\") as file:\n",
    "    df = pickle.load(file)\n",
    "type(df)"
   ]
  },
  {
   "cell_type": "code",
   "execution_count": null,
   "id": "cf1ccdd1-a5a6-4913-8654-b2f0b5b88308",
   "metadata": {},
   "outputs": [],
   "source": [
    "with open(output, \"wb\") as file:\n",
    "    pickle.dump(df_usa_summer_unpivoted, file)"
   ]
  },
  {
   "cell_type": "code",
   "execution_count": null,
   "id": "f75206b5-1216-43ed-bb77-d770f4288125",
   "metadata": {},
   "outputs": [],
   "source": [
    "with open(output, \"rb\") as file:\n",
    "    df = pickle.load(file)"
   ]
  },
  {
   "cell_type": "code",
   "execution_count": 82,
   "id": "dbb7aaf9-8b72-4384-9353-f117890d57e8",
   "metadata": {},
   "outputs": [],
   "source": [
    "zip_output =\\\n",
    "Path('../../datasets/Ch4/covid_usa_summer_2021.zip')\n",
    "\n",
    "# write the Dataframe\n",
    "df_usa_summer_unpivoted.to_pickle(zip_output)"
   ]
  },
  {
   "cell_type": "code",
   "execution_count": 83,
   "id": "b31c5092-a26e-4e91-a806-fc253d07218e",
   "metadata": {},
   "outputs": [
    {
     "data": {
      "text/html": [
       "<div>\n",
       "<style scoped>\n",
       "    .dataframe tbody tr th:only-of-type {\n",
       "        vertical-align: middle;\n",
       "    }\n",
       "\n",
       "    .dataframe tbody tr th {\n",
       "        vertical-align: top;\n",
       "    }\n",
       "\n",
       "    .dataframe thead th {\n",
       "        text-align: right;\n",
       "    }\n",
       "</style>\n",
       "<table border=\"1\" class=\"dataframe\">\n",
       "  <thead>\n",
       "    <tr style=\"text-align: right;\">\n",
       "      <th></th>\n",
       "      <th>cases</th>\n",
       "    </tr>\n",
       "    <tr>\n",
       "      <th>date</th>\n",
       "      <th></th>\n",
       "    </tr>\n",
       "  </thead>\n",
       "  <tbody>\n",
       "    <tr>\n",
       "      <th>2021-06-01</th>\n",
       "      <td>33407540</td>\n",
       "    </tr>\n",
       "    <tr>\n",
       "      <th>2021-06-02</th>\n",
       "      <td>33424131</td>\n",
       "    </tr>\n",
       "    <tr>\n",
       "      <th>2021-06-03</th>\n",
       "      <td>33442100</td>\n",
       "    </tr>\n",
       "    <tr>\n",
       "      <th>2021-06-04</th>\n",
       "      <td>33459613</td>\n",
       "    </tr>\n",
       "    <tr>\n",
       "      <th>2021-06-05</th>\n",
       "      <td>33474770</td>\n",
       "    </tr>\n",
       "    <tr>\n",
       "      <th>...</th>\n",
       "      <td>...</td>\n",
       "    </tr>\n",
       "    <tr>\n",
       "      <th>2021-09-26</th>\n",
       "      <td>43040459</td>\n",
       "    </tr>\n",
       "    <tr>\n",
       "      <th>2021-09-27</th>\n",
       "      <td>43194360</td>\n",
       "    </tr>\n",
       "    <tr>\n",
       "      <th>2021-09-28</th>\n",
       "      <td>43307569</td>\n",
       "    </tr>\n",
       "    <tr>\n",
       "      <th>2021-09-29</th>\n",
       "      <td>43429449</td>\n",
       "    </tr>\n",
       "    <tr>\n",
       "      <th>2021-09-30</th>\n",
       "      <td>43539596</td>\n",
       "    </tr>\n",
       "  </tbody>\n",
       "</table>\n",
       "<p>122 rows × 1 columns</p>\n",
       "</div>"
      ],
      "text/plain": [
       "               cases\n",
       "date                \n",
       "2021-06-01  33407540\n",
       "2021-06-02  33424131\n",
       "2021-06-03  33442100\n",
       "2021-06-04  33459613\n",
       "2021-06-05  33474770\n",
       "...              ...\n",
       "2021-09-26  43040459\n",
       "2021-09-27  43194360\n",
       "2021-09-28  43307569\n",
       "2021-09-29  43429449\n",
       "2021-09-30  43539596\n",
       "\n",
       "[122 rows x 1 columns]"
      ]
     },
     "execution_count": 83,
     "metadata": {},
     "output_type": "execute_result"
    }
   ],
   "source": [
    "# Read the DataFrame\n",
    "pd.read_pickle(zip_output)"
   ]
  },
  {
   "cell_type": "markdown",
   "id": "6e411774-dbf3-4cbf-9e5f-66f426781c72",
   "metadata": {},
   "source": [
    "#### Check seriealization protocols"
   ]
  },
  {
   "cell_type": "code",
   "execution_count": 84,
   "id": "9b0e6ba7-3891-4f2f-a1f6-9fe20582f7bb",
   "metadata": {},
   "outputs": [
    {
     "data": {
      "text/plain": [
       "5"
      ]
     },
     "execution_count": 84,
     "metadata": {},
     "output_type": "execute_result"
    }
   ],
   "source": [
    "pickle.HIGHEST_PROTOCOL"
   ]
  },
  {
   "cell_type": "code",
   "execution_count": 85,
   "id": "d9404b3d-c334-43b9-82dd-dae3b89b6c1f",
   "metadata": {},
   "outputs": [],
   "source": [
    "with open(output, \"wb\") as file:\n",
    "    pickle.dump(df_usa_summer_unpivoted,\n",
    "                file,\n",
    "                pickle.HIGHEST_PROTOCOL)\n",
    "\n",
    "# this is equivalent to the following\n",
    "with open(output, \"wb\") as file:\n",
    "    pickle.dump(df_usa_summer_unpivoted,\n",
    "                file,\n",
    "                5)"
   ]
  },
  {
   "cell_type": "markdown",
   "id": "2138370c-b519-4558-a6b2-4d7eb9e98471",
   "metadata": {},
   "source": [
    "## There is more"
   ]
  },
  {
   "cell_type": "code",
   "execution_count": 88,
   "id": "04581924-19bf-4c8d-8292-0729df0588e3",
   "metadata": {},
   "outputs": [],
   "source": [
    "def covid_by_country(file, days, country):\n",
    "    ts = pd.read_csv(file)\n",
    "    ts = ts[ts['Country/Region'] == country]\n",
    "    final = ts.iloc[:, -days:].sum()\n",
    "    final.index = pd.to_datetime(final.index, \n",
    "                                format=\"%m/%d/%y\")\n",
    "    return final"
   ]
  },
  {
   "cell_type": "code",
   "execution_count": 104,
   "id": "280659da-d401-4eb1-b239-e572af3ac6fb",
   "metadata": {},
   "outputs": [
    {
     "data": {
      "text/plain": [
       "2022-08-22     93660652\n",
       "2022-08-23     93759938\n",
       "2022-08-24     93911627\n",
       "2022-08-25     94051288\n",
       "2022-08-26     94172008\n",
       "                ...    \n",
       "2023-03-05    103646975\n",
       "2023-03-06    103655539\n",
       "2023-03-07    103690910\n",
       "2023-03-08    103755771\n",
       "2023-03-09    103802702\n",
       "Length: 200, dtype: int64"
      ]
     },
     "execution_count": 104,
     "metadata": {},
     "output_type": "execute_result"
    }
   ],
   "source": [
    "file = \\\n",
    "Path('../../datasets/Ch4/time_series_covid19_confirmed_global.csv')\n",
    "\n",
    "us_past_120_days = covid_by_country(file, 200, 'US')\n",
    "us_past_120_days"
   ]
  },
  {
   "cell_type": "code",
   "execution_count": null,
   "id": "8a6d1b99-0012-4dbe-87b3-0392520d5f8f",
   "metadata": {},
   "outputs": [],
   "source": []
  },
  {
   "cell_type": "code",
   "execution_count": 113,
   "id": "15b4a42e-c5fd-4e0c-a758-f6f120d6141c",
   "metadata": {},
   "outputs": [
    {
     "data": {
      "image/png": "[encoded data removed]",
      "text/plain": [
       "<Figure size 640x480 with 1 Axes>"
      ]
     },
     "metadata": {},
     "output_type": "display_data"
    }
   ],
   "source": [
    "plot_example = \\\n",
    "us_past_120_days.plot(title=f'COVID confirmed case for US',\n",
    "                xlabel='Date',\n",
    "                ylabel='Number of Confirmed Cases');"
   ]
  },
  {
   "cell_type": "code",
   "execution_count": null,
   "id": "6bbb3e05-9c6c-4ad1-a3aa-b7b8b6c953b0",
   "metadata": {},
   "outputs": [],
   "source": [
    "fig = plot_example.get_figure()"
   ]
  },
  {
   "cell_type": "code",
   "execution_count": null,
   "id": "207e8916-42eb-4d2f-9e0d-0a2abab7f28d",
   "metadata": {},
   "outputs": [],
   "source": []
  },
  {
   "cell_type": "code",
   "execution_count": 122,
   "id": "e07cd645-cb80-49ed-bfd0-9e84ef145f81",
   "metadata": {},
   "outputs": [],
   "source": [
    "from datetime import datetime\n",
    "\n",
    "metadata = {\n",
    "    'date': datetime.now(),\n",
    "    'data': '''\n",
    "        COVID-19 Data Repository by the \n",
    "        Center for Systems Science and Engineering (CSSE) \n",
    "        at Johns Hopkins University'\n",
    "        ''',\n",
    "    'author': 'Tarek Atwan',\n",
    "    'version': 1.0,\n",
    "    'function': covid_by_country,\n",
    "    'example_df' : us_past_120_days,\n",
    "    'example_plot': plot_example\n",
    "}\n",
    "\n",
    "file_path = Path('../../datasets/Ch4/covid_data.pkl')\n",
    "\n",
    "with open(file_path, 'wb') as file:\n",
    "    pickle.dump(metadata, file)"
   ]
  },
  {
   "cell_type": "code",
   "execution_count": 123,
   "id": "73aef365-0be4-4766-9bdb-98f0be6eaa99",
   "metadata": {},
   "outputs": [
    {
     "data": {
      "text/plain": [
       "dict_keys(['date', 'data', 'author', 'version', 'function', 'example_df', 'example_plot'])"
      ]
     },
     "execution_count": 123,
     "metadata": {},
     "output_type": "execute_result"
    }
   ],
   "source": [
    "with open(file_path, 'rb') as file:\n",
    "    content = pickle.load(file)\n",
    "content.keys()"
   ]
  },
  {
   "cell_type": "code",
   "execution_count": 119,
   "id": "280c1432-0352-4629-aab8-92fbd14296b2",
   "metadata": {},
   "outputs": [
    {
     "data": {
      "text/plain": [
       "2023-03-05    4903524\n",
       "2023-03-06    4903524\n",
       "2023-03-07    4903524\n",
       "2023-03-08    4903524\n",
       "2023-03-09    4903524\n",
       "dtype: int64"
      ]
     },
     "execution_count": 119,
     "metadata": {},
     "output_type": "execute_result"
    }
   ],
   "source": [
    "file_path =\\\n",
    "Path('../../datasets/Ch4/time_series_covid19_confirmed_global.csv')\n",
    "\n",
    "loaded_func = content['function']\n",
    "loaded_func(file_path, 120, 'China').tail()"
   ]
  },
  {
   "cell_type": "code",
   "execution_count": 124,
   "id": "40683457-427d-4603-8b8d-0a2571859005",
   "metadata": {},
   "outputs": [
    {
     "data": {
      "text/plain": [
       "2023-03-05    103646975\n",
       "2023-03-06    103655539\n",
       "2023-03-07    103690910\n",
       "2023-03-08    103755771\n",
       "2023-03-09    103802702\n",
       "dtype: int64"
      ]
     },
     "execution_count": 124,
     "metadata": {},
     "output_type": "execute_result"
    }
   ],
   "source": [
    "loaded_df = content['example_df']\n",
    "loaded_df.tail()"
   ]
  },
  {
   "cell_type": "code",
   "execution_count": 126,
   "id": "6d20072b-3b1e-40a2-96c5-4638bc0c085c",
   "metadata": {},
   "outputs": [
    {
     "data": {
      "image/png": "[encoded data removed]",
      "text/plain": [
       "<Figure size 640x480 with 1 Axes>"
      ]
     },
     "execution_count": 126,
     "metadata": {},
     "output_type": "execute_result"
    }
   ],
   "source": [
    "loaded_plot = content['example_plot']\n",
    "loaded_plot.get_figure()"
   ]
  },
  {
   "cell_type": "code",
   "execution_count": 95,
   "id": "fe8add49-08d3-4146-bbb1-9d0862ed02c9",
   "metadata": {},
   "outputs": [
    {
     "data": {
      "text/plain": [
       "5"
      ]
     },
     "execution_count": 95,
     "metadata": {},
     "output_type": "execute_result"
    }
   ],
   "source": [
    "pickle.HIGHEST_PROTOCOL"
   ]
  },
  {
   "cell_type": "markdown",
   "id": "7cfd144c-a97f-409f-a707-d014eef41a52",
   "metadata": {},
   "source": [
    "# Recipe 2: Writing as CSV and other delimited files"
   ]
  },
  {
   "cell_type": "code",
   "execution_count": 130,
   "id": "fe3b484a-2797-42b1-89ea-2747a6cc221d",
   "metadata": {},
   "outputs": [
    {
     "data": {
      "text/html": [
       "<div>\n",
       "<style scoped>\n",
       "    .dataframe tbody tr th:only-of-type {\n",
       "        vertical-align: middle;\n",
       "    }\n",
       "\n",
       "    .dataframe tbody tr th {\n",
       "        vertical-align: top;\n",
       "    }\n",
       "\n",
       "    .dataframe thead th {\n",
       "        text-align: right;\n",
       "    }\n",
       "</style>\n",
       "<table border=\"1\" class=\"dataframe\">\n",
       "  <thead>\n",
       "    <tr style=\"text-align: right;\">\n",
       "      <th></th>\n",
       "      <th>Date</th>\n",
       "      <th>DOW</th>\n",
       "      <th>Rank</th>\n",
       "      <th>Daily</th>\n",
       "      <th>Percent Change</th>\n",
       "      <th>Diff (k)</th>\n",
       "      <th>Forecast</th>\n",
       "      <th>Percent Diff</th>\n",
       "      <th>Theaters</th>\n",
       "      <th>To Date</th>\n",
       "      <th>Row ID</th>\n",
       "    </tr>\n",
       "  </thead>\n",
       "  <tbody>\n",
       "    <tr>\n",
       "      <th>0</th>\n",
       "      <td>26-Apr-21</td>\n",
       "      <td>Friday</td>\n",
       "      <td>1</td>\n",
       "      <td>$125,789.89</td>\n",
       "      <td>NaN</td>\n",
       "      <td>-</td>\n",
       "      <td>$235,036.46</td>\n",
       "      <td>-46.48%</td>\n",
       "      <td>1000</td>\n",
       "      <td>$125,789.89</td>\n",
       "      <td>1</td>\n",
       "    </tr>\n",
       "    <tr>\n",
       "      <th>1</th>\n",
       "      <td>27-Apr-21</td>\n",
       "      <td>Saturday</td>\n",
       "      <td>1</td>\n",
       "      <td>$99,374.01</td>\n",
       "      <td>79.00%</td>\n",
       "      <td>-26416</td>\n",
       "      <td>$197,622.55</td>\n",
       "      <td>-49.72%</td>\n",
       "      <td>1000</td>\n",
       "      <td>$225,163.90</td>\n",
       "      <td>2</td>\n",
       "    </tr>\n",
       "    <tr>\n",
       "      <th>2</th>\n",
       "      <td>28-Apr-21</td>\n",
       "      <td>Sunday</td>\n",
       "      <td>1</td>\n",
       "      <td>$82,203.16</td>\n",
       "      <td>82.72%</td>\n",
       "      <td>-17171</td>\n",
       "      <td>$116,991.26</td>\n",
       "      <td>-29.74%</td>\n",
       "      <td>1000</td>\n",
       "      <td>$307,367.06</td>\n",
       "      <td>3</td>\n",
       "    </tr>\n",
       "    <tr>\n",
       "      <th>3</th>\n",
       "      <td>29-Apr-21</td>\n",
       "      <td>Monday</td>\n",
       "      <td>1</td>\n",
       "      <td>$33,530.26</td>\n",
       "      <td>40.79%</td>\n",
       "      <td>-48673</td>\n",
       "      <td>$66,652.65</td>\n",
       "      <td>-49.69%</td>\n",
       "      <td>1000</td>\n",
       "      <td>$340,897.32</td>\n",
       "      <td>4</td>\n",
       "    </tr>\n",
       "    <tr>\n",
       "      <th>4</th>\n",
       "      <td>30-Apr-21</td>\n",
       "      <td>Tuesday</td>\n",
       "      <td>1</td>\n",
       "      <td>$30,105.24</td>\n",
       "      <td>89.79%</td>\n",
       "      <td>-3425</td>\n",
       "      <td>$34,828.19</td>\n",
       "      <td>-13.56%</td>\n",
       "      <td>1000</td>\n",
       "      <td>$371,002.56</td>\n",
       "      <td>5</td>\n",
       "    </tr>\n",
       "    <tr>\n",
       "      <th>...</th>\n",
       "      <td>...</td>\n",
       "      <td>...</td>\n",
       "      <td>...</td>\n",
       "      <td>...</td>\n",
       "      <td>...</td>\n",
       "      <td>...</td>\n",
       "      <td>...</td>\n",
       "      <td>...</td>\n",
       "      <td>...</td>\n",
       "      <td>...</td>\n",
       "      <td>...</td>\n",
       "    </tr>\n",
       "    <tr>\n",
       "      <th>123</th>\n",
       "      <td>27-Aug-21</td>\n",
       "      <td>Tuesday</td>\n",
       "      <td>42</td>\n",
       "      <td>$0.00</td>\n",
       "      <td>29.03%</td>\n",
       "      <td>0</td>\n",
       "      <td>$0.01</td>\n",
       "      <td>-45.07%</td>\n",
       "      <td>100</td>\n",
       "      <td>$752,143.86</td>\n",
       "      <td>124</td>\n",
       "    </tr>\n",
       "    <tr>\n",
       "      <th>124</th>\n",
       "      <td>28-Aug-21</td>\n",
       "      <td>Wednesday</td>\n",
       "      <td>43</td>\n",
       "      <td>$0.00</td>\n",
       "      <td>49.60%</td>\n",
       "      <td>0</td>\n",
       "      <td>$0.00</td>\n",
       "      <td>-32.94%</td>\n",
       "      <td>100</td>\n",
       "      <td>$752,143.87</td>\n",
       "      <td>125</td>\n",
       "    </tr>\n",
       "    <tr>\n",
       "      <th>125</th>\n",
       "      <td>29-Aug-21</td>\n",
       "      <td>Thursday</td>\n",
       "      <td>42</td>\n",
       "      <td>$0.00</td>\n",
       "      <td>29.03%</td>\n",
       "      <td>0</td>\n",
       "      <td>$0.00</td>\n",
       "      <td>-38.06%</td>\n",
       "      <td>100</td>\n",
       "      <td>$752,143.87</td>\n",
       "      <td>126</td>\n",
       "    </tr>\n",
       "    <tr>\n",
       "      <th>126</th>\n",
       "      <td>30-Aug-21</td>\n",
       "      <td>Friday</td>\n",
       "      <td>36</td>\n",
       "      <td>$0.00</td>\n",
       "      <td>49.60%</td>\n",
       "      <td>0</td>\n",
       "      <td>$0.00</td>\n",
       "      <td>-24.58%</td>\n",
       "      <td>100</td>\n",
       "      <td>$752,143.87</td>\n",
       "      <td>127</td>\n",
       "    </tr>\n",
       "    <tr>\n",
       "      <th>127</th>\n",
       "      <td>31-Aug-21</td>\n",
       "      <td>Saturday</td>\n",
       "      <td>34</td>\n",
       "      <td>$0.00</td>\n",
       "      <td>29.03%</td>\n",
       "      <td>0</td>\n",
       "      <td>$0.00</td>\n",
       "      <td>-49.77%</td>\n",
       "      <td>100</td>\n",
       "      <td>$752,143.87</td>\n",
       "      <td>128</td>\n",
       "    </tr>\n",
       "  </tbody>\n",
       "</table>\n",
       "<p>128 rows × 11 columns</p>\n",
       "</div>"
      ],
      "text/plain": [
       "          Date        DOW  Rank          Daily Percent Change Diff (k)  \\\n",
       "0    26-Apr-21     Friday     1   $125,789.89             NaN        -   \n",
       "1    27-Apr-21   Saturday     1    $99,374.01          79.00%   -26416   \n",
       "2    28-Apr-21     Sunday     1    $82,203.16          82.72%   -17171   \n",
       "3    29-Apr-21     Monday     1    $33,530.26          40.79%   -48673   \n",
       "4    30-Apr-21    Tuesday     1    $30,105.24          89.79%    -3425   \n",
       "..         ...        ...   ...            ...            ...      ...   \n",
       "123  27-Aug-21    Tuesday    42         $0.00          29.03%        0   \n",
       "124  28-Aug-21  Wednesday    43         $0.00          49.60%        0   \n",
       "125  29-Aug-21   Thursday    42         $0.00          29.03%        0   \n",
       "126  30-Aug-21     Friday    36         $0.00          49.60%        0   \n",
       "127  31-Aug-21   Saturday    34         $0.00          29.03%        0   \n",
       "\n",
       "          Forecast Percent Diff  Theaters        To Date  Row ID  \n",
       "0     $235,036.46       -46.48%      1000   $125,789.89        1  \n",
       "1     $197,622.55       -49.72%      1000   $225,163.90        2  \n",
       "2     $116,991.26       -29.74%      1000   $307,367.06        3  \n",
       "3      $66,652.65       -49.69%      1000   $340,897.32        4  \n",
       "4      $34,828.19       -13.56%      1000   $371,002.56        5  \n",
       "..             ...          ...       ...            ...     ...  \n",
       "123         $0.01       -45.07%       100   $752,143.86      124  \n",
       "124         $0.00       -32.94%       100   $752,143.87      125  \n",
       "125         $0.00       -38.06%       100   $752,143.87      126  \n",
       "126         $0.00       -24.58%       100   $752,143.87      127  \n",
       "127         $0.00       -49.77%       100   $752,143.87      128  \n",
       "\n",
       "[128 rows x 11 columns]"
      ]
     },
     "execution_count": 130,
     "metadata": {},
     "output_type": "execute_result"
    }
   ],
   "source": [
    "pd.read_csv(filepath)"
   ]
  },
  {
   "cell_type": "code",
   "execution_count": 131,
   "id": "ea95f4fd-961f-4b79-b5c7-f9c68c770dd8",
   "metadata": {},
   "outputs": [
    {
     "name": "stdout",
     "output_type": "stream",
     "text": [
      "<class 'pandas.core.frame.DataFrame'>\n",
      "DatetimeIndex: 128 entries, 2021-04-26 to 2021-08-31\n",
      "Data columns (total 1 columns):\n",
      " #   Column  Non-Null Count  Dtype \n",
      "---  ------  --------------  ----- \n",
      " 0   Daily   128 non-null    object\n",
      "dtypes: object(1)\n",
      "memory usage: 2.0+ KB\n"
     ]
    }
   ],
   "source": [
    "import pandas as pd\n",
    "from pathlib import Path\n",
    "filepath = Path('../../datasets/Ch4/movieboxoffice.csv')\n",
    "\n",
    "movies = pd.read_csv(filepath,\n",
    "                 header=0,\n",
    "                 parse_dates=[0],\n",
    "                 index_col=0,\n",
    "                 usecols=['Date',\n",
    "                          'Daily'],\n",
    "                date_format=\"%d-%b-%y\")\n",
    "movies.info()"
   ]
  },
  {
   "cell_type": "code",
   "execution_count": 132,
   "id": "41fc5436-8c2f-434e-ba0e-8347c676f78f",
   "metadata": {},
   "outputs": [
    {
     "data": {
      "text/html": [
       "<div>\n",
       "<style scoped>\n",
       "    .dataframe tbody tr th:only-of-type {\n",
       "        vertical-align: middle;\n",
       "    }\n",
       "\n",
       "    .dataframe tbody tr th {\n",
       "        vertical-align: top;\n",
       "    }\n",
       "\n",
       "    .dataframe thead th {\n",
       "        text-align: right;\n",
       "    }\n",
       "</style>\n",
       "<table border=\"1\" class=\"dataframe\">\n",
       "  <thead>\n",
       "    <tr style=\"text-align: right;\">\n",
       "      <th></th>\n",
       "      <th>Daily</th>\n",
       "    </tr>\n",
       "    <tr>\n",
       "      <th>Date</th>\n",
       "      <th></th>\n",
       "    </tr>\n",
       "  </thead>\n",
       "  <tbody>\n",
       "    <tr>\n",
       "      <th>2021-04-26</th>\n",
       "      <td>$125,789.89</td>\n",
       "    </tr>\n",
       "    <tr>\n",
       "      <th>2021-04-27</th>\n",
       "      <td>$99,374.01</td>\n",
       "    </tr>\n",
       "    <tr>\n",
       "      <th>2021-04-28</th>\n",
       "      <td>$82,203.16</td>\n",
       "    </tr>\n",
       "    <tr>\n",
       "      <th>2021-04-29</th>\n",
       "      <td>$33,530.26</td>\n",
       "    </tr>\n",
       "    <tr>\n",
       "      <th>2021-04-30</th>\n",
       "      <td>$30,105.24</td>\n",
       "    </tr>\n",
       "  </tbody>\n",
       "</table>\n",
       "</div>"
      ],
      "text/plain": [
       "                    Daily\n",
       "Date                     \n",
       "2021-04-26   $125,789.89 \n",
       "2021-04-27    $99,374.01 \n",
       "2021-04-28    $82,203.16 \n",
       "2021-04-29    $33,530.26 \n",
       "2021-04-30    $30,105.24 "
      ]
     },
     "execution_count": 132,
     "metadata": {},
     "output_type": "execute_result"
    }
   ],
   "source": [
    "movies.head()"
   ]
  },
  {
   "cell_type": "code",
   "execution_count": 133,
   "id": "b06c88f2-25ec-4d42-a8b7-469f4bfc41fc",
   "metadata": {},
   "outputs": [],
   "source": [
    "output = Path('../../datasets/Ch4/df_movies.csv')\n",
    "movies.to_csv(output)"
   ]
  },
  {
   "cell_type": "code",
   "execution_count": 134,
   "id": "49d2d5a3-5dda-432c-a472-c221fb9551c9",
   "metadata": {},
   "outputs": [],
   "source": [
    "output = Path('../../datasets/Ch4/piped_df_movies.csv')\n",
    "movies.to_csv(output, sep='|')"
   ]
  },
  {
   "cell_type": "code",
   "execution_count": 135,
   "id": "ae2a6260-72d5-4f4c-92a0-325c693cc1bc",
   "metadata": {},
   "outputs": [],
   "source": [
    "movies_df = pd.read_csv(output, sep='|')"
   ]
  },
  {
   "cell_type": "code",
   "execution_count": 136,
   "id": "0189ccf5-0646-4180-94da-a45ed484ea2b",
   "metadata": {},
   "outputs": [
    {
     "name": "stdout",
     "output_type": "stream",
     "text": [
      "<class 'pandas.core.frame.DataFrame'>\n",
      "RangeIndex: 128 entries, 0 to 127\n",
      "Data columns (total 2 columns):\n",
      " #   Column  Non-Null Count  Dtype \n",
      "---  ------  --------------  ----- \n",
      " 0   Date    128 non-null    object\n",
      " 1   Daily   128 non-null    object\n",
      "dtypes: object(2)\n",
      "memory usage: 2.1+ KB\n"
     ]
    }
   ],
   "source": [
    "movies_df.info()"
   ]
  },
  {
   "cell_type": "markdown",
   "id": "19a4d644-13af-4cbd-930b-0385c289cf8e",
   "metadata": {},
   "source": [
    "\n",
    "### Special cases when using `.to_csv()`"
   ]
  },
  {
   "cell_type": "code",
   "execution_count": 142,
   "id": "d5e50c98-4bf5-4192-8fd2-7945455be4a2",
   "metadata": {},
   "outputs": [
    {
     "name": "stdout",
     "output_type": "stream",
     "text": [
      "           name         location  net_worth\n",
      "0   Bond, James  Los Angeles, CA      10000\n",
      "1  Smith, James      Phoenix, AZ       9000\n",
      "2  Bacon, Kevin     New York, NY       8000\n"
     ]
    }
   ],
   "source": [
    "import pandas as pd\n",
    "person = pd.DataFrame({\n",
    "     'name': ['Bond, James', 'Smith, James', 'Bacon, Kevin'],\n",
    "     'location': ['Los Angeles, CA', 'Phoenix, AZ', 'New York, NY'],\n",
    "     'net_worth': [10000, 9000, 8000]\n",
    "    })\n",
    "\n",
    "print(person)"
   ]
  },
  {
   "cell_type": "code",
   "execution_count": 138,
   "id": "e2ed15fb-f77d-4c78-9c67-366c58d263bd",
   "metadata": {},
   "outputs": [],
   "source": [
    "person.to_csv('person_a.csv', index=False)"
   ]
  },
  {
   "cell_type": "code",
   "execution_count": null,
   "id": "cd197d4a-92de-4b39-abda-9698af8ad9ac",
   "metadata": {},
   "outputs": [],
   "source": []
  },
  {
   "cell_type": "code",
   "execution_count": null,
   "id": "bc583139-9bd7-49c6-bf47-487506a641d0",
   "metadata": {},
   "outputs": [],
   "source": []
  },
  {
   "cell_type": "code",
   "execution_count": 140,
   "id": "43d3cd79-700b-4f2a-a0b0-36b0f95cedf1",
   "metadata": {},
   "outputs": [
    {
     "data": {
      "text/html": [
       "<div>\n",
       "<style scoped>\n",
       "    .dataframe tbody tr th:only-of-type {\n",
       "        vertical-align: middle;\n",
       "    }\n",
       "\n",
       "    .dataframe tbody tr th {\n",
       "        vertical-align: top;\n",
       "    }\n",
       "\n",
       "    .dataframe thead th {\n",
       "        text-align: right;\n",
       "    }\n",
       "</style>\n",
       "<table border=\"1\" class=\"dataframe\">\n",
       "  <thead>\n",
       "    <tr style=\"text-align: right;\">\n",
       "      <th></th>\n",
       "      <th>name</th>\n",
       "      <th>location</th>\n",
       "      <th>net_worth</th>\n",
       "    </tr>\n",
       "  </thead>\n",
       "  <tbody>\n",
       "    <tr>\n",
       "      <th>0</th>\n",
       "      <td>Bond, James</td>\n",
       "      <td>Los Angeles, CA</td>\n",
       "      <td>10000</td>\n",
       "    </tr>\n",
       "    <tr>\n",
       "      <th>1</th>\n",
       "      <td>Smith, James</td>\n",
       "      <td>Phoenix, AZ</td>\n",
       "      <td>9000</td>\n",
       "    </tr>\n",
       "    <tr>\n",
       "      <th>2</th>\n",
       "      <td>Bacon, Kevin</td>\n",
       "      <td>New York, NY</td>\n",
       "      <td>8000</td>\n",
       "    </tr>\n",
       "  </tbody>\n",
       "</table>\n",
       "</div>"
      ],
      "text/plain": [
       "           name         location  net_worth\n",
       "0   Bond, James  Los Angeles, CA      10000\n",
       "1  Smith, James      Phoenix, AZ       9000\n",
       "2  Bacon, Kevin     New York, NY       8000"
      ]
     },
     "execution_count": 140,
     "metadata": {},
     "output_type": "execute_result"
    }
   ],
   "source": [
    "pd.read_csv('person_a.csv')"
   ]
  },
  {
   "cell_type": "code",
   "execution_count": 141,
   "id": "ba330bb2-9ec3-4165-a143-d48b78c8ca33",
   "metadata": {},
   "outputs": [],
   "source": [
    "import csv\n",
    "\n",
    "person.to_csv('person_b.csv', \n",
    "               index=False, \n",
    "               quoting=csv.QUOTE_ALL)\n",
    "\n",
    "person.to_csv('person_c.csv', \n",
    "               index=False, \n",
    "               quoting=csv.QUOTE_MINIMAL)\n",
    "\n",
    "person.to_csv('person_d.csv', \n",
    "               index=False, \n",
    "               quoting= csv.QUOTE_NONNUMERIC)\n",
    "\n",
    "person.to_csv('person_e.csv', \n",
    "               index=False, \n",
    "               quoting= csv.QUOTE_NONE, escapechar='\\t')"
   ]
  },
  {
   "cell_type": "markdown",
   "id": "91db8aa7-95b5-4219-a130-465d8dca583e",
   "metadata": {},
   "source": [
    "# Recipe 3: Writing data to an Excel file"
   ]
  },
  {
   "cell_type": "markdown",
   "id": "b348ab72-2d41-4318-a124-9a877f20cec4",
   "metadata": {},
   "source": [
    "In the *Reading data from an Excel file* recipe in **Chapter 2**, *Reading Time Series Data from Files*, you were instructed to install `openpyxl` for the read engine. For this recipe, you will be using the same openpyxl for the write engine.  \n",
    "\n",
    "* To install `openpyxl` using `conda`, run the following:\n",
    "\n",
    "```\n",
    "conda install openpyxl\n",
    "```\n",
    "* You can also use `pip`:\n",
    "\n",
    "```\n",
    "pip install openpyxl\n",
    "```"
   ]
  },
  {
   "cell_type": "code",
   "execution_count": 1,
   "id": "b29eba17-2bdc-4788-8b6c-31ded2b0b369",
   "metadata": {},
   "outputs": [],
   "source": [
    "import openpyxl\n",
    "# import xlsxwriter"
   ]
  },
  {
   "cell_type": "code",
   "execution_count": 2,
   "id": "37b7cd98-423f-432e-8506-c666c6ba3cf6",
   "metadata": {},
   "outputs": [
    {
     "name": "stdout",
     "output_type": "stream",
     "text": [
      "3.1.4\n"
     ]
    }
   ],
   "source": [
    "print(openpyxl.__version__)\n",
    "# print(xlsxwriter.__version__)"
   ]
  },
  {
   "cell_type": "code",
   "execution_count": null,
   "id": "64ed2247-6e28-4611-986d-7776f05df45b",
   "metadata": {},
   "outputs": [],
   "source": []
  },
  {
   "cell_type": "code",
   "execution_count": null,
   "id": "f4f0ae8e-0366-44ab-8127-4a131e57c18a",
   "metadata": {},
   "outputs": [],
   "source": []
  },
  {
   "cell_type": "code",
   "execution_count": 3,
   "id": "f048b630-f24d-485e-a0de-f51e515b3482",
   "metadata": {},
   "outputs": [],
   "source": [
    "import pandas as pd\n",
    "from pathlib import Path\n",
    "\n",
    "filepath = Path('../../datasets/Ch4/movieboxoffice.csv')\n",
    "\n",
    "movies = pd.read_csv(filepath,\n",
    "                 header=0,\n",
    "                 parse_dates=[0],\n",
    "                 index_col=0,\n",
    "                 usecols=['Date',\n",
    "                          'Daily'],\n",
    "                date_format=\"%d-%b-%y\")\n"
   ]
  },
  {
   "cell_type": "code",
   "execution_count": 8,
   "id": "b486e05e-7d4b-49e2-bf8d-a190bbdd717f",
   "metadata": {},
   "outputs": [],
   "source": [
    "output = Path('../../datasets/Ch4/daily_boxoffice.xlsx')\n",
    "\n",
    "movies.to_excel(output,\n",
    "               sheet_name='movies_data',\n",
    "               engine='openpyxl', index=True) # default engine for xlsx files"
   ]
  },
  {
   "cell_type": "code",
   "execution_count": 9,
   "id": "ae58dc1c-de1e-43f2-8d4d-a38f35830ff6",
   "metadata": {},
   "outputs": [
    {
     "name": "stdout",
     "output_type": "stream",
     "text": [
      "<class 'pandas.core.frame.DataFrame'>\n",
      "DatetimeIndex: 128 entries, 2021-04-26 to 2021-08-31\n",
      "Data columns (total 1 columns):\n",
      " #   Column  Non-Null Count  Dtype \n",
      "---  ------  --------------  ----- \n",
      " 0   Daily   128 non-null    object\n",
      "dtypes: object(1)\n",
      "memory usage: 2.0+ KB\n"
     ]
    }
   ],
   "source": [
    "movies.info()"
   ]
  },
  {
   "cell_type": "code",
   "execution_count": 10,
   "id": "86b62279-0eae-43ad-bfcb-824120a0ab83",
   "metadata": {},
   "outputs": [
    {
     "data": {
      "text/html": [
       "<div>\n",
       "<style scoped>\n",
       "    .dataframe tbody tr th:only-of-type {\n",
       "        vertical-align: middle;\n",
       "    }\n",
       "\n",
       "    .dataframe tbody tr th {\n",
       "        vertical-align: top;\n",
       "    }\n",
       "\n",
       "    .dataframe thead th {\n",
       "        text-align: right;\n",
       "    }\n",
       "</style>\n",
       "<table border=\"1\" class=\"dataframe\">\n",
       "  <thead>\n",
       "    <tr style=\"text-align: right;\">\n",
       "      <th></th>\n",
       "      <th>Date</th>\n",
       "      <th>Daily</th>\n",
       "    </tr>\n",
       "  </thead>\n",
       "  <tbody>\n",
       "    <tr>\n",
       "      <th>0</th>\n",
       "      <td>2021-04-26</td>\n",
       "      <td>$125,789.89</td>\n",
       "    </tr>\n",
       "    <tr>\n",
       "      <th>1</th>\n",
       "      <td>2021-04-27</td>\n",
       "      <td>$99,374.01</td>\n",
       "    </tr>\n",
       "    <tr>\n",
       "      <th>2</th>\n",
       "      <td>2021-04-28</td>\n",
       "      <td>$82,203.16</td>\n",
       "    </tr>\n",
       "    <tr>\n",
       "      <th>3</th>\n",
       "      <td>2021-04-29</td>\n",
       "      <td>$33,530.26</td>\n",
       "    </tr>\n",
       "    <tr>\n",
       "      <th>4</th>\n",
       "      <td>2021-04-30</td>\n",
       "      <td>$30,105.24</td>\n",
       "    </tr>\n",
       "  </tbody>\n",
       "</table>\n",
       "</div>"
      ],
      "text/plain": [
       "        Date          Daily\n",
       "0 2021-04-26   $125,789.89 \n",
       "1 2021-04-27    $99,374.01 \n",
       "2 2021-04-28    $82,203.16 \n",
       "3 2021-04-29    $33,530.26 \n",
       "4 2021-04-30    $30,105.24 "
      ]
     },
     "execution_count": 10,
     "metadata": {},
     "output_type": "execute_result"
    }
   ],
   "source": [
    "pd.read_excel(output).head()"
   ]
  },
  {
   "cell_type": "code",
   "execution_count": null,
   "id": "a8fe550d-a054-40b4-adc0-e317b605e838",
   "metadata": {},
   "outputs": [],
   "source": []
  },
  {
   "cell_type": "code",
   "execution_count": 22,
   "id": "6f716d04-7a03-4dba-b46c-2825bdcd4f20",
   "metadata": {},
   "outputs": [],
   "source": [
    "date_format = 'MM-DD-YYYY'\n",
    "\n",
    "with pd.ExcelWriter(output,  \n",
    "                    engine='openpyxl',\n",
    "                    mode='a',\n",
    "                    date_format = 'YYYY-MM-DD',\n",
    "                   if_sheet_exists='replace') as writer:\n",
    "    \n",
    "    # wr = writer\n",
    "    \n",
    "    movies.to_excel(writer, sheet_name='movies_fixed_dates', index=True)"
   ]
  },
  {
   "cell_type": "code",
   "execution_count": null,
   "id": "b1ff4916-a72f-49cd-9187-4520a3f79b5e",
   "metadata": {},
   "outputs": [],
   "source": []
  },
  {
   "cell_type": "code",
   "execution_count": null,
   "id": "8f7c5414-c1cd-4685-b8a4-e05f06611bf2",
   "metadata": {},
   "outputs": [],
   "source": []
  },
  {
   "cell_type": "code",
   "execution_count": 19,
   "id": "c703bf74-ba6e-4114-a66e-c5e6f8243b67",
   "metadata": {},
   "outputs": [
    {
     "data": {
      "text/plain": [
       "'YYYY-MM-DD HH:MM:SS'"
      ]
     },
     "execution_count": 19,
     "metadata": {},
     "output_type": "execute_result"
    }
   ],
   "source": [
    "wr.datetime_format"
   ]
  },
  {
   "cell_type": "code",
   "execution_count": 23,
   "id": "906e38bb-dcd5-4eb7-8df5-ac65913b4943",
   "metadata": {},
   "outputs": [],
   "source": [
    "date_format = 'MM-DD-YYYY'\n",
    "\n",
    "with pd.ExcelWriter(output,  \n",
    "                    engine='openpyxl',\n",
    "                    mode='a',\n",
    "                   if_sheet_exists='new') as writer:\n",
    "    # writer.datetime_format = date_format\n",
    "    movies.to_excel(writer, sheet_name='movies_fixed_dates')"
   ]
  },
  {
   "cell_type": "code",
   "execution_count": 24,
   "id": "51755f18-ad96-4e87-bd0f-2ee40d48c008",
   "metadata": {},
   "outputs": [
    {
     "data": {
      "text/html": [
       "<div>\n",
       "<style scoped>\n",
       "    .dataframe tbody tr th:only-of-type {\n",
       "        vertical-align: middle;\n",
       "    }\n",
       "\n",
       "    .dataframe tbody tr th {\n",
       "        vertical-align: top;\n",
       "    }\n",
       "\n",
       "    .dataframe thead th {\n",
       "        text-align: right;\n",
       "    }\n",
       "</style>\n",
       "<table border=\"1\" class=\"dataframe\">\n",
       "  <thead>\n",
       "    <tr style=\"text-align: right;\">\n",
       "      <th></th>\n",
       "      <th>Daily</th>\n",
       "      <th>Month</th>\n",
       "    </tr>\n",
       "    <tr>\n",
       "      <th>Date</th>\n",
       "      <th></th>\n",
       "      <th></th>\n",
       "    </tr>\n",
       "  </thead>\n",
       "  <tbody>\n",
       "    <tr>\n",
       "      <th>2021-04-26</th>\n",
       "      <td>$125,789.89</td>\n",
       "      <td>April</td>\n",
       "    </tr>\n",
       "    <tr>\n",
       "      <th>2021-04-27</th>\n",
       "      <td>$99,374.01</td>\n",
       "      <td>April</td>\n",
       "    </tr>\n",
       "    <tr>\n",
       "      <th>2021-04-28</th>\n",
       "      <td>$82,203.16</td>\n",
       "      <td>April</td>\n",
       "    </tr>\n",
       "    <tr>\n",
       "      <th>2021-04-29</th>\n",
       "      <td>$33,530.26</td>\n",
       "      <td>April</td>\n",
       "    </tr>\n",
       "    <tr>\n",
       "      <th>2021-04-30</th>\n",
       "      <td>$30,105.24</td>\n",
       "      <td>April</td>\n",
       "    </tr>\n",
       "  </tbody>\n",
       "</table>\n",
       "</div>"
      ],
      "text/plain": [
       "                    Daily  Month\n",
       "Date                            \n",
       "2021-04-26   $125,789.89   April\n",
       "2021-04-27    $99,374.01   April\n",
       "2021-04-28    $82,203.16   April\n",
       "2021-04-29    $33,530.26   April\n",
       "2021-04-30    $30,105.24   April"
      ]
     },
     "execution_count": 24,
     "metadata": {},
     "output_type": "execute_result"
    }
   ],
   "source": [
    "movies['Month'] = movies.index.month_name()\n",
    "movies.head()"
   ]
  },
  {
   "cell_type": "markdown",
   "id": "abcbeafc-8074-4371-90a0-4e6b8d86b838",
   "metadata": {},
   "source": [
    "### Split the DataFrame into multiple sheets by Month"
   ]
  },
  {
   "cell_type": "code",
   "execution_count": 25,
   "id": "3b26d38b-f442-4183-a218-294ad0eaa9f1",
   "metadata": {},
   "outputs": [],
   "source": [
    "output = Path('../../datasets/Ch4/boxoffice_by_month.xlsx')\n",
    "with pd.ExcelWriter(output,\n",
    "                    engine='openpyxl') as writer:\n",
    "    for month, data in movies.groupby('Month'):\n",
    "        # writer.datetime_format = 'YYYY-MM-DD'\n",
    "        data.to_excel(writer, sheet_name=month)"
   ]
  },
  {
   "cell_type": "markdown",
   "id": "f04e4669-e0ba-4b8a-9fb6-b6fb9502ceca",
   "metadata": {},
   "source": [
    "# Recipe 4: Storing Data to S3\n",
    "In this recipe, you will explore writing to AWS S3 using pandas and another approach using the AWS Python SDK. The pandas approach can be used to write files to other cloud storage locations, such as Azure or Google Cloud.\n",
    "\n",
    "In the *Reading data from a URL* recipe in **Chapter 2**, *Reading Time Series Data from Files*, you were instructed to install boto3 and s3fs in order to read from AWS S3 buckets. In this recipe, you will be leveraging the same libraries.\n",
    "\n",
    "* To install using pip, you can use this:\n",
    "\n",
    "```\n",
    "pip install boto3 s3fs\n",
    "```\n",
    "\n",
    "* To install using conda, you can use this:\n",
    "\n",
    "```\n",
    "conda install boto3 s3fs -y\n",
    "```"
   ]
  },
  {
   "cell_type": "code",
   "execution_count": null,
   "id": "c6a734cc-f8e0-4c27-aea4-777fd06235b1",
   "metadata": {},
   "outputs": [],
   "source": [
    "import configparser\n",
    "config = configparser.ConfigParser()\n",
    "config.read('aws.cfg')\n",
    "\n",
    "AWS_ACCESS_KEY = config['AWS']['aws_access_key']\n",
    "AWS_SECRET_KEY = config['AWS']['aws_secret_key']"
   ]
  },
  {
   "cell_type": "code",
   "execution_count": null,
   "id": "417785e4-e0ca-4709-8cba-02f2ab1c862f",
   "metadata": {},
   "outputs": [],
   "source": [
    "import pandas as pd\n",
    "from pathlib import Path\n",
    "source = \"../../datasets/Ch4/boxoffice_by_month.xlsx\"\n",
    "movies = pd.concat(pd.read_excel(source,\n",
    "             sheet_name=None,\n",
    "             index_col='Date',\n",
    "             parse_dates=True)).droplevel(0)"
   ]
  },
  {
   "cell_type": "code",
   "execution_count": null,
   "id": "fd57a54b-27fc-4efc-adb7-e9b26f83500f",
   "metadata": {},
   "outputs": [],
   "source": [
    "movies.to_excel('s3://tscookbook/movies.xlsx',\n",
    "                sheet_name='Sheet1',\n",
    "                storage_options={'key': AWS_ACCESS_KEY,\n",
    "                                 'secret': AWS_SECRET_KEY})\n",
    "\n",
    "movies.to_csv('s3://tscookbook-private/movies.csv',\n",
    "               storage_options={'key': AWS_ACCESS_KEY,\n",
    "                                'secret': AWS_SECRET_KEY})\n"
   ]
  },
  {
   "cell_type": "markdown",
   "id": "e3d1b4e2-656e-4ab1-b1c3-48cd5b984bec",
   "metadata": {},
   "source": [
    "## There is more\n",
    "#### Using Boto3 and StringIO"
   ]
  },
  {
   "cell_type": "code",
   "execution_count": null,
   "id": "c884cf44-4a5e-46ed-a1c0-3e94117acba9",
   "metadata": {},
   "outputs": [],
   "source": [
    "import boto3\n",
    "from io import StringIO\n",
    "\n",
    "bucket = \"tscookbook-private\"\n",
    "s3_client = boto3.resource(\"s3\",\n",
    "            aws_access_key_id = AWS_ACCESS_KEY,\n",
    "            aws_secret_access_key = AWS_SECRET_KEY)\n",
    "\n",
    "with StringIO() as in_memory_buffer:\n",
    "    movies.to_csv(in_memory_buffer)\n",
    "    response = s3_client.Object(bucket, 'new_df.csv').put(Body=in_memory_buffer.getvalue())\n",
    "    status = response['ResponseMetadata']['HTTPStatusCode']\n",
    "    if status == 200:\n",
    "        print('Successful Write')\n",
    "    else:\n",
    "        print('Unsucessful Write - ', status)\n",
    "    "
   ]
  },
  {
   "cell_type": "code",
   "execution_count": null,
   "id": "4ebed984-0147-492f-8379-a094bc676def",
   "metadata": {},
   "outputs": [],
   "source": []
  }
 ],
 "metadata": {
  "kernelspec": {
   "display_name": "Python [conda env:ts-1]",
   "language": "python",
   "name": "conda-env-ts-1-py"
  },
  "language_info": {
   "codemirror_mode": {
    "name": "ipython",
    "version": 3
   },
   "file_extension": ".py",
   "mimetype": "text/x-python",
   "name": "python",
   "nbconvert_exporter": "python",
   "pygments_lexer": "ipython3",
   "version": "3.11.9"
  }
 },
 "nbformat": 4,
 "nbformat_minor": 5
}
