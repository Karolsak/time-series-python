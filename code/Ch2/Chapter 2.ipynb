{
 "cells": [
  {
   "cell_type": "markdown",
   "id": "cc1f3dac-5f42-4c0d-ae98-80dafb21bc25",
   "metadata": {},
   "source": [
    "# Recipe 1: Reading from CSVs and Other Delimited Files"
   ]
  },
  {
   "cell_type": "code",
   "execution_count": 1,
   "id": "0ecc3461-43e2-4c09-945c-033f8eff4342",
   "metadata": {},
   "outputs": [
    {
     "data": {
      "text/plain": [
       "'2.1.3'"
      ]
     },
     "execution_count": 1,
     "metadata": {},
     "output_type": "execute_result"
    }
   ],
   "source": [
    "import pandas as pd\n",
    "from pathlib import Path\n",
    "pd.__version__"
   ]
  },
  {
   "cell_type": "code",
   "execution_count": 5,
   "id": "ffcaab98-7d62-4f82-97ed-85f8c1d8b820",
   "metadata": {},
   "outputs": [],
   "source": [
    "filepath = Path('../../datasets/Ch2/movieboxoffice.csv')"
   ]
  },
  {
   "cell_type": "code",
   "execution_count": 26,
   "id": "aa33d6f8-d21d-4c67-9231-97593196306d",
   "metadata": {},
   "outputs": [
    {
     "data": {
      "text/html": [
       "<div>\n",
       "<style scoped>\n",
       "    .dataframe tbody tr th:only-of-type {\n",
       "        vertical-align: middle;\n",
       "    }\n",
       "\n",
       "    .dataframe tbody tr th {\n",
       "        vertical-align: top;\n",
       "    }\n",
       "\n",
       "    .dataframe thead th {\n",
       "        text-align: right;\n",
       "    }\n",
       "</style>\n",
       "<table border=\"1\" class=\"dataframe\">\n",
       "  <thead>\n",
       "    <tr style=\"text-align: right;\">\n",
       "      <th></th>\n",
       "      <th>DOW</th>\n",
       "      <th>Daily</th>\n",
       "      <th>Forecast</th>\n",
       "      <th>Percent Diff</th>\n",
       "    </tr>\n",
       "    <tr>\n",
       "      <th>Date</th>\n",
       "      <th></th>\n",
       "      <th></th>\n",
       "      <th></th>\n",
       "      <th></th>\n",
       "    </tr>\n",
       "  </thead>\n",
       "  <tbody>\n",
       "    <tr>\n",
       "      <th>2021-04-26</th>\n",
       "      <td>Friday</td>\n",
       "      <td>$125,789.89</td>\n",
       "      <td>$235,036.46</td>\n",
       "      <td>-46.48%</td>\n",
       "    </tr>\n",
       "    <tr>\n",
       "      <th>2021-04-27</th>\n",
       "      <td>Saturday</td>\n",
       "      <td>$99,374.01</td>\n",
       "      <td>$197,622.55</td>\n",
       "      <td>-49.72%</td>\n",
       "    </tr>\n",
       "    <tr>\n",
       "      <th>2021-04-28</th>\n",
       "      <td>Sunday</td>\n",
       "      <td>$82,203.16</td>\n",
       "      <td>$116,991.26</td>\n",
       "      <td>-29.74%</td>\n",
       "    </tr>\n",
       "    <tr>\n",
       "      <th>2021-04-29</th>\n",
       "      <td>Monday</td>\n",
       "      <td>$33,530.26</td>\n",
       "      <td>$66,652.65</td>\n",
       "      <td>-49.69%</td>\n",
       "    </tr>\n",
       "    <tr>\n",
       "      <th>2021-04-30</th>\n",
       "      <td>Tuesday</td>\n",
       "      <td>$30,105.24</td>\n",
       "      <td>$34,828.19</td>\n",
       "      <td>-13.56%</td>\n",
       "    </tr>\n",
       "  </tbody>\n",
       "</table>\n",
       "</div>"
      ],
      "text/plain": [
       "                 DOW         Daily      Forecast Percent Diff\n",
       "Date                                                         \n",
       "2021-04-26    Friday  $125,789.89   $235,036.46       -46.48%\n",
       "2021-04-27  Saturday   $99,374.01   $197,622.55       -49.72%\n",
       "2021-04-28    Sunday   $82,203.16   $116,991.26       -29.74%\n",
       "2021-04-29    Monday   $33,530.26    $66,652.65       -49.69%\n",
       "2021-04-30   Tuesday   $30,105.24    $34,828.19       -13.56%"
      ]
     },
     "execution_count": 26,
     "metadata": {},
     "output_type": "execute_result"
    }
   ],
   "source": [
    "# read movieboxoffice.csv data and parse the Date column (first column) as date\n",
    "ts = pd.read_csv(filepath,\n",
    "                 header=0,\n",
    "                 parse_dates=[0],\n",
    "                 index_col=0,\n",
    "                 usecols=['Date',\n",
    "                          'DOW',\n",
    "                          'Daily',\n",
    "                          'Forecast',\n",
    "                          'Percent Diff'])\n",
    "ts.head()"
   ]
  },
  {
   "cell_type": "code",
   "execution_count": 27,
   "id": "14b0182e-98be-4c79-8db9-2ed76a182813",
   "metadata": {},
   "outputs": [
    {
     "name": "stdout",
     "output_type": "stream",
     "text": [
      "<class 'pandas.core.frame.DataFrame'>\n",
      "DatetimeIndex: 128 entries, 2021-04-26 to 2021-08-31\n",
      "Data columns (total 4 columns):\n",
      " #   Column        Non-Null Count  Dtype \n",
      "---  ------        --------------  ----- \n",
      " 0   DOW           128 non-null    object\n",
      " 1   Daily         128 non-null    object\n",
      " 2   Forecast      128 non-null    object\n",
      " 3   Percent Diff  128 non-null    object\n",
      "dtypes: object(4)\n",
      "memory usage: 5.0+ KB\n"
     ]
    }
   ],
   "source": [
    "ts.info()"
   ]
  },
  {
   "cell_type": "markdown",
   "id": "07775018-5134-4ec4-ac7b-68b5634eb9ad",
   "metadata": {},
   "source": [
    "**Data Cleanup**"
   ]
  },
  {
   "cell_type": "code",
   "execution_count": 28,
   "id": "2a6ef6a8-65c9-472d-9c71-1bbc74402ea0",
   "metadata": {},
   "outputs": [
    {
     "data": {
      "text/plain": [
       "DOW             object\n",
       "Daily           object\n",
       "Forecast        object\n",
       "Percent Diff    object\n",
       "dtype: object"
      ]
     },
     "execution_count": 28,
     "metadata": {},
     "output_type": "execute_result"
    }
   ],
   "source": [
    "ts.dtypes"
   ]
  },
  {
   "cell_type": "code",
   "execution_count": 29,
   "id": "df34d125-5ad8-41c2-a6c4-09145605891b",
   "metadata": {},
   "outputs": [],
   "source": [
    "clean = lambda x: x.str.replace('[^\\\\d]', '', regex=True)                                                      \n",
    "c_df = ts[['Daily', 'Forecast']].apply(clean, axis=1)\n",
    "ts[['Daily', 'Forecast']] = c_df.astype(float)                         "
   ]
  },
  {
   "cell_type": "code",
   "execution_count": 30,
   "id": "ae90d0a0-02e4-4a48-8bed-2fea8d612252",
   "metadata": {},
   "outputs": [
    {
     "data": {
      "text/html": [
       "<div>\n",
       "<style scoped>\n",
       "    .dataframe tbody tr th:only-of-type {\n",
       "        vertical-align: middle;\n",
       "    }\n",
       "\n",
       "    .dataframe tbody tr th {\n",
       "        vertical-align: top;\n",
       "    }\n",
       "\n",
       "    .dataframe thead th {\n",
       "        text-align: right;\n",
       "    }\n",
       "</style>\n",
       "<table border=\"1\" class=\"dataframe\">\n",
       "  <thead>\n",
       "    <tr style=\"text-align: right;\">\n",
       "      <th></th>\n",
       "      <th>DOW</th>\n",
       "      <th>Daily</th>\n",
       "      <th>Forecast</th>\n",
       "      <th>Percent Diff</th>\n",
       "    </tr>\n",
       "    <tr>\n",
       "      <th>Date</th>\n",
       "      <th></th>\n",
       "      <th></th>\n",
       "      <th></th>\n",
       "      <th></th>\n",
       "    </tr>\n",
       "  </thead>\n",
       "  <tbody>\n",
       "    <tr>\n",
       "      <th>2021-04-26</th>\n",
       "      <td>Friday</td>\n",
       "      <td>12578989.0</td>\n",
       "      <td>23503646.0</td>\n",
       "      <td>-46.48%</td>\n",
       "    </tr>\n",
       "    <tr>\n",
       "      <th>2021-04-27</th>\n",
       "      <td>Saturday</td>\n",
       "      <td>9937401.0</td>\n",
       "      <td>19762255.0</td>\n",
       "      <td>-49.72%</td>\n",
       "    </tr>\n",
       "    <tr>\n",
       "      <th>2021-04-28</th>\n",
       "      <td>Sunday</td>\n",
       "      <td>8220316.0</td>\n",
       "      <td>11699126.0</td>\n",
       "      <td>-29.74%</td>\n",
       "    </tr>\n",
       "    <tr>\n",
       "      <th>2021-04-29</th>\n",
       "      <td>Monday</td>\n",
       "      <td>3353026.0</td>\n",
       "      <td>6665265.0</td>\n",
       "      <td>-49.69%</td>\n",
       "    </tr>\n",
       "    <tr>\n",
       "      <th>2021-04-30</th>\n",
       "      <td>Tuesday</td>\n",
       "      <td>3010524.0</td>\n",
       "      <td>3482819.0</td>\n",
       "      <td>-13.56%</td>\n",
       "    </tr>\n",
       "  </tbody>\n",
       "</table>\n",
       "</div>"
      ],
      "text/plain": [
       "                 DOW       Daily    Forecast Percent Diff\n",
       "Date                                                     \n",
       "2021-04-26    Friday  12578989.0  23503646.0      -46.48%\n",
       "2021-04-27  Saturday   9937401.0  19762255.0      -49.72%\n",
       "2021-04-28    Sunday   8220316.0  11699126.0      -29.74%\n",
       "2021-04-29    Monday   3353026.0   6665265.0      -49.69%\n",
       "2021-04-30   Tuesday   3010524.0   3482819.0      -13.56%"
      ]
     },
     "execution_count": 30,
     "metadata": {},
     "output_type": "execute_result"
    }
   ],
   "source": [
    "ts.head()"
   ]
  },
  {
   "cell_type": "code",
   "execution_count": 31,
   "id": "3fa8c60e-c65e-48af-b6f7-86644492d107",
   "metadata": {},
   "outputs": [
    {
     "name": "stdout",
     "output_type": "stream",
     "text": [
      "<class 'pandas.core.frame.DataFrame'>\n",
      "DatetimeIndex: 128 entries, 2021-04-26 to 2021-08-31\n",
      "Data columns (total 4 columns):\n",
      " #   Column        Non-Null Count  Dtype  \n",
      "---  ------        --------------  -----  \n",
      " 0   DOW           128 non-null    object \n",
      " 1   Daily         128 non-null    float64\n",
      " 2   Forecast      128 non-null    float64\n",
      " 3   Percent Diff  128 non-null    object \n",
      "dtypes: float64(2), object(2)\n",
      "memory usage: 5.0+ KB\n"
     ]
    }
   ],
   "source": [
    "ts.info()"
   ]
  },
  {
   "cell_type": "code",
   "execution_count": 32,
   "id": "367af7b5-e8e3-4fc6-aa25-48ab82c4eead",
   "metadata": {},
   "outputs": [
    {
     "data": {
      "text/plain": [
       "Index           1024\n",
       "DOW             1024\n",
       "Daily           1024\n",
       "Forecast        1024\n",
       "Percent Diff    1024\n",
       "dtype: int64"
      ]
     },
     "execution_count": 32,
     "metadata": {},
     "output_type": "execute_result"
    }
   ],
   "source": [
    "ts.memory_usage()"
   ]
  },
  {
   "cell_type": "code",
   "execution_count": 33,
   "id": "a8928d19-436c-4d5a-a662-c157ceb14496",
   "metadata": {},
   "outputs": [
    {
     "data": {
      "text/plain": [
       "5120"
      ]
     },
     "execution_count": 33,
     "metadata": {},
     "output_type": "execute_result"
    }
   ],
   "source": [
    "ts.memory_usage().sum()"
   ]
  },
  {
   "cell_type": "markdown",
   "id": "e6212e1e-caf4-47e9-b8f3-2db31a9ebcd8",
   "metadata": {},
   "source": [
    "## Using `date_parser`"
   ]
  },
  {
   "cell_type": "code",
   "execution_count": 34,
   "id": "5b4759cf-8747-405f-ba15-77cd10493a4c",
   "metadata": {},
   "outputs": [
    {
     "data": {
      "text/plain": [
       "DOW              object\n",
       "Daily           float64\n",
       "Forecast        float64\n",
       "Percent Diff     object\n",
       "dtype: object"
      ]
     },
     "execution_count": 34,
     "metadata": {},
     "output_type": "execute_result"
    }
   ],
   "source": [
    "ts.dtypes"
   ]
  },
  {
   "cell_type": "markdown",
   "id": "e40a1e0f-1554-4940-8ca8-45f0ae1c7730",
   "metadata": {},
   "source": [
    "using the `date_format` parameter "
   ]
  },
  {
   "cell_type": "code",
   "execution_count": 62,
   "id": "83304c00-6b36-410c-9511-ba072dc830fc",
   "metadata": {},
   "outputs": [
    {
     "data": {
      "text/html": [
       "<div>\n",
       "<style scoped>\n",
       "    .dataframe tbody tr th:only-of-type {\n",
       "        vertical-align: middle;\n",
       "    }\n",
       "\n",
       "    .dataframe tbody tr th {\n",
       "        vertical-align: top;\n",
       "    }\n",
       "\n",
       "    .dataframe thead th {\n",
       "        text-align: right;\n",
       "    }\n",
       "</style>\n",
       "<table border=\"1\" class=\"dataframe\">\n",
       "  <thead>\n",
       "    <tr style=\"text-align: right;\">\n",
       "      <th></th>\n",
       "      <th>DOW</th>\n",
       "      <th>Daily</th>\n",
       "      <th>Forecast</th>\n",
       "      <th>Percent Diff</th>\n",
       "    </tr>\n",
       "    <tr>\n",
       "      <th>Date</th>\n",
       "      <th></th>\n",
       "      <th></th>\n",
       "      <th></th>\n",
       "      <th></th>\n",
       "    </tr>\n",
       "  </thead>\n",
       "  <tbody>\n",
       "    <tr>\n",
       "      <th>2021-04-26</th>\n",
       "      <td>Friday</td>\n",
       "      <td>$125,789.89</td>\n",
       "      <td>$235,036.46</td>\n",
       "      <td>-46.48%</td>\n",
       "    </tr>\n",
       "    <tr>\n",
       "      <th>2021-04-27</th>\n",
       "      <td>Saturday</td>\n",
       "      <td>$99,374.01</td>\n",
       "      <td>$197,622.55</td>\n",
       "      <td>-49.72%</td>\n",
       "    </tr>\n",
       "    <tr>\n",
       "      <th>2021-04-28</th>\n",
       "      <td>Sunday</td>\n",
       "      <td>$82,203.16</td>\n",
       "      <td>$116,991.26</td>\n",
       "      <td>-29.74%</td>\n",
       "    </tr>\n",
       "    <tr>\n",
       "      <th>2021-04-29</th>\n",
       "      <td>Monday</td>\n",
       "      <td>$33,530.26</td>\n",
       "      <td>$66,652.65</td>\n",
       "      <td>-49.69%</td>\n",
       "    </tr>\n",
       "    <tr>\n",
       "      <th>2021-04-30</th>\n",
       "      <td>Tuesday</td>\n",
       "      <td>$30,105.24</td>\n",
       "      <td>$34,828.19</td>\n",
       "      <td>-13.56%</td>\n",
       "    </tr>\n",
       "  </tbody>\n",
       "</table>\n",
       "</div>"
      ],
      "text/plain": [
       "                 DOW         Daily      Forecast Percent Diff\n",
       "Date                                                         \n",
       "2021-04-26    Friday  $125,789.89   $235,036.46       -46.48%\n",
       "2021-04-27  Saturday   $99,374.01   $197,622.55       -49.72%\n",
       "2021-04-28    Sunday   $82,203.16   $116,991.26       -29.74%\n",
       "2021-04-29    Monday   $33,530.26    $66,652.65       -49.69%\n",
       "2021-04-30   Tuesday   $30,105.24    $34,828.19       -13.56%"
      ]
     },
     "execution_count": 62,
     "metadata": {},
     "output_type": "execute_result"
    }
   ],
   "source": [
    "ts = pd.read_csv(filepath,\n",
    "                 parse_dates=[0],\n",
    "                 index_col=0,\n",
    "                 date_format=\"%d-%b-%Y\",\n",
    "                 usecols=[0,1,3, 7, 6])\n",
    "ts.head()"
   ]
  },
  {
   "cell_type": "code",
   "execution_count": 63,
   "id": "bc4ca0c9-d5b5-41f4-a88c-f22dfe30fbbf",
   "metadata": {},
   "outputs": [
    {
     "name": "stdout",
     "output_type": "stream",
     "text": [
      "<class 'pandas.core.frame.DataFrame'>\n",
      "DatetimeIndex: 128 entries, 2021-04-26 to 2021-08-31\n",
      "Data columns (total 4 columns):\n",
      " #   Column        Non-Null Count  Dtype \n",
      "---  ------        --------------  ----- \n",
      " 0   DOW           128 non-null    object\n",
      " 1   Daily         128 non-null    object\n",
      " 2   Forecast      128 non-null    object\n",
      " 3   Percent Diff  128 non-null    object\n",
      "dtypes: object(4)\n",
      "memory usage: 5.0+ KB\n"
     ]
    }
   ],
   "source": [
    "ts.info()"
   ]
  },
  {
   "cell_type": "markdown",
   "id": "1034a0fe-0229-45fa-aab6-8a45cfda4f3e",
   "metadata": {},
   "source": [
    "Using `pd.to_datetime()` function"
   ]
  },
  {
   "cell_type": "code",
   "execution_count": 64,
   "id": "2c9db14f-c912-424e-8fcd-a2011e752a57",
   "metadata": {},
   "outputs": [
    {
     "name": "stdout",
     "output_type": "stream",
     "text": [
      "<class 'pandas.core.frame.DataFrame'>\n",
      "DatetimeIndex: 128 entries, 2021-04-26 to 2021-08-31\n",
      "Data columns (total 4 columns):\n",
      " #   Column        Non-Null Count  Dtype \n",
      "---  ------        --------------  ----- \n",
      " 0   DOW           128 non-null    object\n",
      " 1   Daily         128 non-null    object\n",
      " 2   Forecast      128 non-null    object\n",
      " 3   Percent Diff  128 non-null    object\n",
      "dtypes: object(4)\n",
      "memory usage: 5.0+ KB\n"
     ]
    }
   ],
   "source": [
    "ts = pd.read_csv(filepath,\n",
    "                 index_col=0,\n",
    "                 usecols=[0,1,3, 7, 6])\n",
    "\n",
    "ts.index = pd.to_datetime(ts.index, format=\"%d-%b-%Y\")\n",
    "ts.info()"
   ]
  },
  {
   "cell_type": "code",
   "execution_count": 56,
   "id": "ee32b5de-0b27-4512-8aab-d0c5ebfad850",
   "metadata": {
    "tags": []
   },
   "outputs": [],
   "source": [
    "# NOTE: date_parser is deprecated since version 2.0.0 \n",
    "\n",
    "# date_parser = lambda x: pd.to_datetime(x, format=\"%d-%b-%Y\")\n",
    "# ts = pd.read_csv(filepath,\n",
    "#                  parse_dates=[0],\n",
    "#                  index_col=0,\n",
    "#                  date_parser=date_parser,\n",
    "#                  usecols=[0,1,3, 7, 6])\n",
    "# ts.head()"
   ]
  },
  {
   "cell_type": "code",
   "execution_count": 65,
   "id": "676c865c-16fe-4907-bfed-7a90f3a271fc",
   "metadata": {},
   "outputs": [
    {
     "name": "stderr",
     "output_type": "stream",
     "text": [
      "/var/folders/48/j6k669vx63qd_68k2_502cl40000gn/T/ipykernel_49104/2409208136.py:1: FutureWarning: The argument 'infer_datetime_format' is deprecated and will be removed in a future version. A strict version of it is now the default, see https://pandas.pydata.org/pdeps/0004-consistent-to-datetime-parsing.html. You can safely remove this argument.\n",
      "  ts = pd.read_csv(filepath,\n"
     ]
    },
    {
     "data": {
      "text/html": [
       "<div>\n",
       "<style scoped>\n",
       "    .dataframe tbody tr th:only-of-type {\n",
       "        vertical-align: middle;\n",
       "    }\n",
       "\n",
       "    .dataframe tbody tr th {\n",
       "        vertical-align: top;\n",
       "    }\n",
       "\n",
       "    .dataframe thead th {\n",
       "        text-align: right;\n",
       "    }\n",
       "</style>\n",
       "<table border=\"1\" class=\"dataframe\">\n",
       "  <thead>\n",
       "    <tr style=\"text-align: right;\">\n",
       "      <th></th>\n",
       "      <th>DOW</th>\n",
       "      <th>Daily</th>\n",
       "      <th>Forecast</th>\n",
       "      <th>Percent Diff</th>\n",
       "    </tr>\n",
       "    <tr>\n",
       "      <th>Date</th>\n",
       "      <th></th>\n",
       "      <th></th>\n",
       "      <th></th>\n",
       "      <th></th>\n",
       "    </tr>\n",
       "  </thead>\n",
       "  <tbody>\n",
       "    <tr>\n",
       "      <th>2021-04-26</th>\n",
       "      <td>Friday</td>\n",
       "      <td>$125,789.89</td>\n",
       "      <td>$235,036.46</td>\n",
       "      <td>-46.48%</td>\n",
       "    </tr>\n",
       "    <tr>\n",
       "      <th>2021-04-27</th>\n",
       "      <td>Saturday</td>\n",
       "      <td>$99,374.01</td>\n",
       "      <td>$197,622.55</td>\n",
       "      <td>-49.72%</td>\n",
       "    </tr>\n",
       "    <tr>\n",
       "      <th>2021-04-28</th>\n",
       "      <td>Sunday</td>\n",
       "      <td>$82,203.16</td>\n",
       "      <td>$116,991.26</td>\n",
       "      <td>-29.74%</td>\n",
       "    </tr>\n",
       "    <tr>\n",
       "      <th>2021-04-29</th>\n",
       "      <td>Monday</td>\n",
       "      <td>$33,530.26</td>\n",
       "      <td>$66,652.65</td>\n",
       "      <td>-49.69%</td>\n",
       "    </tr>\n",
       "    <tr>\n",
       "      <th>2021-04-30</th>\n",
       "      <td>Tuesday</td>\n",
       "      <td>$30,105.24</td>\n",
       "      <td>$34,828.19</td>\n",
       "      <td>-13.56%</td>\n",
       "    </tr>\n",
       "  </tbody>\n",
       "</table>\n",
       "</div>"
      ],
      "text/plain": [
       "                 DOW         Daily      Forecast Percent Diff\n",
       "Date                                                         \n",
       "2021-04-26    Friday  $125,789.89   $235,036.46       -46.48%\n",
       "2021-04-27  Saturday   $99,374.01   $197,622.55       -49.72%\n",
       "2021-04-28    Sunday   $82,203.16   $116,991.26       -29.74%\n",
       "2021-04-29    Monday   $33,530.26    $66,652.65       -49.69%\n",
       "2021-04-30   Tuesday   $30,105.24    $34,828.19       -13.56%"
      ]
     },
     "execution_count": 65,
     "metadata": {},
     "output_type": "execute_result"
    }
   ],
   "source": [
    "ts = pd.read_csv(filepath,\n",
    "                 header=0,\n",
    "                 parse_dates=['Date'],\n",
    "                 index_col=0,\n",
    "                 infer_datetime_format= True, # infer_datetime_format is deprecated since version 2.0.0 (already the default)\n",
    "                 usecols=['Date',\n",
    "                          'DOW',\n",
    "                          'Daily',\n",
    "                          'Forecast',\n",
    "                          'Percent Diff'])\n",
    "ts.head()"
   ]
  },
  {
   "cell_type": "markdown",
   "id": "c1f2c015-77b6-4e59-b300-79df45c13c9f",
   "metadata": {
    "tags": []
   },
   "source": [
    "# Recipe 2: Reading data from an Excel file\n",
    "* Learn how to read data from Excel files using pandas \n",
    "* Learn how to read from multiple sheets into DataFrames"
   ]
  },
  {
   "cell_type": "markdown",
   "id": "6c348d1b-52a6-4a3a-9a7e-7fb4facba5fe",
   "metadata": {},
   "source": [
    "* To install openpyxl using conda, run the following command in the terminal:\n",
    "\n",
    "```\n",
    "conda install openpyxl\n",
    "```\n",
    "* To install using pip, run the following command:\n",
    "\n",
    "```\n",
    "pip install openpyxl\n",
    "```"
   ]
  },
  {
   "cell_type": "code",
   "execution_count": 21,
   "id": "aff3d06e-12de-4cc9-9785-ff2548c434ed",
   "metadata": {},
   "outputs": [],
   "source": [
    "#!conda install openpyxl -y\n",
    "#!pip install openpyxl"
   ]
  },
  {
   "cell_type": "code",
   "execution_count": 66,
   "id": "a4610e13-c484-4b65-af84-bc33da9c9ea4",
   "metadata": {},
   "outputs": [],
   "source": [
    "import pandas as pd\n",
    "from pathlib import Path\n",
    "filepath = Path('../../datasets/Ch2/sales_trx_data.xlsx')"
   ]
  },
  {
   "cell_type": "code",
   "execution_count": 67,
   "id": "93768b2a-bc9e-4a6a-8f72-cfdf6ec017f4",
   "metadata": {},
   "outputs": [
    {
     "data": {
      "text/plain": [
       "'3.1.2'"
      ]
     },
     "execution_count": 67,
     "metadata": {},
     "output_type": "execute_result"
    }
   ],
   "source": [
    "import openpyxl\n",
    "openpyxl.__version__"
   ]
  },
  {
   "cell_type": "code",
   "execution_count": 68,
   "id": "63bbe7dd-7677-4642-88a3-37c2861a031f",
   "metadata": {},
   "outputs": [
    {
     "data": {
      "text/plain": [
       "['2017', '2018']"
      ]
     },
     "execution_count": 68,
     "metadata": {},
     "output_type": "execute_result"
    }
   ],
   "source": [
    "excelfile = pd.ExcelFile(filepath)\n",
    "excelfile.sheet_names"
   ]
  },
  {
   "cell_type": "code",
   "execution_count": 69,
   "id": "ce1c5c12-a858-4438-92dd-bc4b03b344e0",
   "metadata": {},
   "outputs": [
    {
     "data": {
      "text/html": [
       "<div>\n",
       "<style scoped>\n",
       "    .dataframe tbody tr th:only-of-type {\n",
       "        vertical-align: middle;\n",
       "    }\n",
       "\n",
       "    .dataframe tbody tr th {\n",
       "        vertical-align: top;\n",
       "    }\n",
       "\n",
       "    .dataframe thead th {\n",
       "        text-align: right;\n",
       "    }\n",
       "</style>\n",
       "<table border=\"1\" class=\"dataframe\">\n",
       "  <thead>\n",
       "    <tr style=\"text-align: right;\">\n",
       "      <th></th>\n",
       "      <th>Line_Item_ID</th>\n",
       "      <th>Date</th>\n",
       "      <th>Credit_Card_Number</th>\n",
       "      <th>Quantity</th>\n",
       "      <th>Menu_Item</th>\n",
       "    </tr>\n",
       "  </thead>\n",
       "  <tbody>\n",
       "    <tr>\n",
       "      <th>0</th>\n",
       "      <td>1</td>\n",
       "      <td>2017-01-01</td>\n",
       "      <td>7437926611570790</td>\n",
       "      <td>1</td>\n",
       "      <td>spicy miso ramen</td>\n",
       "    </tr>\n",
       "    <tr>\n",
       "      <th>1</th>\n",
       "      <td>2</td>\n",
       "      <td>2017-01-01</td>\n",
       "      <td>7437926611570790</td>\n",
       "      <td>1</td>\n",
       "      <td>spicy miso ramen</td>\n",
       "    </tr>\n",
       "    <tr>\n",
       "      <th>2</th>\n",
       "      <td>3</td>\n",
       "      <td>2017-01-01</td>\n",
       "      <td>8421920068932810</td>\n",
       "      <td>3</td>\n",
       "      <td>tori paitan ramen</td>\n",
       "    </tr>\n",
       "    <tr>\n",
       "      <th>3</th>\n",
       "      <td>4</td>\n",
       "      <td>2017-01-01</td>\n",
       "      <td>8421920068932810</td>\n",
       "      <td>3</td>\n",
       "      <td>tori paitan ramen</td>\n",
       "    </tr>\n",
       "    <tr>\n",
       "      <th>4</th>\n",
       "      <td>5</td>\n",
       "      <td>2017-01-01</td>\n",
       "      <td>4787310681569640</td>\n",
       "      <td>1</td>\n",
       "      <td>truffle butter ramen</td>\n",
       "    </tr>\n",
       "    <tr>\n",
       "      <th>...</th>\n",
       "      <td>...</td>\n",
       "      <td>...</td>\n",
       "      <td>...</td>\n",
       "      <td>...</td>\n",
       "      <td>...</td>\n",
       "    </tr>\n",
       "    <tr>\n",
       "      <th>36759</th>\n",
       "      <td>36760</td>\n",
       "      <td>2017-12-31</td>\n",
       "      <td>3149176814183170</td>\n",
       "      <td>4</td>\n",
       "      <td>vegetarian curry + king trumpet mushroom ramen</td>\n",
       "    </tr>\n",
       "    <tr>\n",
       "      <th>36760</th>\n",
       "      <td>36761</td>\n",
       "      <td>2017-12-31</td>\n",
       "      <td>2005206728506200</td>\n",
       "      <td>1</td>\n",
       "      <td>tonkotsu ramen</td>\n",
       "    </tr>\n",
       "    <tr>\n",
       "      <th>36761</th>\n",
       "      <td>36762</td>\n",
       "      <td>2017-12-31</td>\n",
       "      <td>2005206728506200</td>\n",
       "      <td>1</td>\n",
       "      <td>tonkotsu ramen</td>\n",
       "    </tr>\n",
       "    <tr>\n",
       "      <th>36762</th>\n",
       "      <td>36763</td>\n",
       "      <td>2017-12-31</td>\n",
       "      <td>1130414909788170</td>\n",
       "      <td>2</td>\n",
       "      <td>soft-shell miso crab ramen</td>\n",
       "    </tr>\n",
       "    <tr>\n",
       "      <th>36763</th>\n",
       "      <td>36764</td>\n",
       "      <td>2017-12-31</td>\n",
       "      <td>1130414909788170</td>\n",
       "      <td>2</td>\n",
       "      <td>soft-shell miso crab ramen</td>\n",
       "    </tr>\n",
       "  </tbody>\n",
       "</table>\n",
       "<p>36764 rows × 5 columns</p>\n",
       "</div>"
      ],
      "text/plain": [
       "       Line_Item_ID       Date  Credit_Card_Number  Quantity  \\\n",
       "0                 1 2017-01-01    7437926611570790         1   \n",
       "1                 2 2017-01-01    7437926611570790         1   \n",
       "2                 3 2017-01-01    8421920068932810         3   \n",
       "3                 4 2017-01-01    8421920068932810         3   \n",
       "4                 5 2017-01-01    4787310681569640         1   \n",
       "...             ...        ...                 ...       ...   \n",
       "36759         36760 2017-12-31    3149176814183170         4   \n",
       "36760         36761 2017-12-31    2005206728506200         1   \n",
       "36761         36762 2017-12-31    2005206728506200         1   \n",
       "36762         36763 2017-12-31    1130414909788170         2   \n",
       "36763         36764 2017-12-31    1130414909788170         2   \n",
       "\n",
       "                                            Menu_Item  \n",
       "0                                    spicy miso ramen  \n",
       "1                                    spicy miso ramen  \n",
       "2                                   tori paitan ramen  \n",
       "3                                   tori paitan ramen  \n",
       "4                                truffle butter ramen  \n",
       "...                                               ...  \n",
       "36759  vegetarian curry + king trumpet mushroom ramen  \n",
       "36760                                  tonkotsu ramen  \n",
       "36761                                  tonkotsu ramen  \n",
       "36762                      soft-shell miso crab ramen  \n",
       "36763                      soft-shell miso crab ramen  \n",
       "\n",
       "[36764 rows x 5 columns]"
      ]
     },
     "execution_count": 69,
     "metadata": {},
     "output_type": "execute_result"
    }
   ],
   "source": [
    "excelfile.parse('2017')"
   ]
  },
  {
   "cell_type": "code",
   "execution_count": 70,
   "id": "9d46ccf9-8921-44ac-823e-e58836d6cb84",
   "metadata": {},
   "outputs": [
    {
     "data": {
      "text/plain": [
       "dict_keys([0, 1])"
      ]
     },
     "execution_count": 70,
     "metadata": {},
     "output_type": "execute_result"
    }
   ],
   "source": [
    "ts = pd.read_excel(filepath,\n",
    "                    engine='openpyxl',\n",
    "                    index_col=1,\n",
    "                    sheet_name=[0,1],\n",
    "                    parse_dates=True)\n",
    "ts.keys()"
   ]
  },
  {
   "cell_type": "code",
   "execution_count": 71,
   "id": "6e845a34-f261-4abd-a7ca-d7b78cf036b7",
   "metadata": {},
   "outputs": [
    {
     "data": {
      "text/plain": [
       "dict_keys(['2017', '2018'])"
      ]
     },
     "execution_count": 71,
     "metadata": {},
     "output_type": "execute_result"
    }
   ],
   "source": [
    "ts = pd.read_excel(filepath,\n",
    "                    engine='openpyxl',\n",
    "                    index_col=1,\n",
    "                    sheet_name=['2017','2018'],\n",
    "                    parse_dates=True)\n",
    "ts.keys()"
   ]
  },
  {
   "cell_type": "code",
   "execution_count": 72,
   "id": "0fc089c3-cfeb-4ad4-8dd9-e032b3e4b5a8",
   "metadata": {},
   "outputs": [
    {
     "data": {
      "text/plain": [
       "dict_keys(['2017', '2018'])"
      ]
     },
     "execution_count": 72,
     "metadata": {},
     "output_type": "execute_result"
    }
   ],
   "source": [
    "ts = pd.read_excel(filepath,\n",
    "                    engine='openpyxl',\n",
    "                    index_col=1,\n",
    "                    sheet_name=None,\n",
    "                    parse_dates=True)\n",
    "ts.keys()"
   ]
  },
  {
   "cell_type": "code",
   "execution_count": 73,
   "id": "532a5897-53eb-475f-914c-5a6c38c0f442",
   "metadata": {},
   "outputs": [
    {
     "name": "stdout",
     "output_type": "stream",
     "text": [
      "<class 'pandas.core.frame.DataFrame'>\n",
      "DatetimeIndex: 36764 entries, 2017-01-01 to 2017-12-31\n",
      "Data columns (total 4 columns):\n",
      " #   Column              Non-Null Count  Dtype \n",
      "---  ------              --------------  ----- \n",
      " 0   Line_Item_ID        36764 non-null  int64 \n",
      " 1   Credit_Card_Number  36764 non-null  int64 \n",
      " 2   Quantity            36764 non-null  int64 \n",
      " 3   Menu_Item           36764 non-null  object\n",
      "dtypes: int64(3), object(1)\n",
      "memory usage: 1.4+ MB\n"
     ]
    }
   ],
   "source": [
    "ts['2017'].info()"
   ]
  },
  {
   "cell_type": "code",
   "execution_count": 74,
   "id": "acd9b6a2-e291-4172-8310-027fbda6c880",
   "metadata": {},
   "outputs": [
    {
     "name": "stdout",
     "output_type": "stream",
     "text": [
      "<class 'pandas.core.frame.DataFrame'>\n",
      "DatetimeIndex: 37360 entries, 2018-01-01 to 2018-12-31\n",
      "Data columns (total 4 columns):\n",
      " #   Column              Non-Null Count  Dtype \n",
      "---  ------              --------------  ----- \n",
      " 0   Line_Item_ID        37360 non-null  int64 \n",
      " 1   Credit_Card_Number  37360 non-null  int64 \n",
      " 2   Quantity            37360 non-null  int64 \n",
      " 3   Menu_Item           37360 non-null  object\n",
      "dtypes: int64(3), object(1)\n",
      "memory usage: 1.4+ MB\n"
     ]
    }
   ],
   "source": [
    "ts['2018'].info()"
   ]
  },
  {
   "cell_type": "code",
   "execution_count": 75,
   "id": "8bb16eb6-c6e7-4e27-aa5f-4c8003ace5a0",
   "metadata": {},
   "outputs": [],
   "source": [
    "ts_combined = pd.concat([ts['2017'],ts['2018']])"
   ]
  },
  {
   "cell_type": "code",
   "execution_count": 76,
   "id": "966a7f86-abce-49ca-846d-3f1f2f9f02d6",
   "metadata": {},
   "outputs": [
    {
     "name": "stdout",
     "output_type": "stream",
     "text": [
      "<class 'pandas.core.frame.DataFrame'>\n",
      "DatetimeIndex: 74124 entries, 2017-01-01 to 2018-12-31\n",
      "Data columns (total 4 columns):\n",
      " #   Column              Non-Null Count  Dtype \n",
      "---  ------              --------------  ----- \n",
      " 0   Line_Item_ID        74124 non-null  int64 \n",
      " 1   Credit_Card_Number  74124 non-null  int64 \n",
      " 2   Quantity            74124 non-null  int64 \n",
      " 3   Menu_Item           74124 non-null  object\n",
      "dtypes: int64(3), object(1)\n",
      "memory usage: 2.8+ MB\n"
     ]
    }
   ],
   "source": [
    "ts_combined.info()"
   ]
  },
  {
   "cell_type": "code",
   "execution_count": 77,
   "id": "3ddc8ab9-a868-475c-8d88-f6b7113d5892",
   "metadata": {},
   "outputs": [
    {
     "data": {
      "text/plain": [
       "MultiIndex([('2017', '2017-01-01'),\n",
       "            ('2017', '2017-01-01'),\n",
       "            ('2017', '2017-01-01'),\n",
       "            ('2017', '2017-01-01'),\n",
       "            ('2017', '2017-01-01'),\n",
       "            ('2017', '2017-01-01'),\n",
       "            ('2017', '2017-01-01'),\n",
       "            ('2017', '2017-01-01'),\n",
       "            ('2017', '2017-01-01'),\n",
       "            ('2017', '2017-01-01'),\n",
       "            ...\n",
       "            ('2018', '2018-12-31'),\n",
       "            ('2018', '2018-12-31'),\n",
       "            ('2018', '2018-12-31'),\n",
       "            ('2018', '2018-12-31'),\n",
       "            ('2018', '2018-12-31'),\n",
       "            ('2018', '2018-12-31'),\n",
       "            ('2018', '2018-12-31'),\n",
       "            ('2018', '2018-12-31'),\n",
       "            ('2018', '2018-12-31'),\n",
       "            ('2018', '2018-12-31')],\n",
       "           names=[None, 'Date'], length=74124)"
      ]
     },
     "execution_count": 77,
     "metadata": {},
     "output_type": "execute_result"
    }
   ],
   "source": [
    "pd.concat(ts).index"
   ]
  },
  {
   "cell_type": "code",
   "execution_count": 78,
   "id": "c5e27638-bd4f-418f-95c9-da6c552e973c",
   "metadata": {},
   "outputs": [
    {
     "data": {
      "text/html": [
       "<div>\n",
       "<style scoped>\n",
       "    .dataframe tbody tr th:only-of-type {\n",
       "        vertical-align: middle;\n",
       "    }\n",
       "\n",
       "    .dataframe tbody tr th {\n",
       "        vertical-align: top;\n",
       "    }\n",
       "\n",
       "    .dataframe thead th {\n",
       "        text-align: right;\n",
       "    }\n",
       "</style>\n",
       "<table border=\"1\" class=\"dataframe\">\n",
       "  <thead>\n",
       "    <tr style=\"text-align: right;\">\n",
       "      <th></th>\n",
       "      <th>Line_Item_ID</th>\n",
       "      <th>Credit_Card_Number</th>\n",
       "      <th>Quantity</th>\n",
       "      <th>Menu_Item</th>\n",
       "    </tr>\n",
       "    <tr>\n",
       "      <th>Date</th>\n",
       "      <th></th>\n",
       "      <th></th>\n",
       "      <th></th>\n",
       "      <th></th>\n",
       "    </tr>\n",
       "  </thead>\n",
       "  <tbody>\n",
       "    <tr>\n",
       "      <th>2017-01-01</th>\n",
       "      <td>1</td>\n",
       "      <td>7437926611570790</td>\n",
       "      <td>1</td>\n",
       "      <td>spicy miso ramen</td>\n",
       "    </tr>\n",
       "    <tr>\n",
       "      <th>2017-01-01</th>\n",
       "      <td>2</td>\n",
       "      <td>7437926611570790</td>\n",
       "      <td>1</td>\n",
       "      <td>spicy miso ramen</td>\n",
       "    </tr>\n",
       "    <tr>\n",
       "      <th>2017-01-01</th>\n",
       "      <td>3</td>\n",
       "      <td>8421920068932810</td>\n",
       "      <td>3</td>\n",
       "      <td>tori paitan ramen</td>\n",
       "    </tr>\n",
       "    <tr>\n",
       "      <th>2017-01-01</th>\n",
       "      <td>4</td>\n",
       "      <td>8421920068932810</td>\n",
       "      <td>3</td>\n",
       "      <td>tori paitan ramen</td>\n",
       "    </tr>\n",
       "    <tr>\n",
       "      <th>2017-01-01</th>\n",
       "      <td>5</td>\n",
       "      <td>4787310681569640</td>\n",
       "      <td>1</td>\n",
       "      <td>truffle butter ramen</td>\n",
       "    </tr>\n",
       "  </tbody>\n",
       "</table>\n",
       "</div>"
      ],
      "text/plain": [
       "            Line_Item_ID  Credit_Card_Number  Quantity             Menu_Item\n",
       "Date                                                                        \n",
       "2017-01-01             1    7437926611570790         1      spicy miso ramen\n",
       "2017-01-01             2    7437926611570790         1      spicy miso ramen\n",
       "2017-01-01             3    8421920068932810         3     tori paitan ramen\n",
       "2017-01-01             4    8421920068932810         3     tori paitan ramen\n",
       "2017-01-01             5    4787310681569640         1  truffle butter ramen"
      ]
     },
     "execution_count": 78,
     "metadata": {},
     "output_type": "execute_result"
    }
   ],
   "source": [
    "ts_combined = pd.concat(ts).droplevel(level=0)\n",
    "ts_combined.head()"
   ]
  },
  {
   "cell_type": "code",
   "execution_count": 79,
   "id": "31b66f18-eead-4210-b3f0-05e57fa12ba4",
   "metadata": {},
   "outputs": [
    {
     "data": {
      "text/plain": [
       "pandas.core.frame.DataFrame"
      ]
     },
     "execution_count": 79,
     "metadata": {},
     "output_type": "execute_result"
    }
   ],
   "source": [
    "ts = pd.read_excel(filepath,\n",
    "                   index_col=1,\n",
    "                   sheet_name='2018',\n",
    "                   parse_dates=True)\n",
    "type(ts)"
   ]
  },
  {
   "cell_type": "markdown",
   "id": "1de33298-bccc-4d86-a827-39b8bc4d8376",
   "metadata": {},
   "source": [
    "## There is more\n",
    "* Using `ExcelFile`"
   ]
  },
  {
   "cell_type": "code",
   "execution_count": 80,
   "id": "1655b775-cd6c-4f28-8ed4-7e8b89e0e460",
   "metadata": {},
   "outputs": [
    {
     "data": {
      "text/html": [
       "<div>\n",
       "<style scoped>\n",
       "    .dataframe tbody tr th:only-of-type {\n",
       "        vertical-align: middle;\n",
       "    }\n",
       "\n",
       "    .dataframe tbody tr th {\n",
       "        vertical-align: top;\n",
       "    }\n",
       "\n",
       "    .dataframe thead th {\n",
       "        text-align: right;\n",
       "    }\n",
       "</style>\n",
       "<table border=\"1\" class=\"dataframe\">\n",
       "  <thead>\n",
       "    <tr style=\"text-align: right;\">\n",
       "      <th></th>\n",
       "      <th>Line_Item_ID</th>\n",
       "      <th>Credit_Card_Number</th>\n",
       "      <th>Quantity</th>\n",
       "      <th>Menu_Item</th>\n",
       "    </tr>\n",
       "    <tr>\n",
       "      <th>Date</th>\n",
       "      <th></th>\n",
       "      <th></th>\n",
       "      <th></th>\n",
       "      <th></th>\n",
       "    </tr>\n",
       "  </thead>\n",
       "  <tbody>\n",
       "    <tr>\n",
       "      <th>2017-01-01</th>\n",
       "      <td>1</td>\n",
       "      <td>7437926611570790</td>\n",
       "      <td>1</td>\n",
       "      <td>spicy miso ramen</td>\n",
       "    </tr>\n",
       "    <tr>\n",
       "      <th>2017-01-01</th>\n",
       "      <td>2</td>\n",
       "      <td>7437926611570790</td>\n",
       "      <td>1</td>\n",
       "      <td>spicy miso ramen</td>\n",
       "    </tr>\n",
       "    <tr>\n",
       "      <th>2017-01-01</th>\n",
       "      <td>3</td>\n",
       "      <td>8421920068932810</td>\n",
       "      <td>3</td>\n",
       "      <td>tori paitan ramen</td>\n",
       "    </tr>\n",
       "    <tr>\n",
       "      <th>2017-01-01</th>\n",
       "      <td>4</td>\n",
       "      <td>8421920068932810</td>\n",
       "      <td>3</td>\n",
       "      <td>tori paitan ramen</td>\n",
       "    </tr>\n",
       "    <tr>\n",
       "      <th>2017-01-01</th>\n",
       "      <td>5</td>\n",
       "      <td>4787310681569640</td>\n",
       "      <td>1</td>\n",
       "      <td>truffle butter ramen</td>\n",
       "    </tr>\n",
       "  </tbody>\n",
       "</table>\n",
       "</div>"
      ],
      "text/plain": [
       "            Line_Item_ID  Credit_Card_Number  Quantity             Menu_Item\n",
       "Date                                                                        \n",
       "2017-01-01             1    7437926611570790         1      spicy miso ramen\n",
       "2017-01-01             2    7437926611570790         1      spicy miso ramen\n",
       "2017-01-01             3    8421920068932810         3     tori paitan ramen\n",
       "2017-01-01             4    8421920068932810         3     tori paitan ramen\n",
       "2017-01-01             5    4787310681569640         1  truffle butter ramen"
      ]
     },
     "execution_count": 80,
     "metadata": {},
     "output_type": "execute_result"
    }
   ],
   "source": [
    "excelfile = pd.ExcelFile(filepath)\n",
    "excelfile.parse(sheet_name='2017',\n",
    "                index_col=1,\n",
    "                parse_dates=True).head()\n"
   ]
  },
  {
   "cell_type": "markdown",
   "id": "cb565e22-12c8-44c8-8c66-5e7b91f28275",
   "metadata": {},
   "source": [
    "# Recipe 3: Reading data from a URL\n",
    "* Learn how to read data as a DataFrame from GitHub\n",
    "* Learn how to read data as a DataFrame from AWS S3 using `pandas`\n",
    "* Learn how to read an HTML page and extract tables using `pandas`"
   ]
  },
  {
   "cell_type": "code",
   "execution_count": 37,
   "id": "00bf2d0a-389a-4efd-ac70-af9cb4a74fbd",
   "metadata": {},
   "outputs": [],
   "source": [
    "#!conda install boto3 s3fs html5lib lxml -y\n",
    "#!pip install boto3 s3fs html5lib lxml"
   ]
  },
  {
   "cell_type": "markdown",
   "id": "d0d2d40d-e29b-499d-903f-ecf96fdf3b66",
   "metadata": {},
   "source": [
    "* To install using pip, you can use the following command:\n",
    "\n",
    "```\n",
    "pip install boto3 s3fs lxml\n",
    "```\n",
    "\n",
    "* To install using Conda, you can use:\n",
    "\n",
    "```\n",
    "conda install boto3 s3fs lxml -y\n",
    "```"
   ]
  },
  {
   "cell_type": "code",
   "execution_count": 81,
   "id": "0df2d7c3-ef1e-4101-890d-50ce9cfdb9cc",
   "metadata": {},
   "outputs": [],
   "source": [
    "import pandas as pd"
   ]
  },
  {
   "cell_type": "code",
   "execution_count": 82,
   "id": "630d3248-b8a4-4c16-a59b-7b496a7689a8",
   "metadata": {},
   "outputs": [
    {
     "name": "stdout",
     "output_type": "stream",
     "text": [
      "\n",
      "pandas -> 2.1.3\n",
      "boto3 -> 1.29.2\n",
      "s3fs -> 0.4.2\n",
      "lxml -> 4.9.3\n",
      "\n"
     ]
    }
   ],
   "source": [
    "import pandas as pd\n",
    "import boto3, s3fs, lxml\n",
    "print(f'''\n",
    "pandas -> {pd.__version__}\n",
    "boto3 -> {boto3.__version__}\n",
    "s3fs -> {s3fs.__version__}\n",
    "lxml -> {lxml.__version__}\n",
    "''')"
   ]
  },
  {
   "cell_type": "markdown",
   "id": "26f56e5a-a01d-482f-b5b0-e7cf8a677e80",
   "metadata": {},
   "source": [
    "## Reading from GitHub"
   ]
  },
  {
   "cell_type": "code",
   "execution_count": 40,
   "id": "c208b0e8-7f40-4f2b-938b-6b538492cd8b",
   "metadata": {},
   "outputs": [],
   "source": [
    "# example of produced error\n",
    "url = 'https://github.com/PacktPublishing/Time-Series-Analysis-with-Python-Cookbook./blob/main/datasets/Ch2/AirQualityUCI.csv'\n",
    "# pd.read_csv(url)\n"
   ]
  },
  {
   "cell_type": "code",
   "execution_count": 88,
   "id": "1578a313-df89-4d15-81c0-511f50f49c4b",
   "metadata": {},
   "outputs": [
    {
     "data": {
      "text/html": [
       "<div>\n",
       "<style scoped>\n",
       "    .dataframe tbody tr th:only-of-type {\n",
       "        vertical-align: middle;\n",
       "    }\n",
       "\n",
       "    .dataframe tbody tr th {\n",
       "        vertical-align: top;\n",
       "    }\n",
       "\n",
       "    .dataframe thead th {\n",
       "        text-align: right;\n",
       "    }\n",
       "</style>\n",
       "<table border=\"1\" class=\"dataframe\">\n",
       "  <thead>\n",
       "    <tr style=\"text-align: right;\">\n",
       "      <th></th>\n",
       "      <th>CO(GT)</th>\n",
       "      <th>PT08.S1(CO)</th>\n",
       "      <th>NMHC(GT)</th>\n",
       "    </tr>\n",
       "    <tr>\n",
       "      <th>Date</th>\n",
       "      <th></th>\n",
       "      <th></th>\n",
       "      <th></th>\n",
       "    </tr>\n",
       "  </thead>\n",
       "  <tbody>\n",
       "    <tr>\n",
       "      <th>10/03/2004</th>\n",
       "      <td>2.6</td>\n",
       "      <td>1360.00</td>\n",
       "      <td>150</td>\n",
       "    </tr>\n",
       "    <tr>\n",
       "      <th>10/03/2004</th>\n",
       "      <td>2.0</td>\n",
       "      <td>1292.25</td>\n",
       "      <td>112</td>\n",
       "    </tr>\n",
       "    <tr>\n",
       "      <th>10/03/2004</th>\n",
       "      <td>2.2</td>\n",
       "      <td>1402.00</td>\n",
       "      <td>88</td>\n",
       "    </tr>\n",
       "  </tbody>\n",
       "</table>\n",
       "</div>"
      ],
      "text/plain": [
       "            CO(GT)  PT08.S1(CO)  NMHC(GT)\n",
       "Date                                     \n",
       "10/03/2004     2.6      1360.00       150\n",
       "10/03/2004     2.0      1292.25       112\n",
       "10/03/2004     2.2      1402.00        88"
      ]
     },
     "execution_count": 88,
     "metadata": {},
     "output_type": "execute_result"
    }
   ],
   "source": [
    "url = 'https://raw.githubusercontent.com/PacktPublishing/Time-Series-Analysis-with-Python-Cookbook/main/datasets/Ch2/AirQualityUCI.csv'\n",
    "\n",
    "df = pd.read_csv(url,\n",
    "                 delimiter=';',\n",
    "                 parse_dates=['Date'],\n",
    "                 index_col='Date')\n",
    "\n",
    "df.iloc[:3,1:4]"
   ]
  },
  {
   "cell_type": "markdown",
   "id": "c82c8204-6ad5-4f49-8d34-2e5876555773",
   "metadata": {},
   "source": [
    "## Reading from Public S3 Bucket"
   ]
  },
  {
   "cell_type": "markdown",
   "id": "393cb663-ce20-4bca-8ead-a2ec5a59e37f",
   "metadata": {},
   "source": [
    "**Path-style access**"
   ]
  },
  {
   "cell_type": "code",
   "execution_count": 42,
   "id": "88e3c41b-45ba-4170-abd3-fa27b3197b82",
   "metadata": {},
   "outputs": [
    {
     "data": {
      "text/html": [
       "<div>\n",
       "<style scoped>\n",
       "    .dataframe tbody tr th:only-of-type {\n",
       "        vertical-align: middle;\n",
       "    }\n",
       "\n",
       "    .dataframe tbody tr th {\n",
       "        vertical-align: top;\n",
       "    }\n",
       "\n",
       "    .dataframe thead th {\n",
       "        text-align: right;\n",
       "    }\n",
       "</style>\n",
       "<table border=\"1\" class=\"dataframe\">\n",
       "  <thead>\n",
       "    <tr style=\"text-align: right;\">\n",
       "      <th></th>\n",
       "      <th>Time</th>\n",
       "      <th>CO(GT)</th>\n",
       "      <th>PT08.S1(CO)</th>\n",
       "      <th>NMHC(GT)</th>\n",
       "      <th>C6H6(GT)</th>\n",
       "      <th>PT08.S2(NMHC)</th>\n",
       "      <th>NOx(GT)</th>\n",
       "      <th>PT08.S3(NOx)</th>\n",
       "      <th>NO2(GT)</th>\n",
       "      <th>PT08.S4(NO2)</th>\n",
       "      <th>PT08.S5(O3)</th>\n",
       "      <th>T</th>\n",
       "      <th>RH</th>\n",
       "      <th>AH</th>\n",
       "    </tr>\n",
       "    <tr>\n",
       "      <th>Date</th>\n",
       "      <th></th>\n",
       "      <th></th>\n",
       "      <th></th>\n",
       "      <th></th>\n",
       "      <th></th>\n",
       "      <th></th>\n",
       "      <th></th>\n",
       "      <th></th>\n",
       "      <th></th>\n",
       "      <th></th>\n",
       "      <th></th>\n",
       "      <th></th>\n",
       "      <th></th>\n",
       "      <th></th>\n",
       "    </tr>\n",
       "  </thead>\n",
       "  <tbody>\n",
       "    <tr>\n",
       "      <th>2004-03-10</th>\n",
       "      <td>18:00:00</td>\n",
       "      <td>2.6</td>\n",
       "      <td>1360.00</td>\n",
       "      <td>150</td>\n",
       "      <td>11.881723</td>\n",
       "      <td>1045.50</td>\n",
       "      <td>166.0</td>\n",
       "      <td>1056.25</td>\n",
       "      <td>113.0</td>\n",
       "      <td>1692.00</td>\n",
       "      <td>1267.50</td>\n",
       "      <td>13.60</td>\n",
       "      <td>48.875001</td>\n",
       "      <td>0.757754</td>\n",
       "    </tr>\n",
       "    <tr>\n",
       "      <th>2004-03-10</th>\n",
       "      <td>19:00:00</td>\n",
       "      <td>2.0</td>\n",
       "      <td>1292.25</td>\n",
       "      <td>112</td>\n",
       "      <td>9.397165</td>\n",
       "      <td>954.75</td>\n",
       "      <td>103.0</td>\n",
       "      <td>1173.75</td>\n",
       "      <td>92.0</td>\n",
       "      <td>1558.75</td>\n",
       "      <td>972.25</td>\n",
       "      <td>13.30</td>\n",
       "      <td>47.700000</td>\n",
       "      <td>0.725487</td>\n",
       "    </tr>\n",
       "    <tr>\n",
       "      <th>2004-03-10</th>\n",
       "      <td>20:00:00</td>\n",
       "      <td>2.2</td>\n",
       "      <td>1402.00</td>\n",
       "      <td>88</td>\n",
       "      <td>8.997817</td>\n",
       "      <td>939.25</td>\n",
       "      <td>131.0</td>\n",
       "      <td>1140.00</td>\n",
       "      <td>114.0</td>\n",
       "      <td>1554.50</td>\n",
       "      <td>1074.00</td>\n",
       "      <td>11.90</td>\n",
       "      <td>53.975000</td>\n",
       "      <td>0.750239</td>\n",
       "    </tr>\n",
       "    <tr>\n",
       "      <th>2004-03-10</th>\n",
       "      <td>21:00:00</td>\n",
       "      <td>2.2</td>\n",
       "      <td>1375.50</td>\n",
       "      <td>80</td>\n",
       "      <td>9.228796</td>\n",
       "      <td>948.25</td>\n",
       "      <td>172.0</td>\n",
       "      <td>1092.00</td>\n",
       "      <td>122.0</td>\n",
       "      <td>1583.75</td>\n",
       "      <td>1203.25</td>\n",
       "      <td>11.00</td>\n",
       "      <td>60.000000</td>\n",
       "      <td>0.786713</td>\n",
       "    </tr>\n",
       "    <tr>\n",
       "      <th>2004-03-10</th>\n",
       "      <td>22:00:00</td>\n",
       "      <td>1.6</td>\n",
       "      <td>1272.25</td>\n",
       "      <td>51</td>\n",
       "      <td>6.518224</td>\n",
       "      <td>835.50</td>\n",
       "      <td>131.0</td>\n",
       "      <td>1205.00</td>\n",
       "      <td>116.0</td>\n",
       "      <td>1490.00</td>\n",
       "      <td>1110.00</td>\n",
       "      <td>11.15</td>\n",
       "      <td>59.575001</td>\n",
       "      <td>0.788794</td>\n",
       "    </tr>\n",
       "  </tbody>\n",
       "</table>\n",
       "</div>"
      ],
      "text/plain": [
       "                Time  CO(GT)  PT08.S1(CO)  NMHC(GT)   C6H6(GT)  PT08.S2(NMHC)  \\\n",
       "Date                                                                            \n",
       "2004-03-10  18:00:00     2.6      1360.00       150  11.881723        1045.50   \n",
       "2004-03-10  19:00:00     2.0      1292.25       112   9.397165         954.75   \n",
       "2004-03-10  20:00:00     2.2      1402.00        88   8.997817         939.25   \n",
       "2004-03-10  21:00:00     2.2      1375.50        80   9.228796         948.25   \n",
       "2004-03-10  22:00:00     1.6      1272.25        51   6.518224         835.50   \n",
       "\n",
       "            NOx(GT)  PT08.S3(NOx)  NO2(GT)  PT08.S4(NO2)  PT08.S5(O3)      T  \\\n",
       "Date                                                                           \n",
       "2004-03-10    166.0       1056.25    113.0       1692.00      1267.50  13.60   \n",
       "2004-03-10    103.0       1173.75     92.0       1558.75       972.25  13.30   \n",
       "2004-03-10    131.0       1140.00    114.0       1554.50      1074.00  11.90   \n",
       "2004-03-10    172.0       1092.00    122.0       1583.75      1203.25  11.00   \n",
       "2004-03-10    131.0       1205.00    116.0       1490.00      1110.00  11.15   \n",
       "\n",
       "                   RH        AH  \n",
       "Date                             \n",
       "2004-03-10  48.875001  0.757754  \n",
       "2004-03-10  47.700000  0.725487  \n",
       "2004-03-10  53.975000  0.750239  \n",
       "2004-03-10  60.000000  0.786713  \n",
       "2004-03-10  59.575001  0.788794  "
      ]
     },
     "execution_count": 42,
     "metadata": {},
     "output_type": "execute_result"
    }
   ],
   "source": [
    "url = 'https://s3.us-east-1.amazonaws.com/tscookbook/AirQualityUCI.xlsx'\n",
    "\n",
    "df = pd.read_excel(url,\n",
    "                   index_col='Date',\n",
    "                   parse_dates=True)\n",
    "df.head()"
   ]
  },
  {
   "cell_type": "markdown",
   "id": "841a4a4c-1fdd-4acf-b55b-ac07c462148a",
   "metadata": {},
   "source": [
    "**Virtual-hosted–style access**"
   ]
  },
  {
   "cell_type": "code",
   "execution_count": 90,
   "id": "099d08e9-cba3-4ea9-96d2-dc26c92915b8",
   "metadata": {},
   "outputs": [
    {
     "data": {
      "text/html": [
       "<div>\n",
       "<style scoped>\n",
       "    .dataframe tbody tr th:only-of-type {\n",
       "        vertical-align: middle;\n",
       "    }\n",
       "\n",
       "    .dataframe tbody tr th {\n",
       "        vertical-align: top;\n",
       "    }\n",
       "\n",
       "    .dataframe thead th {\n",
       "        text-align: right;\n",
       "    }\n",
       "</style>\n",
       "<table border=\"1\" class=\"dataframe\">\n",
       "  <thead>\n",
       "    <tr style=\"text-align: right;\">\n",
       "      <th></th>\n",
       "      <th>Time</th>\n",
       "      <th>CO(GT)</th>\n",
       "      <th>PT08.S1(CO)</th>\n",
       "      <th>NMHC(GT)</th>\n",
       "      <th>C6H6(GT)</th>\n",
       "      <th>PT08.S2(NMHC)</th>\n",
       "      <th>NOx(GT)</th>\n",
       "      <th>PT08.S3(NOx)</th>\n",
       "      <th>NO2(GT)</th>\n",
       "      <th>PT08.S4(NO2)</th>\n",
       "      <th>PT08.S5(O3)</th>\n",
       "      <th>T</th>\n",
       "      <th>RH</th>\n",
       "      <th>AH</th>\n",
       "    </tr>\n",
       "    <tr>\n",
       "      <th>Date</th>\n",
       "      <th></th>\n",
       "      <th></th>\n",
       "      <th></th>\n",
       "      <th></th>\n",
       "      <th></th>\n",
       "      <th></th>\n",
       "      <th></th>\n",
       "      <th></th>\n",
       "      <th></th>\n",
       "      <th></th>\n",
       "      <th></th>\n",
       "      <th></th>\n",
       "      <th></th>\n",
       "      <th></th>\n",
       "    </tr>\n",
       "  </thead>\n",
       "  <tbody>\n",
       "    <tr>\n",
       "      <th>2004-03-10</th>\n",
       "      <td>18:00:00</td>\n",
       "      <td>2.6</td>\n",
       "      <td>1360.00</td>\n",
       "      <td>150</td>\n",
       "      <td>11.881723</td>\n",
       "      <td>1045.50</td>\n",
       "      <td>166.0</td>\n",
       "      <td>1056.25</td>\n",
       "      <td>113.0</td>\n",
       "      <td>1692.00</td>\n",
       "      <td>1267.50</td>\n",
       "      <td>13.60</td>\n",
       "      <td>48.875001</td>\n",
       "      <td>0.757754</td>\n",
       "    </tr>\n",
       "    <tr>\n",
       "      <th>2004-03-10</th>\n",
       "      <td>19:00:00</td>\n",
       "      <td>2.0</td>\n",
       "      <td>1292.25</td>\n",
       "      <td>112</td>\n",
       "      <td>9.397165</td>\n",
       "      <td>954.75</td>\n",
       "      <td>103.0</td>\n",
       "      <td>1173.75</td>\n",
       "      <td>92.0</td>\n",
       "      <td>1558.75</td>\n",
       "      <td>972.25</td>\n",
       "      <td>13.30</td>\n",
       "      <td>47.700000</td>\n",
       "      <td>0.725487</td>\n",
       "    </tr>\n",
       "    <tr>\n",
       "      <th>2004-03-10</th>\n",
       "      <td>20:00:00</td>\n",
       "      <td>2.2</td>\n",
       "      <td>1402.00</td>\n",
       "      <td>88</td>\n",
       "      <td>8.997817</td>\n",
       "      <td>939.25</td>\n",
       "      <td>131.0</td>\n",
       "      <td>1140.00</td>\n",
       "      <td>114.0</td>\n",
       "      <td>1554.50</td>\n",
       "      <td>1074.00</td>\n",
       "      <td>11.90</td>\n",
       "      <td>53.975000</td>\n",
       "      <td>0.750239</td>\n",
       "    </tr>\n",
       "    <tr>\n",
       "      <th>2004-03-10</th>\n",
       "      <td>21:00:00</td>\n",
       "      <td>2.2</td>\n",
       "      <td>1375.50</td>\n",
       "      <td>80</td>\n",
       "      <td>9.228796</td>\n",
       "      <td>948.25</td>\n",
       "      <td>172.0</td>\n",
       "      <td>1092.00</td>\n",
       "      <td>122.0</td>\n",
       "      <td>1583.75</td>\n",
       "      <td>1203.25</td>\n",
       "      <td>11.00</td>\n",
       "      <td>60.000000</td>\n",
       "      <td>0.786713</td>\n",
       "    </tr>\n",
       "    <tr>\n",
       "      <th>2004-03-10</th>\n",
       "      <td>22:00:00</td>\n",
       "      <td>1.6</td>\n",
       "      <td>1272.25</td>\n",
       "      <td>51</td>\n",
       "      <td>6.518224</td>\n",
       "      <td>835.50</td>\n",
       "      <td>131.0</td>\n",
       "      <td>1205.00</td>\n",
       "      <td>116.0</td>\n",
       "      <td>1490.00</td>\n",
       "      <td>1110.00</td>\n",
       "      <td>11.15</td>\n",
       "      <td>59.575001</td>\n",
       "      <td>0.788794</td>\n",
       "    </tr>\n",
       "  </tbody>\n",
       "</table>\n",
       "</div>"
      ],
      "text/plain": [
       "                Time  CO(GT)  PT08.S1(CO)  NMHC(GT)   C6H6(GT)  PT08.S2(NMHC)  \\\n",
       "Date                                                                            \n",
       "2004-03-10  18:00:00     2.6      1360.00       150  11.881723        1045.50   \n",
       "2004-03-10  19:00:00     2.0      1292.25       112   9.397165         954.75   \n",
       "2004-03-10  20:00:00     2.2      1402.00        88   8.997817         939.25   \n",
       "2004-03-10  21:00:00     2.2      1375.50        80   9.228796         948.25   \n",
       "2004-03-10  22:00:00     1.6      1272.25        51   6.518224         835.50   \n",
       "\n",
       "            NOx(GT)  PT08.S3(NOx)  NO2(GT)  PT08.S4(NO2)  PT08.S5(O3)      T  \\\n",
       "Date                                                                           \n",
       "2004-03-10    166.0       1056.25    113.0       1692.00      1267.50  13.60   \n",
       "2004-03-10    103.0       1173.75     92.0       1558.75       972.25  13.30   \n",
       "2004-03-10    131.0       1140.00    114.0       1554.50      1074.00  11.90   \n",
       "2004-03-10    172.0       1092.00    122.0       1583.75      1203.25  11.00   \n",
       "2004-03-10    131.0       1205.00    116.0       1490.00      1110.00  11.15   \n",
       "\n",
       "                   RH        AH  \n",
       "Date                             \n",
       "2004-03-10  48.875001  0.757754  \n",
       "2004-03-10  47.700000  0.725487  \n",
       "2004-03-10  53.975000  0.750239  \n",
       "2004-03-10  60.000000  0.786713  \n",
       "2004-03-10  59.575001  0.788794  "
      ]
     },
     "execution_count": 90,
     "metadata": {},
     "output_type": "execute_result"
    }
   ],
   "source": [
    "url = 'https://tscookbook.s3.amazonaws.com/AirQualityUCI.xlsx'\n",
    "\n",
    "df = pd.read_excel(url,\n",
    "                   index_col='Date',\n",
    "                   parse_dates=True)\n",
    "df.head()"
   ]
  },
  {
   "cell_type": "markdown",
   "id": "c8ebe816-e7f4-4adf-afbb-9c8fc465ee75",
   "metadata": {},
   "source": [
    "**Accessing a bucket using S3://**"
   ]
  },
  {
   "cell_type": "code",
   "execution_count": 94,
   "id": "7b1df5c3-713b-4b2a-9fc6-0e561e418de7",
   "metadata": {},
   "outputs": [
    {
     "data": {
      "text/html": [
       "<div>\n",
       "<style scoped>\n",
       "    .dataframe tbody tr th:only-of-type {\n",
       "        vertical-align: middle;\n",
       "    }\n",
       "\n",
       "    .dataframe tbody tr th {\n",
       "        vertical-align: top;\n",
       "    }\n",
       "\n",
       "    .dataframe thead th {\n",
       "        text-align: right;\n",
       "    }\n",
       "</style>\n",
       "<table border=\"1\" class=\"dataframe\">\n",
       "  <thead>\n",
       "    <tr style=\"text-align: right;\">\n",
       "      <th></th>\n",
       "      <th>Time</th>\n",
       "      <th>CO(GT)</th>\n",
       "      <th>PT08.S1(CO)</th>\n",
       "      <th>NMHC(GT)</th>\n",
       "      <th>C6H6(GT)</th>\n",
       "      <th>PT08.S2(NMHC)</th>\n",
       "      <th>NOx(GT)</th>\n",
       "      <th>PT08.S3(NOx)</th>\n",
       "      <th>NO2(GT)</th>\n",
       "      <th>PT08.S4(NO2)</th>\n",
       "      <th>PT08.S5(O3)</th>\n",
       "      <th>T</th>\n",
       "      <th>RH</th>\n",
       "      <th>AH</th>\n",
       "    </tr>\n",
       "    <tr>\n",
       "      <th>Date</th>\n",
       "      <th></th>\n",
       "      <th></th>\n",
       "      <th></th>\n",
       "      <th></th>\n",
       "      <th></th>\n",
       "      <th></th>\n",
       "      <th></th>\n",
       "      <th></th>\n",
       "      <th></th>\n",
       "      <th></th>\n",
       "      <th></th>\n",
       "      <th></th>\n",
       "      <th></th>\n",
       "      <th></th>\n",
       "    </tr>\n",
       "  </thead>\n",
       "  <tbody>\n",
       "    <tr>\n",
       "      <th>2004-03-10</th>\n",
       "      <td>18:00:00</td>\n",
       "      <td>2.6</td>\n",
       "      <td>1360.00</td>\n",
       "      <td>150</td>\n",
       "      <td>11.881723</td>\n",
       "      <td>1045.50</td>\n",
       "      <td>166.0</td>\n",
       "      <td>1056.25</td>\n",
       "      <td>113.0</td>\n",
       "      <td>1692.00</td>\n",
       "      <td>1267.50</td>\n",
       "      <td>13.60</td>\n",
       "      <td>48.875001</td>\n",
       "      <td>0.757754</td>\n",
       "    </tr>\n",
       "    <tr>\n",
       "      <th>2004-03-10</th>\n",
       "      <td>19:00:00</td>\n",
       "      <td>2.0</td>\n",
       "      <td>1292.25</td>\n",
       "      <td>112</td>\n",
       "      <td>9.397165</td>\n",
       "      <td>954.75</td>\n",
       "      <td>103.0</td>\n",
       "      <td>1173.75</td>\n",
       "      <td>92.0</td>\n",
       "      <td>1558.75</td>\n",
       "      <td>972.25</td>\n",
       "      <td>13.30</td>\n",
       "      <td>47.700000</td>\n",
       "      <td>0.725487</td>\n",
       "    </tr>\n",
       "    <tr>\n",
       "      <th>2004-03-10</th>\n",
       "      <td>20:00:00</td>\n",
       "      <td>2.2</td>\n",
       "      <td>1402.00</td>\n",
       "      <td>88</td>\n",
       "      <td>8.997817</td>\n",
       "      <td>939.25</td>\n",
       "      <td>131.0</td>\n",
       "      <td>1140.00</td>\n",
       "      <td>114.0</td>\n",
       "      <td>1554.50</td>\n",
       "      <td>1074.00</td>\n",
       "      <td>11.90</td>\n",
       "      <td>53.975000</td>\n",
       "      <td>0.750239</td>\n",
       "    </tr>\n",
       "    <tr>\n",
       "      <th>2004-03-10</th>\n",
       "      <td>21:00:00</td>\n",
       "      <td>2.2</td>\n",
       "      <td>1375.50</td>\n",
       "      <td>80</td>\n",
       "      <td>9.228796</td>\n",
       "      <td>948.25</td>\n",
       "      <td>172.0</td>\n",
       "      <td>1092.00</td>\n",
       "      <td>122.0</td>\n",
       "      <td>1583.75</td>\n",
       "      <td>1203.25</td>\n",
       "      <td>11.00</td>\n",
       "      <td>60.000000</td>\n",
       "      <td>0.786713</td>\n",
       "    </tr>\n",
       "    <tr>\n",
       "      <th>2004-03-10</th>\n",
       "      <td>22:00:00</td>\n",
       "      <td>1.6</td>\n",
       "      <td>1272.25</td>\n",
       "      <td>51</td>\n",
       "      <td>6.518224</td>\n",
       "      <td>835.50</td>\n",
       "      <td>131.0</td>\n",
       "      <td>1205.00</td>\n",
       "      <td>116.0</td>\n",
       "      <td>1490.00</td>\n",
       "      <td>1110.00</td>\n",
       "      <td>11.15</td>\n",
       "      <td>59.575001</td>\n",
       "      <td>0.788794</td>\n",
       "    </tr>\n",
       "  </tbody>\n",
       "</table>\n",
       "</div>"
      ],
      "text/plain": [
       "                Time  CO(GT)  PT08.S1(CO)  NMHC(GT)   C6H6(GT)  PT08.S2(NMHC)  \\\n",
       "Date                                                                            \n",
       "2004-03-10  18:00:00     2.6      1360.00       150  11.881723        1045.50   \n",
       "2004-03-10  19:00:00     2.0      1292.25       112   9.397165         954.75   \n",
       "2004-03-10  20:00:00     2.2      1402.00        88   8.997817         939.25   \n",
       "2004-03-10  21:00:00     2.2      1375.50        80   9.228796         948.25   \n",
       "2004-03-10  22:00:00     1.6      1272.25        51   6.518224         835.50   \n",
       "\n",
       "            NOx(GT)  PT08.S3(NOx)  NO2(GT)  PT08.S4(NO2)  PT08.S5(O3)      T  \\\n",
       "Date                                                                           \n",
       "2004-03-10    166.0       1056.25    113.0       1692.00      1267.50  13.60   \n",
       "2004-03-10    103.0       1173.75     92.0       1558.75       972.25  13.30   \n",
       "2004-03-10    131.0       1140.00    114.0       1554.50      1074.00  11.90   \n",
       "2004-03-10    172.0       1092.00    122.0       1583.75      1203.25  11.00   \n",
       "2004-03-10    131.0       1205.00    116.0       1490.00      1110.00  11.15   \n",
       "\n",
       "                   RH        AH  \n",
       "Date                             \n",
       "2004-03-10  48.875001  0.757754  \n",
       "2004-03-10  47.700000  0.725487  \n",
       "2004-03-10  53.975000  0.750239  \n",
       "2004-03-10  60.000000  0.786713  \n",
       "2004-03-10  59.575001  0.788794  "
      ]
     },
     "execution_count": 94,
     "metadata": {},
     "output_type": "execute_result"
    }
   ],
   "source": [
    "s3uri = 's3://tscookbook/AirQualityUCI.xlsx'\n",
    "df = pd.read_excel(s3uri,\n",
    "                   index_col='Date',\n",
    "                   parse_dates=True)\n",
    "df.head()"
   ]
  },
  {
   "cell_type": "markdown",
   "id": "d8c309b7-04e4-4927-8eab-7e4b5d418073",
   "metadata": {},
   "source": [
    "## Reading from Private S3 Bucket"
   ]
  },
  {
   "cell_type": "code",
   "execution_count": 101,
   "id": "49554931-8e56-41f9-b2b0-75b6a3525ad8",
   "metadata": {},
   "outputs": [],
   "source": [
    "import configparser\n",
    "config = configparser.ConfigParser()\n",
    "config.read('aws.cfg')\n",
    "\n",
    "AWS_ACCESS_KEY = config['AWS']['aws_access_key']\n",
    "AWS_SECRET_KEY = config['AWS']['aws_secret_key']\n"
   ]
  },
  {
   "cell_type": "code",
   "execution_count": 102,
   "id": "c1c7e356-0392-495f-bbd1-21a7473cc6c3",
   "metadata": {},
   "outputs": [],
   "source": [
    "s3uri = \"s3://tscookbook-private/AirQuality.csv\"\n",
    "\n",
    "df = pd.read_csv(s3uri,\n",
    "                 index_col='Date',\n",
    "                 parse_dates=True,\n",
    "                 storage_options= {\n",
    "                         'key': AWS_ACCESS_KEY,\n",
    "                         'secret': AWS_SECRET_KEY\n",
    "                     })"
   ]
  },
  {
   "cell_type": "code",
   "execution_count": 103,
   "id": "c54f4a41-0f5f-4abb-ba30-06fbe95d6dd1",
   "metadata": {},
   "outputs": [
    {
     "data": {
      "text/html": [
       "<div>\n",
       "<style scoped>\n",
       "    .dataframe tbody tr th:only-of-type {\n",
       "        vertical-align: middle;\n",
       "    }\n",
       "\n",
       "    .dataframe tbody tr th {\n",
       "        vertical-align: top;\n",
       "    }\n",
       "\n",
       "    .dataframe thead th {\n",
       "        text-align: right;\n",
       "    }\n",
       "</style>\n",
       "<table border=\"1\" class=\"dataframe\">\n",
       "  <thead>\n",
       "    <tr style=\"text-align: right;\">\n",
       "      <th></th>\n",
       "      <th>CO(GT)</th>\n",
       "      <th>PT08.S1(CO)</th>\n",
       "      <th>NMHC(GT)</th>\n",
       "    </tr>\n",
       "    <tr>\n",
       "      <th>Date</th>\n",
       "      <th></th>\n",
       "      <th></th>\n",
       "      <th></th>\n",
       "    </tr>\n",
       "  </thead>\n",
       "  <tbody>\n",
       "    <tr>\n",
       "      <th>2004-10-03</th>\n",
       "      <td>2,6</td>\n",
       "      <td>1360.0</td>\n",
       "      <td>150.0</td>\n",
       "    </tr>\n",
       "    <tr>\n",
       "      <th>2004-10-03</th>\n",
       "      <td>2</td>\n",
       "      <td>1292.0</td>\n",
       "      <td>112.0</td>\n",
       "    </tr>\n",
       "    <tr>\n",
       "      <th>2004-10-03</th>\n",
       "      <td>2,2</td>\n",
       "      <td>1402.0</td>\n",
       "      <td>88.0</td>\n",
       "    </tr>\n",
       "  </tbody>\n",
       "</table>\n",
       "</div>"
      ],
      "text/plain": [
       "           CO(GT)  PT08.S1(CO)  NMHC(GT)\n",
       "Date                                    \n",
       "2004-10-03    2,6       1360.0     150.0\n",
       "2004-10-03      2       1292.0     112.0\n",
       "2004-10-03    2,2       1402.0      88.0"
      ]
     },
     "execution_count": 103,
     "metadata": {},
     "output_type": "execute_result"
    }
   ],
   "source": [
    "df.iloc[:3, 1:4]"
   ]
  },
  {
   "cell_type": "markdown",
   "id": "e0fc2f8d-e263-4813-ac0d-3c8db9c2765b",
   "metadata": {},
   "source": [
    "**Using BOTO3**"
   ]
  },
  {
   "cell_type": "code",
   "execution_count": 104,
   "id": "0c750b74-e5b2-48ce-88a4-bdbbe83d01ae",
   "metadata": {},
   "outputs": [],
   "source": [
    "import boto3\n",
    "bucket = \"tscookbook-private\"\n",
    "client = boto3.client(\"s3\",\n",
    "                  aws_access_key_id =AWS_ACCESS_KEY,\n",
    "                  aws_secret_access_key = AWS_SECRET_KEY)\n"
   ]
  },
  {
   "cell_type": "code",
   "execution_count": 105,
   "id": "8762706c-d5d4-4041-9842-f62d383cd700",
   "metadata": {},
   "outputs": [],
   "source": [
    "data = client.get_object(Bucket=bucket, Key='AirQuality.csv')"
   ]
  },
  {
   "cell_type": "code",
   "execution_count": 106,
   "id": "def4c0f7-c78f-4380-8f18-5dfcf3058759",
   "metadata": {},
   "outputs": [
    {
     "data": {
      "text/plain": [
       "dict_keys(['ResponseMetadata', 'AcceptRanges', 'LastModified', 'ContentLength', 'ETag', 'ContentType', 'Metadata', 'Body'])"
      ]
     },
     "execution_count": 106,
     "metadata": {},
     "output_type": "execute_result"
    }
   ],
   "source": [
    "data.keys()"
   ]
  },
  {
   "cell_type": "code",
   "execution_count": 107,
   "id": "3430d51c-07ff-46e9-9191-d3d747aa0ace",
   "metadata": {},
   "outputs": [],
   "source": [
    "df = pd.read_csv(data['Body'],\n",
    "                 index_col='Date',\n",
    "                 parse_dates=True)\n"
   ]
  },
  {
   "cell_type": "code",
   "execution_count": 108,
   "id": "9d42daf3-c1bf-4e93-9b5c-8ef86a815502",
   "metadata": {},
   "outputs": [
    {
     "data": {
      "text/html": [
       "<div>\n",
       "<style scoped>\n",
       "    .dataframe tbody tr th:only-of-type {\n",
       "        vertical-align: middle;\n",
       "    }\n",
       "\n",
       "    .dataframe tbody tr th {\n",
       "        vertical-align: top;\n",
       "    }\n",
       "\n",
       "    .dataframe thead th {\n",
       "        text-align: right;\n",
       "    }\n",
       "</style>\n",
       "<table border=\"1\" class=\"dataframe\">\n",
       "  <thead>\n",
       "    <tr style=\"text-align: right;\">\n",
       "      <th></th>\n",
       "      <th>CO(GT)</th>\n",
       "      <th>PT08.S1(CO)</th>\n",
       "      <th>NMHC(GT)</th>\n",
       "    </tr>\n",
       "    <tr>\n",
       "      <th>Date</th>\n",
       "      <th></th>\n",
       "      <th></th>\n",
       "      <th></th>\n",
       "    </tr>\n",
       "  </thead>\n",
       "  <tbody>\n",
       "    <tr>\n",
       "      <th>2004-10-03</th>\n",
       "      <td>2,6</td>\n",
       "      <td>1360.0</td>\n",
       "      <td>150.0</td>\n",
       "    </tr>\n",
       "    <tr>\n",
       "      <th>2004-10-03</th>\n",
       "      <td>2</td>\n",
       "      <td>1292.0</td>\n",
       "      <td>112.0</td>\n",
       "    </tr>\n",
       "    <tr>\n",
       "      <th>2004-10-03</th>\n",
       "      <td>2,2</td>\n",
       "      <td>1402.0</td>\n",
       "      <td>88.0</td>\n",
       "    </tr>\n",
       "  </tbody>\n",
       "</table>\n",
       "</div>"
      ],
      "text/plain": [
       "           CO(GT)  PT08.S1(CO)  NMHC(GT)\n",
       "Date                                    \n",
       "2004-10-03    2,6       1360.0     150.0\n",
       "2004-10-03      2       1292.0     112.0\n",
       "2004-10-03    2,2       1402.0      88.0"
      ]
     },
     "execution_count": 108,
     "metadata": {},
     "output_type": "execute_result"
    }
   ],
   "source": [
    "df.iloc[:3, 1:4]"
   ]
  },
  {
   "cell_type": "markdown",
   "id": "2c968bed-9693-44e0-b537-feca8fb867bf",
   "metadata": {},
   "source": [
    "## Reading from HTML"
   ]
  },
  {
   "cell_type": "code",
   "execution_count": 125,
   "id": "ae29ee75-aa23-47d6-80c4-a7cf64c1105d",
   "metadata": {},
   "outputs": [
    {
     "name": "stdout",
     "output_type": "stream",
     "text": [
      "69\n"
     ]
    }
   ],
   "source": [
    "url = \"https://en.wikipedia.org/wiki/COVID-19_pandemic_by_country_and_territory\"\n",
    "results = pd.read_html(url)\n",
    "print(len(results))\n"
   ]
  },
  {
   "cell_type": "code",
   "execution_count": 126,
   "id": "15dc2aae-add1-49e6-9e4f-ef5d61cd70fb",
   "metadata": {},
   "outputs": [],
   "source": [
    "# for i, k in enumerate(results):\n",
    "#     print(i)\n",
    "#     display(k.head())\n",
    "    "
   ]
  },
  {
   "cell_type": "code",
   "execution_count": 127,
   "id": "f414af1b-eb6d-48c6-81ff-b565dc7c276e",
   "metadata": {},
   "outputs": [
    {
     "data": {
      "text/plain": [
       "Index(['Region[30]', 'Total cases', 'Total deaths', 'Cases per million',\n",
       "       'Deaths per million', 'Current weekly cases', 'Current weekly deaths',\n",
       "       'Population millions', 'Vaccinated %[31]'],\n",
       "      dtype='object')"
      ]
     },
     "execution_count": 127,
     "metadata": {},
     "output_type": "execute_result"
    }
   ],
   "source": [
    "df = results[15]\n",
    "df.columns"
   ]
  },
  {
   "cell_type": "code",
   "execution_count": 133,
   "id": "37776cd9-8f76-4118-accb-ddec1375364b",
   "metadata": {},
   "outputs": [
    {
     "data": {
      "text/html": [
       "<div>\n",
       "<style scoped>\n",
       "    .dataframe tbody tr th:only-of-type {\n",
       "        vertical-align: middle;\n",
       "    }\n",
       "\n",
       "    .dataframe tbody tr th {\n",
       "        vertical-align: top;\n",
       "    }\n",
       "\n",
       "    .dataframe thead th {\n",
       "        text-align: right;\n",
       "    }\n",
       "</style>\n",
       "<table border=\"1\" class=\"dataframe\">\n",
       "  <thead>\n",
       "    <tr style=\"text-align: right;\">\n",
       "      <th></th>\n",
       "      <th>Region[30]</th>\n",
       "      <th>Total cases</th>\n",
       "      <th>Total deaths</th>\n",
       "      <th>Cases per million</th>\n",
       "    </tr>\n",
       "  </thead>\n",
       "  <tbody>\n",
       "    <tr>\n",
       "      <th>0</th>\n",
       "      <td>European Union</td>\n",
       "      <td>179537758</td>\n",
       "      <td>1185108</td>\n",
       "      <td>401363</td>\n",
       "    </tr>\n",
       "    <tr>\n",
       "      <th>1</th>\n",
       "      <td>North America</td>\n",
       "      <td>103783777</td>\n",
       "      <td>1133607</td>\n",
       "      <td>281404</td>\n",
       "    </tr>\n",
       "    <tr>\n",
       "      <th>2</th>\n",
       "      <td>Other Europe</td>\n",
       "      <td>57721948</td>\n",
       "      <td>498259</td>\n",
       "      <td>247054</td>\n",
       "    </tr>\n",
       "  </tbody>\n",
       "</table>\n",
       "</div>"
      ],
      "text/plain": [
       "       Region[30]  Total cases  Total deaths  Cases per million\n",
       "0  European Union    179537758       1185108             401363\n",
       "1   North America    103783777       1133607             281404\n",
       "2    Other Europe     57721948        498259             247054"
      ]
     },
     "execution_count": 133,
     "metadata": {},
     "output_type": "execute_result"
    }
   ],
   "source": [
    "df[['Region[30]','Total cases', 'Total deaths', 'Cases per million']].head(3)"
   ]
  },
  {
   "cell_type": "markdown",
   "id": "8e5c18bb-b7e3-4d54-9338-9631f4dc4cbc",
   "metadata": {},
   "source": [
    "## Example how `read_html()` works"
   ]
  },
  {
   "cell_type": "code",
   "execution_count": 116,
   "id": "1a1d7bac-76b7-4a9a-9c42-3b3b9282ac81",
   "metadata": {},
   "outputs": [],
   "source": [
    "from io import StringIO\n",
    "import pandas as pd"
   ]
  },
  {
   "cell_type": "code",
   "execution_count": 120,
   "id": "2b53a57e-8a60-4a56-bfda-45c30e565d2a",
   "metadata": {},
   "outputs": [
    {
     "data": {
      "text/html": [
       "<div>\n",
       "<style scoped>\n",
       "    .dataframe tbody tr th:only-of-type {\n",
       "        vertical-align: middle;\n",
       "    }\n",
       "\n",
       "    .dataframe tbody tr th {\n",
       "        vertical-align: top;\n",
       "    }\n",
       "\n",
       "    .dataframe thead th {\n",
       "        text-align: right;\n",
       "    }\n",
       "</style>\n",
       "<table border=\"1\" class=\"dataframe\">\n",
       "  <thead>\n",
       "    <tr style=\"text-align: right;\">\n",
       "      <th></th>\n",
       "      <th>Ticker</th>\n",
       "      <th>Price</th>\n",
       "    </tr>\n",
       "  </thead>\n",
       "  <tbody>\n",
       "    <tr>\n",
       "      <th>0</th>\n",
       "      <td>MSFT</td>\n",
       "      <td>230</td>\n",
       "    </tr>\n",
       "    <tr>\n",
       "      <th>1</th>\n",
       "      <td>APPL</td>\n",
       "      <td>300</td>\n",
       "    </tr>\n",
       "    <tr>\n",
       "      <th>2</th>\n",
       "      <td>MSTR</td>\n",
       "      <td>120</td>\n",
       "    </tr>\n",
       "  </tbody>\n",
       "</table>\n",
       "</div>"
      ],
      "text/plain": [
       "  Ticker  Price\n",
       "0   MSFT    230\n",
       "1   APPL    300\n",
       "2   MSTR    120"
      ]
     },
     "execution_count": 120,
     "metadata": {},
     "output_type": "execute_result"
    }
   ],
   "source": [
    "html = \"\"\"\n",
    " <table>\n",
    "   <tr>\n",
    "     <th>Ticker</th>\n",
    "     <th>Price</th>\n",
    "   </tr>\n",
    "   <tr>\n",
    "     <td>MSFT</td>\n",
    "     <td>230</td>\n",
    "   </tr>\n",
    "   <tr>\n",
    "     <td>APPL</td>\n",
    "     <td>300</td>\n",
    "   </tr>\n",
    "     <tr>\n",
    "     <td>MSTR</td>\n",
    "     <td>120</td>\n",
    "   </tr>\n",
    " </table>\n",
    "\n",
    " </body>\n",
    " </html>\n",
    " \"\"\"\n",
    "\n",
    "df = pd.read_html(StringIO(html))\n",
    "df[0]\n"
   ]
  },
  {
   "cell_type": "markdown",
   "id": "aae256fc-d806-4a18-af3d-9e61ca99060f",
   "metadata": {},
   "source": [
    "## Using `attr` option in `read.html()`"
   ]
  },
  {
   "cell_type": "code",
   "execution_count": null,
   "id": "c87c19b8-4054-487c-8eac-038a2d8337e5",
   "metadata": {},
   "outputs": [],
   "source": [
    "#!conda install html5lib beautifulSoup4"
   ]
  },
  {
   "cell_type": "code",
   "execution_count": 122,
   "id": "8f591292-b34a-4186-93ff-03a9b61a497c",
   "metadata": {},
   "outputs": [
    {
     "data": {
      "text/plain": [
       "5"
      ]
     },
     "execution_count": 122,
     "metadata": {},
     "output_type": "execute_result"
    }
   ],
   "source": [
    "import pandas as pd\n",
    "url = \"https://en.wikipedia.org/wiki/COVID-19_pandemic_by_country_and_territory\"\n",
    "df = pd.read_html(url, attrs={'class': 'sortable'})\n",
    "len(df)"
   ]
  },
  {
   "cell_type": "code",
   "execution_count": 123,
   "id": "60e2b0ab-30fc-47a1-9d94-650b7c5a72a9",
   "metadata": {},
   "outputs": [
    {
     "data": {
      "text/plain": [
       "Index(['Region[30]', 'Total cases', 'Total deaths', 'Cases per million',\n",
       "       'Deaths per million', 'Current weekly cases', 'Current weekly deaths',\n",
       "       'Population millions', 'Vaccinated %[31]'],\n",
       "      dtype='object')"
      ]
     },
     "execution_count": 123,
     "metadata": {},
     "output_type": "execute_result"
    }
   ],
   "source": [
    "df[3].columns"
   ]
  },
  {
   "cell_type": "markdown",
   "id": "a182e19c-db98-4496-a691-efa13c35e915",
   "metadata": {},
   "source": [
    "# Recipe 4: Reading from a SAS dataset --to be deleted recipe--\n",
    "* Dataset 1: http://support.sas.com/kb/61/960.html\n",
    "* Learn about chunkisize (chunking) in pandas when working when reading large data files\n",
    "* Learn about `Modin` using a separate Jupyter Notebook on how to improve performance with minimal effort \n"
   ]
  },
  {
   "cell_type": "code",
   "execution_count": null,
   "id": "f90a2f3a-512e-4f8d-bf30-1e2384433646",
   "metadata": {},
   "outputs": [],
   "source": [
    "import pandas as pd\n",
    "path = '../../datasets/Ch2/DCSKINPRODUCT.sas7bdat'\n"
   ]
  },
  {
   "cell_type": "code",
   "execution_count": null,
   "id": "0304c79d-ca45-43ed-bf78-b948d2c35571",
   "metadata": {},
   "outputs": [],
   "source": [
    "df = pd.read_sas(path, chunksize=10000)\n",
    "type(df)\n"
   ]
  },
  {
   "cell_type": "code",
   "execution_count": null,
   "id": "eeb1b2d2-6f6a-414e-8c02-ca34cfda056c",
   "metadata": {},
   "outputs": [],
   "source": [
    "results = []\n",
    "for chunk in df:\n",
    "    results.append(\n",
    "        chunk)\n",
    "len(results)"
   ]
  },
  {
   "cell_type": "code",
   "execution_count": null,
   "id": "4567dfe5-7f9c-47f1-8797-40743c35272b",
   "metadata": {},
   "outputs": [],
   "source": [
    "df = pd.concat(results)\n",
    "df.shape"
   ]
  },
  {
   "cell_type": "code",
   "execution_count": null,
   "id": "d996d23d-3c54-4664-a5a5-108ff1e05b25",
   "metadata": {},
   "outputs": [],
   "source": [
    "df = pd.read_sas(path, chunksize=10000)\n",
    "results = []\n",
    "for chunk in df:\n",
    "    results.append(\n",
    "        chunk.groupby('DATE')['Revenue']\n",
    "             .agg(['sum', 'count']))\n",
    "len(results)"
   ]
  },
  {
   "cell_type": "code",
   "execution_count": null,
   "id": "b6009318-f041-44bf-9a99-4d721b15deab",
   "metadata": {},
   "outputs": [],
   "source": [
    "pd.concat(results).shape"
   ]
  },
  {
   "cell_type": "code",
   "execution_count": null,
   "id": "d4c2d3b7-095a-44da-84c1-24ee21f7ebbf",
   "metadata": {},
   "outputs": [],
   "source": [
    "results[0].loc['2013-02-10']"
   ]
  },
  {
   "cell_type": "code",
   "execution_count": null,
   "id": "009e6544-e4a4-4e46-a45f-90e43cb1f68b",
   "metadata": {},
   "outputs": [],
   "source": [
    "results[1].loc['2013-02-10']"
   ]
  },
  {
   "cell_type": "code",
   "execution_count": null,
   "id": "2c0dfdbb-a14f-4593-b091-85641778d841",
   "metadata": {},
   "outputs": [],
   "source": [
    "results[2].loc['2013-02-10']"
   ]
  },
  {
   "cell_type": "code",
   "execution_count": null,
   "id": "573d1715-0bf0-49e3-bb7d-8a7e4491718d",
   "metadata": {},
   "outputs": [],
   "source": [
    "from functools import reduce\n",
    "final = reduce(lambda x1, x2: x1.add(x2, fill_value=0), results)\n",
    "type(final)"
   ]
  },
  {
   "cell_type": "code",
   "execution_count": null,
   "id": "fbcf52ff-6a95-4afe-9474-4a39a69e00be",
   "metadata": {},
   "outputs": [],
   "source": [
    "final.loc['2013-02-10']"
   ]
  },
  {
   "cell_type": "code",
   "execution_count": null,
   "id": "04f5883e-e6ac-4816-b188-92d3ad9f8245",
   "metadata": {},
   "outputs": [],
   "source": [
    "final.shape"
   ]
  },
  {
   "cell_type": "markdown",
   "id": "23dab8d1-82fc-4c06-823e-203fcfb4290b",
   "metadata": {},
   "source": [
    "## There is more"
   ]
  },
  {
   "cell_type": "code",
   "execution_count": null,
   "id": "080d390a-9653-4324-9fbe-53fa4bba9699",
   "metadata": {},
   "outputs": [],
   "source": [
    "# !conda install dask # install everything\n",
    "#!conda install dask-core # install only core parts of dash\n",
    "#!python -m pip install \"dask[complete]\"    # Install everything\n",
    "#!python -m pip install dask                # Install only core parts of dask"
   ]
  },
  {
   "cell_type": "markdown",
   "id": "6a208d71-df87-4ba8-99c0-8b4db18aa659",
   "metadata": {},
   "source": [
    "# Recipe 4 - Read data from Parquet files"
   ]
  },
  {
   "cell_type": "markdown",
   "id": "8227c2b2-d641-4210-9623-5cb3254dd21b",
   "metadata": {},
   "source": [
    "The following code reads the original data from NCEI NOAA in CSV then stores the data as Parquet files partitioned by year. The recipe focuses on reading the Parquet files and demonstrating how you can filter/query a specific partition."
   ]
  },
  {
   "cell_type": "code",
   "execution_count": 134,
   "id": "84cd71d6-3650-4492-a4d0-27e441f7c139",
   "metadata": {},
   "outputs": [
    {
     "data": {
      "text/plain": [
       "'2.1.3'"
      ]
     },
     "execution_count": 134,
     "metadata": {},
     "output_type": "execute_result"
    }
   ],
   "source": [
    "import pandas as pd\n",
    "from pathlib import Path\n",
    "pd.__version__"
   ]
  },
  {
   "cell_type": "markdown",
   "id": "3d5b99b5-d5e6-4697-9207-bb3f8bc05c8a",
   "metadata": {},
   "source": [
    "Optional: Script to read the original dataset in CSV format and convert into a partitioned Parquet files by year"
   ]
  },
  {
   "cell_type": "code",
   "execution_count": 52,
   "id": "55a641b8-de54-4ab2-8f11-a352507dbed3",
   "metadata": {},
   "outputs": [],
   "source": [
    "# file = 'https://www.ncei.noaa.gov/orders/cdo/3352259.csv'\n",
    "# df = pd.read_csv(file)\n",
    "# df['DT'] = pd.to_datetime(df['DATE'])\n",
    "# df['year'] = df['DT'].dt.year\n",
    "# df.to_parquet('../../datasets/Ch2/LA_weather.parquet', engine='pyarrow', partition_cols=['year'], compression='snappy')"
   ]
  },
  {
   "cell_type": "markdown",
   "id": "0d377768-6951-4ddc-b906-45df2514f34a",
   "metadata": {},
   "source": [
    "Reading the Parquet files"
   ]
  },
  {
   "cell_type": "code",
   "execution_count": 137,
   "id": "c95e198d-ac3c-4a59-acd5-aa1a7a131fb9",
   "metadata": {},
   "outputs": [],
   "source": [
    "file = Path('../../datasets/Ch2/LA_weather.parquet/')\n",
    "df = pd.read_parquet(file,\n",
    "                    engine='pyarrow')"
   ]
  },
  {
   "cell_type": "code",
   "execution_count": 138,
   "id": "4bc78725-641a-412d-9846-32ff1a07c996",
   "metadata": {},
   "outputs": [
    {
     "name": "stdout",
     "output_type": "stream",
     "text": [
      "<class 'pandas.core.frame.DataFrame'>\n",
      "RangeIndex: 4899 entries, 0 to 4898\n",
      "Data columns (total 17 columns):\n",
      " #   Column           Non-Null Count  Dtype         \n",
      "---  ------           --------------  -----         \n",
      " 0   STATION          4899 non-null   object        \n",
      " 1   NAME             4899 non-null   object        \n",
      " 2   DATE             4899 non-null   object        \n",
      " 3   PRCP             4899 non-null   float64       \n",
      " 4   PRCP_ATTRIBUTES  4899 non-null   object        \n",
      " 5   SNOW             121 non-null    float64       \n",
      " 6   SNOW_ATTRIBUTES  121 non-null    object        \n",
      " 7   SNWD             59 non-null     float64       \n",
      " 8   SNWD_ATTRIBUTES  59 non-null     object        \n",
      " 9   TAVG             3713 non-null   float64       \n",
      " 10  TAVG_ATTRIBUTES  3713 non-null   object        \n",
      " 11  TMAX             4899 non-null   int64         \n",
      " 12  TMAX_ATTRIBUTES  4899 non-null   object        \n",
      " 13  TMIN             4899 non-null   int64         \n",
      " 14  TMIN_ATTRIBUTES  4899 non-null   object        \n",
      " 15  DT               4899 non-null   datetime64[us]\n",
      " 16  year             4899 non-null   category      \n",
      "dtypes: category(1), datetime64[us](1), float64(4), int64(2), object(9)\n",
      "memory usage: 617.8+ KB\n"
     ]
    }
   ],
   "source": [
    "df.info()"
   ]
  },
  {
   "cell_type": "markdown",
   "id": "b437cfa1-bd94-4baa-b353-ab7d77d6cb39",
   "metadata": {},
   "source": [
    "Reading a specific partition for year 2012"
   ]
  },
  {
   "cell_type": "code",
   "execution_count": 139,
   "id": "e4a25755-c794-420f-a6f4-d88d90798c67",
   "metadata": {},
   "outputs": [],
   "source": [
    "filters = [('year', '==', 2012)]\n",
    "df_2012 = pd.read_parquet(file, \n",
    "                          engine='pyarrow', \n",
    "                          filters=filters)"
   ]
  },
  {
   "cell_type": "markdown",
   "id": "498026b1-e8da-4bda-b510-e85c116e3fa6",
   "metadata": {},
   "source": [
    "Filtering to read files for years > 2020"
   ]
  },
  {
   "cell_type": "code",
   "execution_count": 140,
   "id": "7d71d14d-cd3f-46f4-b5c2-600b4be1cad4",
   "metadata": {},
   "outputs": [
    {
     "name": "stdout",
     "output_type": "stream",
     "text": [
      "<class 'pandas.core.frame.DataFrame'>\n",
      "RangeIndex: 366 entries, 0 to 365\n",
      "Data columns (total 17 columns):\n",
      " #   Column           Non-Null Count  Dtype         \n",
      "---  ------           --------------  -----         \n",
      " 0   STATION          366 non-null    object        \n",
      " 1   NAME             366 non-null    object        \n",
      " 2   DATE             366 non-null    object        \n",
      " 3   PRCP             366 non-null    float64       \n",
      " 4   PRCP_ATTRIBUTES  366 non-null    object        \n",
      " 5   SNOW             0 non-null      float64       \n",
      " 6   SNOW_ATTRIBUTES  0 non-null      object        \n",
      " 7   SNWD             0 non-null      float64       \n",
      " 8   SNWD_ATTRIBUTES  0 non-null      object        \n",
      " 9   TAVG             0 non-null      float64       \n",
      " 10  TAVG_ATTRIBUTES  0 non-null      object        \n",
      " 11  TMAX             366 non-null    int64         \n",
      " 12  TMAX_ATTRIBUTES  366 non-null    object        \n",
      " 13  TMIN             366 non-null    int64         \n",
      " 14  TMIN_ATTRIBUTES  366 non-null    object        \n",
      " 15  DT               366 non-null    datetime64[us]\n",
      " 16  year             366 non-null    category      \n",
      "dtypes: category(1), datetime64[us](1), float64(4), int64(2), object(9)\n",
      "memory usage: 46.7+ KB\n"
     ]
    }
   ],
   "source": [
    "df_2012.info()"
   ]
  },
  {
   "cell_type": "code",
   "execution_count": 141,
   "id": "f6801eff-4a58-43d2-9905-ae4ab005277a",
   "metadata": {},
   "outputs": [
    {
     "name": "stdout",
     "output_type": "stream",
     "text": [
      "<class 'pandas.core.frame.DataFrame'>\n",
      "RangeIndex: 881 entries, 0 to 880\n",
      "Data columns (total 17 columns):\n",
      " #   Column           Non-Null Count  Dtype         \n",
      "---  ------           --------------  -----         \n",
      " 0   STATION          881 non-null    object        \n",
      " 1   NAME             881 non-null    object        \n",
      " 2   DATE             881 non-null    object        \n",
      " 3   PRCP             881 non-null    float64       \n",
      " 4   PRCP_ATTRIBUTES  881 non-null    object        \n",
      " 5   SNOW             0 non-null      float64       \n",
      " 6   SNOW_ATTRIBUTES  0 non-null      object        \n",
      " 7   SNWD             0 non-null      float64       \n",
      " 8   SNWD_ATTRIBUTES  0 non-null      object        \n",
      " 9   TAVG             881 non-null    float64       \n",
      " 10  TAVG_ATTRIBUTES  881 non-null    object        \n",
      " 11  TMAX             881 non-null    int64         \n",
      " 12  TMAX_ATTRIBUTES  881 non-null    object        \n",
      " 13  TMIN             881 non-null    int64         \n",
      " 14  TMIN_ATTRIBUTES  881 non-null    object        \n",
      " 15  DT               881 non-null    datetime64[us]\n",
      " 16  year             881 non-null    category      \n",
      "dtypes: category(1), datetime64[us](1), float64(4), int64(2), object(9)\n",
      "memory usage: 111.6+ KB\n"
     ]
    }
   ],
   "source": [
    "filters = [('year', '>', 2020)]\n",
    "\n",
    "df = pd.read_parquet(file, \n",
    "                     engine='pyarrow', \n",
    "                     filters=filters)\n",
    "df.info()"
   ]
  },
  {
   "cell_type": "code",
   "execution_count": 142,
   "id": "a26acc64-4a79-4e47-b552-1ba4c9a0947e",
   "metadata": {},
   "outputs": [
    {
     "name": "stdout",
     "output_type": "stream",
     "text": [
      "<class 'pandas.core.frame.DataFrame'>\n",
      "RangeIndex: 881 entries, 0 to 880\n",
      "Data columns (total 17 columns):\n",
      " #   Column           Non-Null Count  Dtype         \n",
      "---  ------           --------------  -----         \n",
      " 0   STATION          881 non-null    object        \n",
      " 1   NAME             881 non-null    object        \n",
      " 2   DATE             881 non-null    object        \n",
      " 3   PRCP             881 non-null    float64       \n",
      " 4   PRCP_ATTRIBUTES  881 non-null    object        \n",
      " 5   SNOW             0 non-null      float64       \n",
      " 6   SNOW_ATTRIBUTES  0 non-null      object        \n",
      " 7   SNWD             0 non-null      float64       \n",
      " 8   SNWD_ATTRIBUTES  0 non-null      object        \n",
      " 9   TAVG             881 non-null    float64       \n",
      " 10  TAVG_ATTRIBUTES  881 non-null    object        \n",
      " 11  TMAX             881 non-null    int64         \n",
      " 12  TMAX_ATTRIBUTES  881 non-null    object        \n",
      " 13  TMIN             881 non-null    int64         \n",
      " 14  TMIN_ATTRIBUTES  881 non-null    object        \n",
      " 15  DT               881 non-null    datetime64[us]\n",
      " 16  year             881 non-null    category      \n",
      "dtypes: category(1), datetime64[us](1), float64(4), int64(2), object(9)\n",
      "memory usage: 111.6+ KB\n"
     ]
    }
   ],
   "source": [
    "filters = [('year', '>=', 2021)]\n",
    "pd.read_parquet(file, \n",
    "                engine='pyarrow', \n",
    "                filters= filters).info()"
   ]
  },
  {
   "cell_type": "code",
   "execution_count": 143,
   "id": "078e9732-6ca4-47f3-a563-222c861fa480",
   "metadata": {},
   "outputs": [
    {
     "name": "stdout",
     "output_type": "stream",
     "text": [
      "<class 'pandas.core.frame.DataFrame'>\n",
      "RangeIndex: 881 entries, 0 to 880\n",
      "Data columns (total 17 columns):\n",
      " #   Column           Non-Null Count  Dtype         \n",
      "---  ------           --------------  -----         \n",
      " 0   STATION          881 non-null    object        \n",
      " 1   NAME             881 non-null    object        \n",
      " 2   DATE             881 non-null    object        \n",
      " 3   PRCP             881 non-null    float64       \n",
      " 4   PRCP_ATTRIBUTES  881 non-null    object        \n",
      " 5   SNOW             0 non-null      float64       \n",
      " 6   SNOW_ATTRIBUTES  0 non-null      object        \n",
      " 7   SNWD             0 non-null      float64       \n",
      " 8   SNWD_ATTRIBUTES  0 non-null      object        \n",
      " 9   TAVG             881 non-null    float64       \n",
      " 10  TAVG_ATTRIBUTES  881 non-null    object        \n",
      " 11  TMAX             881 non-null    int64         \n",
      " 12  TMAX_ATTRIBUTES  881 non-null    object        \n",
      " 13  TMIN             881 non-null    int64         \n",
      " 14  TMIN_ATTRIBUTES  881 non-null    object        \n",
      " 15  DT               881 non-null    datetime64[us]\n",
      " 16  year             881 non-null    category      \n",
      "dtypes: category(1), datetime64[us](1), float64(4), int64(2), object(9)\n",
      "memory usage: 111.6+ KB\n"
     ]
    }
   ],
   "source": [
    "filters = [('year', 'in', [2021, 2022, 2023])]\n",
    "df = pd.read_parquet(file, \n",
    "                     engine='pyarrow', \n",
    "                     filters=filters)\n",
    "df.info()"
   ]
  },
  {
   "cell_type": "code",
   "execution_count": 144,
   "id": "67c65c69-344d-4a22-b1c7-98844b734f2f",
   "metadata": {},
   "outputs": [
    {
     "data": {
      "text/html": [
       "<div>\n",
       "<style scoped>\n",
       "    .dataframe tbody tr th:only-of-type {\n",
       "        vertical-align: middle;\n",
       "    }\n",
       "\n",
       "    .dataframe tbody tr th {\n",
       "        vertical-align: top;\n",
       "    }\n",
       "\n",
       "    .dataframe thead th {\n",
       "        text-align: right;\n",
       "    }\n",
       "</style>\n",
       "<table border=\"1\" class=\"dataframe\">\n",
       "  <thead>\n",
       "    <tr style=\"text-align: right;\">\n",
       "      <th></th>\n",
       "      <th>STATION</th>\n",
       "      <th>NAME</th>\n",
       "      <th>DATE</th>\n",
       "      <th>PRCP</th>\n",
       "      <th>PRCP_ATTRIBUTES</th>\n",
       "      <th>SNOW</th>\n",
       "      <th>SNOW_ATTRIBUTES</th>\n",
       "      <th>SNWD</th>\n",
       "      <th>SNWD_ATTRIBUTES</th>\n",
       "      <th>TAVG</th>\n",
       "      <th>TAVG_ATTRIBUTES</th>\n",
       "      <th>TMAX</th>\n",
       "      <th>TMAX_ATTRIBUTES</th>\n",
       "      <th>TMIN</th>\n",
       "      <th>TMIN_ATTRIBUTES</th>\n",
       "      <th>DT</th>\n",
       "      <th>year</th>\n",
       "    </tr>\n",
       "  </thead>\n",
       "  <tbody>\n",
       "    <tr>\n",
       "      <th>0</th>\n",
       "      <td>USW00023174</td>\n",
       "      <td>LOS ANGELES INTERNATIONAL AIRPORT, CA US</td>\n",
       "      <td>2021-01-01</td>\n",
       "      <td>0.0</td>\n",
       "      <td>,,W,2400</td>\n",
       "      <td>NaN</td>\n",
       "      <td>None</td>\n",
       "      <td>NaN</td>\n",
       "      <td>None</td>\n",
       "      <td>57.0</td>\n",
       "      <td>H,,S</td>\n",
       "      <td>67</td>\n",
       "      <td>,,W</td>\n",
       "      <td>43</td>\n",
       "      <td>,,W</td>\n",
       "      <td>2021-01-01</td>\n",
       "      <td>2021</td>\n",
       "    </tr>\n",
       "    <tr>\n",
       "      <th>1</th>\n",
       "      <td>USW00023174</td>\n",
       "      <td>LOS ANGELES INTERNATIONAL AIRPORT, CA US</td>\n",
       "      <td>2021-01-02</td>\n",
       "      <td>0.0</td>\n",
       "      <td>,,W,2400</td>\n",
       "      <td>NaN</td>\n",
       "      <td>None</td>\n",
       "      <td>NaN</td>\n",
       "      <td>None</td>\n",
       "      <td>54.0</td>\n",
       "      <td>H,,S</td>\n",
       "      <td>63</td>\n",
       "      <td>,,W</td>\n",
       "      <td>46</td>\n",
       "      <td>,,W</td>\n",
       "      <td>2021-01-02</td>\n",
       "      <td>2021</td>\n",
       "    </tr>\n",
       "    <tr>\n",
       "      <th>2</th>\n",
       "      <td>USW00023174</td>\n",
       "      <td>LOS ANGELES INTERNATIONAL AIRPORT, CA US</td>\n",
       "      <td>2021-01-03</td>\n",
       "      <td>0.0</td>\n",
       "      <td>,,W,2400</td>\n",
       "      <td>NaN</td>\n",
       "      <td>None</td>\n",
       "      <td>NaN</td>\n",
       "      <td>None</td>\n",
       "      <td>54.0</td>\n",
       "      <td>H,,S</td>\n",
       "      <td>62</td>\n",
       "      <td>,,W</td>\n",
       "      <td>49</td>\n",
       "      <td>,,W</td>\n",
       "      <td>2021-01-03</td>\n",
       "      <td>2021</td>\n",
       "    </tr>\n",
       "    <tr>\n",
       "      <th>3</th>\n",
       "      <td>USW00023174</td>\n",
       "      <td>LOS ANGELES INTERNATIONAL AIRPORT, CA US</td>\n",
       "      <td>2021-01-04</td>\n",
       "      <td>0.0</td>\n",
       "      <td>,,W,2400</td>\n",
       "      <td>NaN</td>\n",
       "      <td>None</td>\n",
       "      <td>NaN</td>\n",
       "      <td>None</td>\n",
       "      <td>54.0</td>\n",
       "      <td>H,,S</td>\n",
       "      <td>59</td>\n",
       "      <td>,,W</td>\n",
       "      <td>48</td>\n",
       "      <td>,,W</td>\n",
       "      <td>2021-01-04</td>\n",
       "      <td>2021</td>\n",
       "    </tr>\n",
       "    <tr>\n",
       "      <th>4</th>\n",
       "      <td>USW00023174</td>\n",
       "      <td>LOS ANGELES INTERNATIONAL AIRPORT, CA US</td>\n",
       "      <td>2021-01-05</td>\n",
       "      <td>0.0</td>\n",
       "      <td>,,W,2400</td>\n",
       "      <td>NaN</td>\n",
       "      <td>None</td>\n",
       "      <td>NaN</td>\n",
       "      <td>None</td>\n",
       "      <td>54.0</td>\n",
       "      <td>H,,S</td>\n",
       "      <td>57</td>\n",
       "      <td>,,W</td>\n",
       "      <td>50</td>\n",
       "      <td>,,W</td>\n",
       "      <td>2021-01-05</td>\n",
       "      <td>2021</td>\n",
       "    </tr>\n",
       "  </tbody>\n",
       "</table>\n",
       "</div>"
      ],
      "text/plain": [
       "       STATION                                      NAME        DATE  PRCP  \\\n",
       "0  USW00023174  LOS ANGELES INTERNATIONAL AIRPORT, CA US  2021-01-01   0.0   \n",
       "1  USW00023174  LOS ANGELES INTERNATIONAL AIRPORT, CA US  2021-01-02   0.0   \n",
       "2  USW00023174  LOS ANGELES INTERNATIONAL AIRPORT, CA US  2021-01-03   0.0   \n",
       "3  USW00023174  LOS ANGELES INTERNATIONAL AIRPORT, CA US  2021-01-04   0.0   \n",
       "4  USW00023174  LOS ANGELES INTERNATIONAL AIRPORT, CA US  2021-01-05   0.0   \n",
       "\n",
       "  PRCP_ATTRIBUTES  SNOW SNOW_ATTRIBUTES  SNWD SNWD_ATTRIBUTES  TAVG  \\\n",
       "0        ,,W,2400   NaN            None   NaN            None  57.0   \n",
       "1        ,,W,2400   NaN            None   NaN            None  54.0   \n",
       "2        ,,W,2400   NaN            None   NaN            None  54.0   \n",
       "3        ,,W,2400   NaN            None   NaN            None  54.0   \n",
       "4        ,,W,2400   NaN            None   NaN            None  54.0   \n",
       "\n",
       "  TAVG_ATTRIBUTES  TMAX TMAX_ATTRIBUTES  TMIN TMIN_ATTRIBUTES         DT  year  \n",
       "0            H,,S    67             ,,W    43             ,,W 2021-01-01  2021  \n",
       "1            H,,S    63             ,,W    46             ,,W 2021-01-02  2021  \n",
       "2            H,,S    62             ,,W    49             ,,W 2021-01-03  2021  \n",
       "3            H,,S    59             ,,W    48             ,,W 2021-01-04  2021  \n",
       "4            H,,S    57             ,,W    50             ,,W 2021-01-05  2021  "
      ]
     },
     "execution_count": 144,
     "metadata": {},
     "output_type": "execute_result"
    }
   ],
   "source": [
    "df.head()"
   ]
  },
  {
   "cell_type": "code",
   "execution_count": 145,
   "id": "41e5104d-5f15-4df7-bebf-7bb96828be84",
   "metadata": {},
   "outputs": [
    {
     "data": {
      "text/html": [
       "<div>\n",
       "<style scoped>\n",
       "    .dataframe tbody tr th:only-of-type {\n",
       "        vertical-align: middle;\n",
       "    }\n",
       "\n",
       "    .dataframe tbody tr th {\n",
       "        vertical-align: top;\n",
       "    }\n",
       "\n",
       "    .dataframe thead th {\n",
       "        text-align: right;\n",
       "    }\n",
       "</style>\n",
       "<table border=\"1\" class=\"dataframe\">\n",
       "  <thead>\n",
       "    <tr style=\"text-align: right;\">\n",
       "      <th></th>\n",
       "      <th>DATE</th>\n",
       "      <th>year</th>\n",
       "      <th>TMAX</th>\n",
       "    </tr>\n",
       "  </thead>\n",
       "  <tbody>\n",
       "    <tr>\n",
       "      <th>0</th>\n",
       "      <td>2021-01-01</td>\n",
       "      <td>2021</td>\n",
       "      <td>67</td>\n",
       "    </tr>\n",
       "    <tr>\n",
       "      <th>1</th>\n",
       "      <td>2021-01-02</td>\n",
       "      <td>2021</td>\n",
       "      <td>63</td>\n",
       "    </tr>\n",
       "    <tr>\n",
       "      <th>2</th>\n",
       "      <td>2021-01-03</td>\n",
       "      <td>2021</td>\n",
       "      <td>62</td>\n",
       "    </tr>\n",
       "    <tr>\n",
       "      <th>3</th>\n",
       "      <td>2021-01-04</td>\n",
       "      <td>2021</td>\n",
       "      <td>59</td>\n",
       "    </tr>\n",
       "    <tr>\n",
       "      <th>4</th>\n",
       "      <td>2021-01-05</td>\n",
       "      <td>2021</td>\n",
       "      <td>57</td>\n",
       "    </tr>\n",
       "  </tbody>\n",
       "</table>\n",
       "</div>"
      ],
      "text/plain": [
       "         DATE  year  TMAX\n",
       "0  2021-01-01  2021    67\n",
       "1  2021-01-02  2021    63\n",
       "2  2021-01-03  2021    62\n",
       "3  2021-01-04  2021    59\n",
       "4  2021-01-05  2021    57"
      ]
     },
     "execution_count": 145,
     "metadata": {},
     "output_type": "execute_result"
    }
   ],
   "source": [
    "columns = ['DATE', 'year', 'TMAX']\n",
    "df = pd.read_parquet(file, \n",
    "                     engine='pyarrow', \n",
    "                     filters=filters, \n",
    "                     columns=columns)\n",
    "\n",
    "df.head()"
   ]
  },
  {
   "cell_type": "code",
   "execution_count": 146,
   "id": "22237eb9-229d-4003-b028-6de67e1a623b",
   "metadata": {},
   "outputs": [
    {
     "name": "stdout",
     "output_type": "stream",
     "text": [
      "<class 'pandas.core.frame.DataFrame'>\n",
      "RangeIndex: 881 entries, 0 to 880\n",
      "Data columns (total 3 columns):\n",
      " #   Column  Non-Null Count  Dtype   \n",
      "---  ------  --------------  -----   \n",
      " 0   DATE    881 non-null    object  \n",
      " 1   year    881 non-null    category\n",
      " 2   TMAX    881 non-null    int64   \n",
      "dtypes: category(1), int64(1), object(1)\n",
      "memory usage: 15.2+ KB\n"
     ]
    }
   ],
   "source": [
    "df.info()"
   ]
  },
  {
   "cell_type": "markdown",
   "id": "5f9ef33e-7456-449a-82e5-8f205d657fae",
   "metadata": {},
   "source": [
    "## There is more"
   ]
  },
  {
   "cell_type": "code",
   "execution_count": 147,
   "id": "2c4eab52-3fa4-40a1-bcd3-0dcc81c86198",
   "metadata": {},
   "outputs": [],
   "source": [
    "import pyarrow.parquet as pq\n",
    "import pyarrow as pa\n",
    "from pathlib import Path\n",
    "\n",
    "file = Path('../../datasets/Ch2/LA_weather.parquet/')\n",
    "table = pq.read_table(file, filters=filters, columns=columns)"
   ]
  },
  {
   "cell_type": "code",
   "execution_count": 148,
   "id": "7110d489-0ea5-40d8-8744-cb89b094b8fe",
   "metadata": {},
   "outputs": [
    {
     "data": {
      "text/plain": [
       "True"
      ]
     },
     "execution_count": 148,
     "metadata": {},
     "output_type": "execute_result"
    }
   ],
   "source": [
    "import pyarrow as pa\n",
    "isinstance(table, pa.Table)"
   ]
  },
  {
   "cell_type": "code",
   "execution_count": 150,
   "id": "0e150b68-93ee-497e-bd6b-8c912f8ba379",
   "metadata": {},
   "outputs": [
    {
     "name": "stdout",
     "output_type": "stream",
     "text": [
      "<class 'pandas.core.frame.DataFrame'>\n",
      "RangeIndex: 881 entries, 0 to 880\n",
      "Data columns (total 3 columns):\n",
      " #   Column  Non-Null Count  Dtype   \n",
      "---  ------  --------------  -----   \n",
      " 0   DATE    881 non-null    object  \n",
      " 1   year    881 non-null    category\n",
      " 2   TMAX    881 non-null    int64   \n",
      "dtypes: category(1), int64(1), object(1)\n",
      "memory usage: 15.2+ KB\n"
     ]
    }
   ],
   "source": [
    "df = table.to_pandas()\n",
    "df.info()"
   ]
  },
  {
   "cell_type": "code",
   "execution_count": 151,
   "id": "8af83870-98b9-4ac5-a5ba-62c0d13d5076",
   "metadata": {},
   "outputs": [
    {
     "data": {
      "text/html": [
       "<div>\n",
       "<style scoped>\n",
       "    .dataframe tbody tr th:only-of-type {\n",
       "        vertical-align: middle;\n",
       "    }\n",
       "\n",
       "    .dataframe tbody tr th {\n",
       "        vertical-align: top;\n",
       "    }\n",
       "\n",
       "    .dataframe thead th {\n",
       "        text-align: right;\n",
       "    }\n",
       "</style>\n",
       "<table border=\"1\" class=\"dataframe\">\n",
       "  <thead>\n",
       "    <tr style=\"text-align: right;\">\n",
       "      <th></th>\n",
       "      <th>DATE</th>\n",
       "      <th>year</th>\n",
       "      <th>TMAX</th>\n",
       "    </tr>\n",
       "  </thead>\n",
       "  <tbody>\n",
       "    <tr>\n",
       "      <th>0</th>\n",
       "      <td>2021-01-01</td>\n",
       "      <td>2021</td>\n",
       "      <td>67</td>\n",
       "    </tr>\n",
       "    <tr>\n",
       "      <th>1</th>\n",
       "      <td>2021-01-02</td>\n",
       "      <td>2021</td>\n",
       "      <td>63</td>\n",
       "    </tr>\n",
       "    <tr>\n",
       "      <th>2</th>\n",
       "      <td>2021-01-03</td>\n",
       "      <td>2021</td>\n",
       "      <td>62</td>\n",
       "    </tr>\n",
       "    <tr>\n",
       "      <th>3</th>\n",
       "      <td>2021-01-04</td>\n",
       "      <td>2021</td>\n",
       "      <td>59</td>\n",
       "    </tr>\n",
       "    <tr>\n",
       "      <th>4</th>\n",
       "      <td>2021-01-05</td>\n",
       "      <td>2021</td>\n",
       "      <td>57</td>\n",
       "    </tr>\n",
       "  </tbody>\n",
       "</table>\n",
       "</div>"
      ],
      "text/plain": [
       "         DATE  year  TMAX\n",
       "0  2021-01-01  2021    67\n",
       "1  2021-01-02  2021    63\n",
       "2  2021-01-03  2021    62\n",
       "3  2021-01-04  2021    59\n",
       "4  2021-01-05  2021    57"
      ]
     },
     "execution_count": 151,
     "metadata": {},
     "output_type": "execute_result"
    }
   ],
   "source": [
    "df.head()"
   ]
  },
  {
   "cell_type": "code",
   "execution_count": 152,
   "id": "fed9bcc3-5847-4558-8721-05705c51840b",
   "metadata": {},
   "outputs": [
    {
     "data": {
      "text/plain": [
       "['DATE', 'year', 'TMAX']"
      ]
     },
     "execution_count": 152,
     "metadata": {},
     "output_type": "execute_result"
    }
   ],
   "source": [
    "table.column_names"
   ]
  },
  {
   "cell_type": "code",
   "execution_count": 153,
   "id": "883658cb-cd71-4046-83be-f8340412cff4",
   "metadata": {},
   "outputs": [
    {
     "data": {
      "text/plain": [
       "DATE: string\n",
       "year: dictionary<values=int32, indices=int32, ordered=0>\n",
       "TMAX: int64\n",
       "-- schema metadata --\n",
       "pandas: '{\"index_columns\": [{\"kind\": \"range\", \"name\": null, \"start\": 0, \"' + 2236"
      ]
     },
     "execution_count": 153,
     "metadata": {},
     "output_type": "execute_result"
    }
   ],
   "source": [
    "table.schema"
   ]
  },
  {
   "cell_type": "code",
   "execution_count": 154,
   "id": "f7011593-52e8-4f00-8033-f25b439a13bd",
   "metadata": {},
   "outputs": [
    {
     "data": {
      "text/plain": [
       "['DATE', 'year', 'TMAX']"
      ]
     },
     "execution_count": 154,
     "metadata": {},
     "output_type": "execute_result"
    }
   ],
   "source": [
    "table.column_names"
   ]
  },
  {
   "cell_type": "code",
   "execution_count": 155,
   "id": "3e0c8576-a8d9-46dc-8b47-50e7d6df553c",
   "metadata": {},
   "outputs": [
    {
     "data": {
      "text/plain": [
       "pyarrow.lib.Table"
      ]
     },
     "execution_count": 155,
     "metadata": {},
     "output_type": "execute_result"
    }
   ],
   "source": [
    "type(table)"
   ]
  },
  {
   "cell_type": "code",
   "execution_count": 156,
   "id": "79d495a2-a17a-49dc-a152-08eae4d098ed",
   "metadata": {},
   "outputs": [],
   "source": [
    "# table.schema.pandas_metadata"
   ]
  },
  {
   "cell_type": "code",
   "execution_count": 75,
   "id": "60ff2352-27e4-4950-90b3-f3f552dc7f9c",
   "metadata": {},
   "outputs": [],
   "source": [
    "pq_dataset = pq.ParquetDataset(file, filters=filters)"
   ]
  },
  {
   "cell_type": "code",
   "execution_count": 76,
   "id": "08718ed0-4acc-48af-9125-d02af6cf5a32",
   "metadata": {},
   "outputs": [
    {
     "data": {
      "text/plain": [
       "<pyarrow.parquet.core._ParquetDatasetV2 at 0x169d90b90>"
      ]
     },
     "execution_count": 76,
     "metadata": {},
     "output_type": "execute_result"
    }
   ],
   "source": [
    "pq_dataset"
   ]
  },
  {
   "cell_type": "code",
   "execution_count": 77,
   "id": "4a5e6f65-c77e-447d-9370-a25eaa63f32e",
   "metadata": {},
   "outputs": [
    {
     "data": {
      "text/plain": [
       "pyarrow.parquet.core._ParquetDatasetV2"
      ]
     },
     "execution_count": 77,
     "metadata": {},
     "output_type": "execute_result"
    }
   ],
   "source": [
    "type(pq_dataset)"
   ]
  },
  {
   "cell_type": "code",
   "execution_count": 78,
   "id": "26fc0678-b9b7-4b96-b243-843a8d7ee286",
   "metadata": {},
   "outputs": [
    {
     "data": {
      "text/plain": [
       "['../../datasets/Ch2/LA_weather.parquet/year=2010/0e2f2d178c2247a8814dadb9998d32e8-0.parquet',\n",
       " '../../datasets/Ch2/LA_weather.parquet/year=2011/0e2f2d178c2247a8814dadb9998d32e8-0.parquet',\n",
       " '../../datasets/Ch2/LA_weather.parquet/year=2012/0e2f2d178c2247a8814dadb9998d32e8-0.parquet',\n",
       " '../../datasets/Ch2/LA_weather.parquet/year=2013/0e2f2d178c2247a8814dadb9998d32e8-0.parquet',\n",
       " '../../datasets/Ch2/LA_weather.parquet/year=2014/0e2f2d178c2247a8814dadb9998d32e8-0.parquet',\n",
       " '../../datasets/Ch2/LA_weather.parquet/year=2015/0e2f2d178c2247a8814dadb9998d32e8-0.parquet',\n",
       " '../../datasets/Ch2/LA_weather.parquet/year=2016/0e2f2d178c2247a8814dadb9998d32e8-0.parquet',\n",
       " '../../datasets/Ch2/LA_weather.parquet/year=2017/0e2f2d178c2247a8814dadb9998d32e8-0.parquet',\n",
       " '../../datasets/Ch2/LA_weather.parquet/year=2018/0e2f2d178c2247a8814dadb9998d32e8-0.parquet',\n",
       " '../../datasets/Ch2/LA_weather.parquet/year=2019/0e2f2d178c2247a8814dadb9998d32e8-0.parquet',\n",
       " '../../datasets/Ch2/LA_weather.parquet/year=2020/0e2f2d178c2247a8814dadb9998d32e8-0.parquet',\n",
       " '../../datasets/Ch2/LA_weather.parquet/year=2021/0e2f2d178c2247a8814dadb9998d32e8-0.parquet',\n",
       " '../../datasets/Ch2/LA_weather.parquet/year=2022/0e2f2d178c2247a8814dadb9998d32e8-0.parquet',\n",
       " '../../datasets/Ch2/LA_weather.parquet/year=2023/0e2f2d178c2247a8814dadb9998d32e8-0.parquet']"
      ]
     },
     "execution_count": 78,
     "metadata": {},
     "output_type": "execute_result"
    }
   ],
   "source": [
    "pq_dataset.files"
   ]
  },
  {
   "cell_type": "code",
   "execution_count": 79,
   "id": "e2fba92b-1477-437e-a9df-cbe9d14494b9",
   "metadata": {},
   "outputs": [
    {
     "data": {
      "text/plain": [
       "STATION: string\n",
       "NAME: string\n",
       "DATE: string\n",
       "PRCP: double\n",
       "PRCP_ATTRIBUTES: string\n",
       "SNOW: double\n",
       "SNOW_ATTRIBUTES: string\n",
       "SNWD: double\n",
       "SNWD_ATTRIBUTES: string\n",
       "TAVG: double\n",
       "TAVG_ATTRIBUTES: string\n",
       "TMAX: int64\n",
       "TMAX_ATTRIBUTES: string\n",
       "TMIN: int64\n",
       "TMIN_ATTRIBUTES: string\n",
       "DT: timestamp[us]\n",
       "year: dictionary<values=int32, indices=int32, ordered=0>\n",
       "-- schema metadata --\n",
       "pandas: '{\"index_columns\": [{\"kind\": \"range\", \"name\": null, \"start\": 0, \"' + 2236"
      ]
     },
     "execution_count": 79,
     "metadata": {},
     "output_type": "execute_result"
    }
   ],
   "source": [
    "pq_dataset.schema"
   ]
  },
  {
   "cell_type": "code",
   "execution_count": 80,
   "id": "7fe55bb7-5c42-49ad-a1d4-1be595c01d0b",
   "metadata": {},
   "outputs": [
    {
     "data": {
      "text/plain": [
       "{'index_columns': [{'kind': 'range',\n",
       "   'name': None,\n",
       "   'start': 0,\n",
       "   'stop': 4899,\n",
       "   'step': 1}],\n",
       " 'column_indexes': [{'name': None,\n",
       "   'field_name': None,\n",
       "   'pandas_type': 'unicode',\n",
       "   'numpy_type': 'object',\n",
       "   'metadata': {'encoding': 'UTF-8'}}],\n",
       " 'columns': [{'name': 'STATION',\n",
       "   'field_name': 'STATION',\n",
       "   'pandas_type': 'unicode',\n",
       "   'numpy_type': 'object',\n",
       "   'metadata': None},\n",
       "  {'name': 'NAME',\n",
       "   'field_name': 'NAME',\n",
       "   'pandas_type': 'unicode',\n",
       "   'numpy_type': 'object',\n",
       "   'metadata': None},\n",
       "  {'name': 'DATE',\n",
       "   'field_name': 'DATE',\n",
       "   'pandas_type': 'unicode',\n",
       "   'numpy_type': 'object',\n",
       "   'metadata': None},\n",
       "  {'name': 'PRCP',\n",
       "   'field_name': 'PRCP',\n",
       "   'pandas_type': 'float64',\n",
       "   'numpy_type': 'float64',\n",
       "   'metadata': None},\n",
       "  {'name': 'PRCP_ATTRIBUTES',\n",
       "   'field_name': 'PRCP_ATTRIBUTES',\n",
       "   'pandas_type': 'unicode',\n",
       "   'numpy_type': 'object',\n",
       "   'metadata': None},\n",
       "  {'name': 'SNOW',\n",
       "   'field_name': 'SNOW',\n",
       "   'pandas_type': 'float64',\n",
       "   'numpy_type': 'float64',\n",
       "   'metadata': None},\n",
       "  {'name': 'SNOW_ATTRIBUTES',\n",
       "   'field_name': 'SNOW_ATTRIBUTES',\n",
       "   'pandas_type': 'unicode',\n",
       "   'numpy_type': 'object',\n",
       "   'metadata': None},\n",
       "  {'name': 'SNWD',\n",
       "   'field_name': 'SNWD',\n",
       "   'pandas_type': 'float64',\n",
       "   'numpy_type': 'float64',\n",
       "   'metadata': None},\n",
       "  {'name': 'SNWD_ATTRIBUTES',\n",
       "   'field_name': 'SNWD_ATTRIBUTES',\n",
       "   'pandas_type': 'unicode',\n",
       "   'numpy_type': 'object',\n",
       "   'metadata': None},\n",
       "  {'name': 'TAVG',\n",
       "   'field_name': 'TAVG',\n",
       "   'pandas_type': 'float64',\n",
       "   'numpy_type': 'float64',\n",
       "   'metadata': None},\n",
       "  {'name': 'TAVG_ATTRIBUTES',\n",
       "   'field_name': 'TAVG_ATTRIBUTES',\n",
       "   'pandas_type': 'unicode',\n",
       "   'numpy_type': 'object',\n",
       "   'metadata': None},\n",
       "  {'name': 'TMAX',\n",
       "   'field_name': 'TMAX',\n",
       "   'pandas_type': 'int64',\n",
       "   'numpy_type': 'int64',\n",
       "   'metadata': None},\n",
       "  {'name': 'TMAX_ATTRIBUTES',\n",
       "   'field_name': 'TMAX_ATTRIBUTES',\n",
       "   'pandas_type': 'unicode',\n",
       "   'numpy_type': 'object',\n",
       "   'metadata': None},\n",
       "  {'name': 'TMIN',\n",
       "   'field_name': 'TMIN',\n",
       "   'pandas_type': 'int64',\n",
       "   'numpy_type': 'int64',\n",
       "   'metadata': None},\n",
       "  {'name': 'TMIN_ATTRIBUTES',\n",
       "   'field_name': 'TMIN_ATTRIBUTES',\n",
       "   'pandas_type': 'unicode',\n",
       "   'numpy_type': 'object',\n",
       "   'metadata': None},\n",
       "  {'name': 'DT',\n",
       "   'field_name': 'DT',\n",
       "   'pandas_type': 'datetime',\n",
       "   'numpy_type': 'datetime64[ns]',\n",
       "   'metadata': None},\n",
       "  {'name': 'year',\n",
       "   'field_name': 'year',\n",
       "   'pandas_type': 'int32',\n",
       "   'numpy_type': 'int32',\n",
       "   'metadata': None}],\n",
       " 'creator': {'library': 'pyarrow', 'version': '12.0.0'},\n",
       " 'pandas_version': '2.0.2'}"
      ]
     },
     "execution_count": 80,
     "metadata": {},
     "output_type": "execute_result"
    }
   ],
   "source": [
    "pq_dataset.schema.pandas_metadata"
   ]
  },
  {
   "cell_type": "code",
   "execution_count": 81,
   "id": "dd56046d-d1a2-407d-94b3-fd51e42db9e8",
   "metadata": {},
   "outputs": [
    {
     "data": {
      "text/plain": [
       "{b'pandas': b'{\"index_columns\": [{\"kind\": \"range\", \"name\": null, \"start\": 0, \"stop\": 4899, \"step\": 1}], \"column_indexes\": [{\"name\": null, \"field_name\": null, \"pandas_type\": \"unicode\", \"numpy_type\": \"object\", \"metadata\": {\"encoding\": \"UTF-8\"}}], \"columns\": [{\"name\": \"STATION\", \"field_name\": \"STATION\", \"pandas_type\": \"unicode\", \"numpy_type\": \"object\", \"metadata\": null}, {\"name\": \"NAME\", \"field_name\": \"NAME\", \"pandas_type\": \"unicode\", \"numpy_type\": \"object\", \"metadata\": null}, {\"name\": \"DATE\", \"field_name\": \"DATE\", \"pandas_type\": \"unicode\", \"numpy_type\": \"object\", \"metadata\": null}, {\"name\": \"PRCP\", \"field_name\": \"PRCP\", \"pandas_type\": \"float64\", \"numpy_type\": \"float64\", \"metadata\": null}, {\"name\": \"PRCP_ATTRIBUTES\", \"field_name\": \"PRCP_ATTRIBUTES\", \"pandas_type\": \"unicode\", \"numpy_type\": \"object\", \"metadata\": null}, {\"name\": \"SNOW\", \"field_name\": \"SNOW\", \"pandas_type\": \"float64\", \"numpy_type\": \"float64\", \"metadata\": null}, {\"name\": \"SNOW_ATTRIBUTES\", \"field_name\": \"SNOW_ATTRIBUTES\", \"pandas_type\": \"unicode\", \"numpy_type\": \"object\", \"metadata\": null}, {\"name\": \"SNWD\", \"field_name\": \"SNWD\", \"pandas_type\": \"float64\", \"numpy_type\": \"float64\", \"metadata\": null}, {\"name\": \"SNWD_ATTRIBUTES\", \"field_name\": \"SNWD_ATTRIBUTES\", \"pandas_type\": \"unicode\", \"numpy_type\": \"object\", \"metadata\": null}, {\"name\": \"TAVG\", \"field_name\": \"TAVG\", \"pandas_type\": \"float64\", \"numpy_type\": \"float64\", \"metadata\": null}, {\"name\": \"TAVG_ATTRIBUTES\", \"field_name\": \"TAVG_ATTRIBUTES\", \"pandas_type\": \"unicode\", \"numpy_type\": \"object\", \"metadata\": null}, {\"name\": \"TMAX\", \"field_name\": \"TMAX\", \"pandas_type\": \"int64\", \"numpy_type\": \"int64\", \"metadata\": null}, {\"name\": \"TMAX_ATTRIBUTES\", \"field_name\": \"TMAX_ATTRIBUTES\", \"pandas_type\": \"unicode\", \"numpy_type\": \"object\", \"metadata\": null}, {\"name\": \"TMIN\", \"field_name\": \"TMIN\", \"pandas_type\": \"int64\", \"numpy_type\": \"int64\", \"metadata\": null}, {\"name\": \"TMIN_ATTRIBUTES\", \"field_name\": \"TMIN_ATTRIBUTES\", \"pandas_type\": \"unicode\", \"numpy_type\": \"object\", \"metadata\": null}, {\"name\": \"DT\", \"field_name\": \"DT\", \"pandas_type\": \"datetime\", \"numpy_type\": \"datetime64[ns]\", \"metadata\": null}, {\"name\": \"year\", \"field_name\": \"year\", \"pandas_type\": \"int32\", \"numpy_type\": \"int32\", \"metadata\": null}], \"creator\": {\"library\": \"pyarrow\", \"version\": \"12.0.0\"}, \"pandas_version\": \"2.0.2\"}'}"
      ]
     },
     "execution_count": 81,
     "metadata": {},
     "output_type": "execute_result"
    }
   ],
   "source": [
    "pq_dataset.schema.metadata"
   ]
  },
  {
   "cell_type": "code",
   "execution_count": 82,
   "id": "d647ecd0-f9e7-460b-bbd5-ffbfe9eb1884",
   "metadata": {},
   "outputs": [],
   "source": [
    "data = pq_dataset.read()"
   ]
  },
  {
   "cell_type": "code",
   "execution_count": 83,
   "id": "689a7fb6-2fbe-4037-9613-f550039fa3ed",
   "metadata": {},
   "outputs": [
    {
     "data": {
      "text/plain": [
       "pyarrow.lib.Table"
      ]
     },
     "execution_count": 83,
     "metadata": {},
     "output_type": "execute_result"
    }
   ],
   "source": [
    "type(data)"
   ]
  },
  {
   "cell_type": "code",
   "execution_count": 84,
   "id": "a1fbf939-2565-4435-b7b8-5813a2eea199",
   "metadata": {},
   "outputs": [
    {
     "data": {
      "text/plain": [
       "pyarrow.Table\n",
       "STATION: string\n",
       "NAME: string\n",
       "DATE: string\n",
       "PRCP: double\n",
       "PRCP_ATTRIBUTES: string\n",
       "SNOW: double\n",
       "SNOW_ATTRIBUTES: string\n",
       "SNWD: double\n",
       "SNWD_ATTRIBUTES: string\n",
       "TAVG: double\n",
       "TAVG_ATTRIBUTES: string\n",
       "TMAX: int64\n",
       "TMAX_ATTRIBUTES: string\n",
       "TMIN: int64\n",
       "TMIN_ATTRIBUTES: string\n",
       "DT: timestamp[us]\n",
       "year: dictionary<values=int32, indices=int32, ordered=0>\n",
       "----\n",
       "STATION: [[\"USW00023174\",\"USW00023174\",\"USW00023174\",\"USW00023174\",\"USW00023174\",...,\"USW00023174\",\"USW00023174\",\"USW00023174\",\"USW00023174\",\"USW00023174\"],[\"USW00023174\",\"USW00023174\",\"USW00023174\",\"USW00023174\",\"USW00023174\",...,\"USW00023174\",\"USW00023174\",\"USW00023174\",\"USW00023174\",\"USW00023174\"],[\"USW00023174\",\"USW00023174\",\"USW00023174\",\"USW00023174\",\"USW00023174\",...,\"USW00023174\",\"USW00023174\",\"USW00023174\",\"USW00023174\",\"USW00023174\"]]\n",
       "NAME: [[\"LOS ANGELES INTERNATIONAL AIRPORT, CA US\",\"LOS ANGELES INTERNATIONAL AIRPORT, CA US\",\"LOS ANGELES INTERNATIONAL AIRPORT, CA US\",\"LOS ANGELES INTERNATIONAL AIRPORT, CA US\",\"LOS ANGELES INTERNATIONAL AIRPORT, CA US\",...,\"LOS ANGELES INTERNATIONAL AIRPORT, CA US\",\"LOS ANGELES INTERNATIONAL AIRPORT, CA US\",\"LOS ANGELES INTERNATIONAL AIRPORT, CA US\",\"LOS ANGELES INTERNATIONAL AIRPORT, CA US\",\"LOS ANGELES INTERNATIONAL AIRPORT, CA US\"],[\"LOS ANGELES INTERNATIONAL AIRPORT, CA US\",\"LOS ANGELES INTERNATIONAL AIRPORT, CA US\",\"LOS ANGELES INTERNATIONAL AIRPORT, CA US\",\"LOS ANGELES INTERNATIONAL AIRPORT, CA US\",\"LOS ANGELES INTERNATIONAL AIRPORT, CA US\",...,\"LOS ANGELES INTERNATIONAL AIRPORT, CA US\",\"LOS ANGELES INTERNATIONAL AIRPORT, CA US\",\"LOS ANGELES INTERNATIONAL AIRPORT, CA US\",\"LOS ANGELES INTERNATIONAL AIRPORT, CA US\",\"LOS ANGELES INTERNATIONAL AIRPORT, CA US\"],[\"LOS ANGELES INTERNATIONAL AIRPORT, CA US\",\"LOS ANGELES INTERNATIONAL AIRPORT, CA US\",\"LOS ANGELES INTERNATIONAL AIRPORT, CA US\",\"LOS ANGELES INTERNATIONAL AIRPORT, CA US\",\"LOS ANGELES INTERNATIONAL AIRPORT, CA US\",...,\"LOS ANGELES INTERNATIONAL AIRPORT, CA US\",\"LOS ANGELES INTERNATIONAL AIRPORT, CA US\",\"LOS ANGELES INTERNATIONAL AIRPORT, CA US\",\"LOS ANGELES INTERNATIONAL AIRPORT, CA US\",\"LOS ANGELES INTERNATIONAL AIRPORT, CA US\"]]\n",
       "DATE: [[\"2021-01-01\",\"2021-01-02\",\"2021-01-03\",\"2021-01-04\",\"2021-01-05\",...,\"2021-12-27\",\"2021-12-28\",\"2021-12-29\",\"2021-12-30\",\"2021-12-31\"],[\"2022-01-01\",\"2022-01-02\",\"2022-01-03\",\"2022-01-04\",\"2022-01-05\",...,\"2022-12-27\",\"2022-12-28\",\"2022-12-29\",\"2022-12-30\",\"2022-12-31\"],[\"2023-01-01\",\"2023-01-02\",\"2023-01-03\",\"2023-01-04\",\"2023-01-05\",...,\"2023-05-27\",\"2023-05-28\",\"2023-05-29\",\"2023-05-30\",\"2023-05-31\"]]\n",
       "PRCP: [[0,0,0,0,0,...,0.29,0.02,1.2,3.12,0],[0,0,0,0,0,...,0.49,0.01,0,0.05,0.96],[0.1,0.03,0.05,0.54,1.07,...,0,0,0,0,0]]\n",
       "PRCP_ATTRIBUTES: [[\",,W,2400\",\",,W,2400\",\",,W,2400\",\",,W,2400\",\",,W,2400\",...,\",,W,2400\",\",,W,2400\",\",,W,2400\",\",,W,2400\",\",,W,2400\"],[\",,W,2400\",\",,W,2400\",\",,W,2400\",\",,W,2400\",\",,W,2400\",...,\",,W,2400\",\",,W,2400\",\"T,,W,2400\",\",,W,2400\",\",,W,2400\"],[\",,W,2400\",\",,W,2400\",\",,W,2400\",\",,W,2400\",\",,W,2400\",...,\",,W,2400\",\"T,,W,2400\",\",,W,2400\",\",,W,2400\",\",,W,2400\"]]\n",
       "SNOW: [[null,null,null,null,null,...,null,null,null,null,null],[null,null,null,null,null,...,null,null,null,null,null],[null,null,null,null,null,...,null,null,null,null,null]]\n",
       "SNOW_ATTRIBUTES: [[null,null,null,null,null,...,null,null,null,null,null],[null,null,null,null,null,...,null,null,null,null,null],[null,null,null,null,null,...,null,null,null,null,null]]\n",
       "SNWD: [[null,null,null,null,null,...,null,null,null,null,null],[null,null,null,null,null,...,null,null,null,null,null],[null,null,null,null,null,...,null,null,null,null,null]]\n",
       "SNWD_ATTRIBUTES: [[null,null,null,null,null,...,null,null,null,null,null],[null,null,null,null,null,...,null,null,null,null,null],[null,null,null,null,null,...,null,null,null,null,null]]\n",
       "TAVG: [[57,54,54,54,54,...,50,52,50,53,55],[55,54,53,52,54,...,60,57,58,57,58],[58,54,53,58,58,...,61,61,62,62,62]]\n",
       "..."
      ]
     },
     "execution_count": 84,
     "metadata": {},
     "output_type": "execute_result"
    }
   ],
   "source": [
    "data"
   ]
  },
  {
   "cell_type": "code",
   "execution_count": 85,
   "id": "2cded9f4-6910-41bb-a12b-6fe9bcb13b8e",
   "metadata": {},
   "outputs": [
    {
     "data": {
      "text/plain": [
       "17"
      ]
     },
     "execution_count": 85,
     "metadata": {},
     "output_type": "execute_result"
    }
   ],
   "source": [
    "data.num_columns"
   ]
  },
  {
   "cell_type": "code",
   "execution_count": 86,
   "id": "b762bd66-808f-4429-a138-17a9a3a3cc8a",
   "metadata": {},
   "outputs": [
    {
     "data": {
      "text/plain": [
       "881"
      ]
     },
     "execution_count": 86,
     "metadata": {},
     "output_type": "execute_result"
    }
   ],
   "source": [
    "data.num_rows"
   ]
  },
  {
   "cell_type": "code",
   "execution_count": 87,
   "id": "aaedc64c-4492-4542-a2ff-6dc7e69e5298",
   "metadata": {},
   "outputs": [
    {
     "data": {
      "text/plain": [
       "STATION: string\n",
       "NAME: string\n",
       "DATE: string\n",
       "PRCP: double\n",
       "PRCP_ATTRIBUTES: string\n",
       "SNOW: double\n",
       "SNOW_ATTRIBUTES: string\n",
       "SNWD: double\n",
       "SNWD_ATTRIBUTES: string\n",
       "TAVG: double\n",
       "TAVG_ATTRIBUTES: string\n",
       "TMAX: int64\n",
       "TMAX_ATTRIBUTES: string\n",
       "TMIN: int64\n",
       "TMIN_ATTRIBUTES: string\n",
       "DT: timestamp[us]\n",
       "year: dictionary<values=int32, indices=int32, ordered=0>\n",
       "-- schema metadata --\n",
       "pandas: '{\"index_columns\": [{\"kind\": \"range\", \"name\": null, \"start\": 0, \"' + 2236"
      ]
     },
     "execution_count": 87,
     "metadata": {},
     "output_type": "execute_result"
    }
   ],
   "source": [
    "data.schema"
   ]
  },
  {
   "cell_type": "code",
   "execution_count": 88,
   "id": "18fbd4a7-5d18-4eb5-a4c7-f1dcae9b2e07",
   "metadata": {},
   "outputs": [],
   "source": [
    "file = Path('../../datasets/Ch2/LA_weather.parquet/')\n",
    "table = pq.read_table(file)"
   ]
  },
  {
   "cell_type": "code",
   "execution_count": 89,
   "id": "2d44ae9c-66bf-419a-9706-8a8f90d2bcc1",
   "metadata": {},
   "outputs": [
    {
     "data": {
      "text/plain": [
       "4899"
      ]
     },
     "execution_count": 89,
     "metadata": {},
     "output_type": "execute_result"
    }
   ],
   "source": [
    "table.num_rows"
   ]
  },
  {
   "cell_type": "code",
   "execution_count": 90,
   "id": "5ecab809-bd1c-4c0b-b298-84affbef8d7e",
   "metadata": {},
   "outputs": [
    {
     "data": {
      "text/html": [
       "<div>\n",
       "<style scoped>\n",
       "    .dataframe tbody tr th:only-of-type {\n",
       "        vertical-align: middle;\n",
       "    }\n",
       "\n",
       "    .dataframe tbody tr th {\n",
       "        vertical-align: top;\n",
       "    }\n",
       "\n",
       "    .dataframe thead th {\n",
       "        text-align: right;\n",
       "    }\n",
       "</style>\n",
       "<table border=\"1\" class=\"dataframe\">\n",
       "  <thead>\n",
       "    <tr style=\"text-align: right;\">\n",
       "      <th></th>\n",
       "      <th>STATION</th>\n",
       "      <th>NAME</th>\n",
       "      <th>DATE</th>\n",
       "      <th>PRCP</th>\n",
       "      <th>PRCP_ATTRIBUTES</th>\n",
       "      <th>SNOW</th>\n",
       "      <th>SNOW_ATTRIBUTES</th>\n",
       "      <th>SNWD</th>\n",
       "      <th>SNWD_ATTRIBUTES</th>\n",
       "      <th>TAVG</th>\n",
       "      <th>TAVG_ATTRIBUTES</th>\n",
       "      <th>TMAX</th>\n",
       "      <th>TMAX_ATTRIBUTES</th>\n",
       "      <th>TMIN</th>\n",
       "      <th>TMIN_ATTRIBUTES</th>\n",
       "      <th>DT</th>\n",
       "      <th>year</th>\n",
       "    </tr>\n",
       "  </thead>\n",
       "  <tbody>\n",
       "    <tr>\n",
       "      <th>0</th>\n",
       "      <td>USW00023174</td>\n",
       "      <td>LOS ANGELES INTERNATIONAL AIRPORT, CA US</td>\n",
       "      <td>2010-01-01</td>\n",
       "      <td>0.0</td>\n",
       "      <td>,,0,2400</td>\n",
       "      <td>NaN</td>\n",
       "      <td>None</td>\n",
       "      <td>NaN</td>\n",
       "      <td>None</td>\n",
       "      <td>NaN</td>\n",
       "      <td>None</td>\n",
       "      <td>69</td>\n",
       "      <td>,,0</td>\n",
       "      <td>50</td>\n",
       "      <td>,,0</td>\n",
       "      <td>2010-01-01</td>\n",
       "      <td>2010</td>\n",
       "    </tr>\n",
       "    <tr>\n",
       "      <th>1</th>\n",
       "      <td>USW00023174</td>\n",
       "      <td>LOS ANGELES INTERNATIONAL AIRPORT, CA US</td>\n",
       "      <td>2010-01-02</td>\n",
       "      <td>0.0</td>\n",
       "      <td>,,0,2400</td>\n",
       "      <td>NaN</td>\n",
       "      <td>None</td>\n",
       "      <td>NaN</td>\n",
       "      <td>None</td>\n",
       "      <td>NaN</td>\n",
       "      <td>None</td>\n",
       "      <td>76</td>\n",
       "      <td>,,0</td>\n",
       "      <td>55</td>\n",
       "      <td>,,0</td>\n",
       "      <td>2010-01-02</td>\n",
       "      <td>2010</td>\n",
       "    </tr>\n",
       "    <tr>\n",
       "      <th>2</th>\n",
       "      <td>USW00023174</td>\n",
       "      <td>LOS ANGELES INTERNATIONAL AIRPORT, CA US</td>\n",
       "      <td>2010-01-03</td>\n",
       "      <td>0.0</td>\n",
       "      <td>,,0,2400</td>\n",
       "      <td>NaN</td>\n",
       "      <td>None</td>\n",
       "      <td>NaN</td>\n",
       "      <td>None</td>\n",
       "      <td>NaN</td>\n",
       "      <td>None</td>\n",
       "      <td>80</td>\n",
       "      <td>,,0</td>\n",
       "      <td>52</td>\n",
       "      <td>,,0</td>\n",
       "      <td>2010-01-03</td>\n",
       "      <td>2010</td>\n",
       "    </tr>\n",
       "    <tr>\n",
       "      <th>3</th>\n",
       "      <td>USW00023174</td>\n",
       "      <td>LOS ANGELES INTERNATIONAL AIRPORT, CA US</td>\n",
       "      <td>2010-01-04</td>\n",
       "      <td>0.0</td>\n",
       "      <td>,,0,2400</td>\n",
       "      <td>NaN</td>\n",
       "      <td>None</td>\n",
       "      <td>NaN</td>\n",
       "      <td>None</td>\n",
       "      <td>NaN</td>\n",
       "      <td>None</td>\n",
       "      <td>75</td>\n",
       "      <td>,,0</td>\n",
       "      <td>53</td>\n",
       "      <td>,,0</td>\n",
       "      <td>2010-01-04</td>\n",
       "      <td>2010</td>\n",
       "    </tr>\n",
       "    <tr>\n",
       "      <th>4</th>\n",
       "      <td>USW00023174</td>\n",
       "      <td>LOS ANGELES INTERNATIONAL AIRPORT, CA US</td>\n",
       "      <td>2010-01-05</td>\n",
       "      <td>0.0</td>\n",
       "      <td>,,0,2400</td>\n",
       "      <td>NaN</td>\n",
       "      <td>None</td>\n",
       "      <td>NaN</td>\n",
       "      <td>None</td>\n",
       "      <td>NaN</td>\n",
       "      <td>None</td>\n",
       "      <td>76</td>\n",
       "      <td>,,0</td>\n",
       "      <td>52</td>\n",
       "      <td>,,0</td>\n",
       "      <td>2010-01-05</td>\n",
       "      <td>2010</td>\n",
       "    </tr>\n",
       "    <tr>\n",
       "      <th>...</th>\n",
       "      <td>...</td>\n",
       "      <td>...</td>\n",
       "      <td>...</td>\n",
       "      <td>...</td>\n",
       "      <td>...</td>\n",
       "      <td>...</td>\n",
       "      <td>...</td>\n",
       "      <td>...</td>\n",
       "      <td>...</td>\n",
       "      <td>...</td>\n",
       "      <td>...</td>\n",
       "      <td>...</td>\n",
       "      <td>...</td>\n",
       "      <td>...</td>\n",
       "      <td>...</td>\n",
       "      <td>...</td>\n",
       "      <td>...</td>\n",
       "    </tr>\n",
       "    <tr>\n",
       "      <th>4894</th>\n",
       "      <td>USW00023174</td>\n",
       "      <td>LOS ANGELES INTERNATIONAL AIRPORT, CA US</td>\n",
       "      <td>2023-05-27</td>\n",
       "      <td>0.0</td>\n",
       "      <td>,,W,2400</td>\n",
       "      <td>NaN</td>\n",
       "      <td>None</td>\n",
       "      <td>NaN</td>\n",
       "      <td>None</td>\n",
       "      <td>61.0</td>\n",
       "      <td>H,,S</td>\n",
       "      <td>67</td>\n",
       "      <td>,,W</td>\n",
       "      <td>58</td>\n",
       "      <td>,,W</td>\n",
       "      <td>2023-05-27</td>\n",
       "      <td>2023</td>\n",
       "    </tr>\n",
       "    <tr>\n",
       "      <th>4895</th>\n",
       "      <td>USW00023174</td>\n",
       "      <td>LOS ANGELES INTERNATIONAL AIRPORT, CA US</td>\n",
       "      <td>2023-05-28</td>\n",
       "      <td>0.0</td>\n",
       "      <td>T,,W,2400</td>\n",
       "      <td>NaN</td>\n",
       "      <td>None</td>\n",
       "      <td>NaN</td>\n",
       "      <td>None</td>\n",
       "      <td>61.0</td>\n",
       "      <td>H,,S</td>\n",
       "      <td>64</td>\n",
       "      <td>,,W</td>\n",
       "      <td>59</td>\n",
       "      <td>,,W</td>\n",
       "      <td>2023-05-28</td>\n",
       "      <td>2023</td>\n",
       "    </tr>\n",
       "    <tr>\n",
       "      <th>4896</th>\n",
       "      <td>USW00023174</td>\n",
       "      <td>LOS ANGELES INTERNATIONAL AIRPORT, CA US</td>\n",
       "      <td>2023-05-29</td>\n",
       "      <td>0.0</td>\n",
       "      <td>,,W,2400</td>\n",
       "      <td>NaN</td>\n",
       "      <td>None</td>\n",
       "      <td>NaN</td>\n",
       "      <td>None</td>\n",
       "      <td>62.0</td>\n",
       "      <td>H,,S</td>\n",
       "      <td>68</td>\n",
       "      <td>,,W</td>\n",
       "      <td>61</td>\n",
       "      <td>,,W</td>\n",
       "      <td>2023-05-29</td>\n",
       "      <td>2023</td>\n",
       "    </tr>\n",
       "    <tr>\n",
       "      <th>4897</th>\n",
       "      <td>USW00023174</td>\n",
       "      <td>LOS ANGELES INTERNATIONAL AIRPORT, CA US</td>\n",
       "      <td>2023-05-30</td>\n",
       "      <td>0.0</td>\n",
       "      <td>,,W,2400</td>\n",
       "      <td>NaN</td>\n",
       "      <td>None</td>\n",
       "      <td>NaN</td>\n",
       "      <td>None</td>\n",
       "      <td>62.0</td>\n",
       "      <td>H,,S</td>\n",
       "      <td>66</td>\n",
       "      <td>,,W</td>\n",
       "      <td>60</td>\n",
       "      <td>,,W</td>\n",
       "      <td>2023-05-30</td>\n",
       "      <td>2023</td>\n",
       "    </tr>\n",
       "    <tr>\n",
       "      <th>4898</th>\n",
       "      <td>USW00023174</td>\n",
       "      <td>LOS ANGELES INTERNATIONAL AIRPORT, CA US</td>\n",
       "      <td>2023-05-31</td>\n",
       "      <td>0.0</td>\n",
       "      <td>,,W,2400</td>\n",
       "      <td>NaN</td>\n",
       "      <td>None</td>\n",
       "      <td>NaN</td>\n",
       "      <td>None</td>\n",
       "      <td>62.0</td>\n",
       "      <td>H,,S</td>\n",
       "      <td>68</td>\n",
       "      <td>,,W</td>\n",
       "      <td>59</td>\n",
       "      <td>,,W</td>\n",
       "      <td>2023-05-31</td>\n",
       "      <td>2023</td>\n",
       "    </tr>\n",
       "  </tbody>\n",
       "</table>\n",
       "<p>4899 rows × 17 columns</p>\n",
       "</div>"
      ],
      "text/plain": [
       "          STATION                                      NAME        DATE  PRCP  \\\n",
       "0     USW00023174  LOS ANGELES INTERNATIONAL AIRPORT, CA US  2010-01-01   0.0   \n",
       "1     USW00023174  LOS ANGELES INTERNATIONAL AIRPORT, CA US  2010-01-02   0.0   \n",
       "2     USW00023174  LOS ANGELES INTERNATIONAL AIRPORT, CA US  2010-01-03   0.0   \n",
       "3     USW00023174  LOS ANGELES INTERNATIONAL AIRPORT, CA US  2010-01-04   0.0   \n",
       "4     USW00023174  LOS ANGELES INTERNATIONAL AIRPORT, CA US  2010-01-05   0.0   \n",
       "...           ...                                       ...         ...   ...   \n",
       "4894  USW00023174  LOS ANGELES INTERNATIONAL AIRPORT, CA US  2023-05-27   0.0   \n",
       "4895  USW00023174  LOS ANGELES INTERNATIONAL AIRPORT, CA US  2023-05-28   0.0   \n",
       "4896  USW00023174  LOS ANGELES INTERNATIONAL AIRPORT, CA US  2023-05-29   0.0   \n",
       "4897  USW00023174  LOS ANGELES INTERNATIONAL AIRPORT, CA US  2023-05-30   0.0   \n",
       "4898  USW00023174  LOS ANGELES INTERNATIONAL AIRPORT, CA US  2023-05-31   0.0   \n",
       "\n",
       "     PRCP_ATTRIBUTES  SNOW SNOW_ATTRIBUTES  SNWD SNWD_ATTRIBUTES  TAVG  \\\n",
       "0           ,,0,2400   NaN            None   NaN            None   NaN   \n",
       "1           ,,0,2400   NaN            None   NaN            None   NaN   \n",
       "2           ,,0,2400   NaN            None   NaN            None   NaN   \n",
       "3           ,,0,2400   NaN            None   NaN            None   NaN   \n",
       "4           ,,0,2400   NaN            None   NaN            None   NaN   \n",
       "...              ...   ...             ...   ...             ...   ...   \n",
       "4894        ,,W,2400   NaN            None   NaN            None  61.0   \n",
       "4895       T,,W,2400   NaN            None   NaN            None  61.0   \n",
       "4896        ,,W,2400   NaN            None   NaN            None  62.0   \n",
       "4897        ,,W,2400   NaN            None   NaN            None  62.0   \n",
       "4898        ,,W,2400   NaN            None   NaN            None  62.0   \n",
       "\n",
       "     TAVG_ATTRIBUTES  TMAX TMAX_ATTRIBUTES  TMIN TMIN_ATTRIBUTES         DT  \\\n",
       "0               None    69             ,,0    50             ,,0 2010-01-01   \n",
       "1               None    76             ,,0    55             ,,0 2010-01-02   \n",
       "2               None    80             ,,0    52             ,,0 2010-01-03   \n",
       "3               None    75             ,,0    53             ,,0 2010-01-04   \n",
       "4               None    76             ,,0    52             ,,0 2010-01-05   \n",
       "...              ...   ...             ...   ...             ...        ...   \n",
       "4894            H,,S    67             ,,W    58             ,,W 2023-05-27   \n",
       "4895            H,,S    64             ,,W    59             ,,W 2023-05-28   \n",
       "4896            H,,S    68             ,,W    61             ,,W 2023-05-29   \n",
       "4897            H,,S    66             ,,W    60             ,,W 2023-05-30   \n",
       "4898            H,,S    68             ,,W    59             ,,W 2023-05-31   \n",
       "\n",
       "      year  \n",
       "0     2010  \n",
       "1     2010  \n",
       "2     2010  \n",
       "3     2010  \n",
       "4     2010  \n",
       "...    ...  \n",
       "4894  2023  \n",
       "4895  2023  \n",
       "4896  2023  \n",
       "4897  2023  \n",
       "4898  2023  \n",
       "\n",
       "[4899 rows x 17 columns]"
      ]
     },
     "execution_count": 90,
     "metadata": {},
     "output_type": "execute_result"
    }
   ],
   "source": [
    "table.to_pandas()"
   ]
  },
  {
   "cell_type": "code",
   "execution_count": 91,
   "id": "2172154b-2831-44c5-a959-9e6b03694f52",
   "metadata": {},
   "outputs": [
    {
     "data": {
      "text/plain": [
       "pyarrow.Table\n",
       "DATE: string\n",
       "year: dictionary<values=int32, indices=int8, ordered=0>\n",
       "TMAX: int64\n",
       "----\n",
       "DATE: [[\"2021-01-01\",\"2021-01-02\",\"2021-01-03\",\"2021-01-04\",\"2021-01-05\",...,\"2023-05-27\",\"2023-05-28\",\"2023-05-29\",\"2023-05-30\",\"2023-05-31\"]]\n",
       "year: [  -- dictionary:\n",
       "[2010,2011,2012,2013,2014,...,2019,2020,2021,2022,2023]  -- indices:\n",
       "[11,11,11,11,11,...,13,13,13,13,13]]\n",
       "TMAX: [[67,63,62,59,57,...,67,64,68,66,68]]"
      ]
     },
     "execution_count": 91,
     "metadata": {},
     "output_type": "execute_result"
    }
   ],
   "source": [
    "pa.Table.from_pandas(df)"
   ]
  },
  {
   "cell_type": "markdown",
   "id": "547dd778-5c97-43df-a263-02579fb4ae12",
   "metadata": {},
   "source": [
    "### Passing a Schema"
   ]
  },
  {
   "cell_type": "code",
   "execution_count": 92,
   "id": "6aeace17-3615-47f2-8aa5-8d1f3acd31f6",
   "metadata": {},
   "outputs": [],
   "source": [
    "columns = ['DATE','year', 'TMAX']\n",
    "filters = [('year', 'in', [2021, 2022, 2023])]\n",
    "\n",
    "tb = pq.read_table(file,\n",
    "                   filters=filters, \n",
    "                   columns=columns,\n",
    "                   use_pandas_metadata=True)\n",
    "\n",
    "df_pa = tb.to_pandas()"
   ]
  },
  {
   "cell_type": "code",
   "execution_count": 93,
   "id": "9d4ea0d3-4c1f-488d-9e22-6989e270ae32",
   "metadata": {},
   "outputs": [
    {
     "name": "stdout",
     "output_type": "stream",
     "text": [
      "<class 'pandas.core.frame.DataFrame'>\n",
      "RangeIndex: 881 entries, 0 to 880\n",
      "Data columns (total 3 columns):\n",
      " #   Column  Non-Null Count  Dtype   \n",
      "---  ------  --------------  -----   \n",
      " 0   DATE    881 non-null    object  \n",
      " 1   year    881 non-null    category\n",
      " 2   TMAX    881 non-null    int64   \n",
      "dtypes: category(1), int64(1), object(1)\n",
      "memory usage: 15.2+ KB\n"
     ]
    }
   ],
   "source": [
    "df_pa.info()"
   ]
  },
  {
   "cell_type": "code",
   "execution_count": 94,
   "id": "485fe837-85ae-4fa0-a385-7526d8c18a50",
   "metadata": {},
   "outputs": [
    {
     "name": "stdout",
     "output_type": "stream",
     "text": [
      "<class 'pandas.core.frame.DataFrame'>\n",
      "RangeIndex: 881 entries, 0 to 880\n",
      "Data columns (total 3 columns):\n",
      " #   Column  Non-Null Count  Dtype   \n",
      "---  ------  --------------  -----   \n",
      " 0   DATE    881 non-null    object  \n",
      " 1   year    881 non-null    category\n",
      " 2   TMAX    881 non-null    int64   \n",
      "dtypes: category(1), int64(1), object(1)\n",
      "memory usage: 15.2+ KB\n"
     ]
    }
   ],
   "source": [
    "df_pd = pd.read_parquet(file, \n",
    "                        filters=filters, \n",
    "                        columns=columns,\n",
    "                        use_pandas_metadata=True)\n",
    "\n",
    "df_pd.info()"
   ]
  },
  {
   "cell_type": "code",
   "execution_count": 95,
   "id": "010d57c6-f6ae-47d3-b504-8d259616ebc7",
   "metadata": {},
   "outputs": [],
   "source": [
    "schema = pa.schema([\n",
    "    ('DATE', pa.string()),\n",
    "    ('year', pa.int64()),\n",
    "    ('TMAX', pa.int64())\n",
    "])\n"
   ]
  },
  {
   "cell_type": "markdown",
   "id": "b262de4d-6bce-42b9-9259-38299fdb3f74",
   "metadata": {},
   "source": [
    "# Recipe 5 - Working with Large Data Files"
   ]
  },
  {
   "cell_type": "code",
   "execution_count": 1,
   "id": "ea9fb94e-e658-473c-bd67-3a3d1957d4ce",
   "metadata": {},
   "outputs": [],
   "source": [
    "# Script to create one large data file \n",
    "\n",
    "# import pandas as pd\n",
    "# import glob\n",
    "\n",
    "# def run_once():\n",
    "#     # Directory path where Parquet files are located\n",
    "#     directory = '../../datasets/Ch2/yellow_tripdata_2023-*.parquet'\n",
    "    \n",
    "#     # Get a list of all Parquet files in the directory\n",
    "#     parquet_files = glob.glob(directory)\n",
    "    \n",
    "#     # Read all Parquet files into a single DataFrame\n",
    "#     dfs = []\n",
    "#     for file in parquet_files:\n",
    "#         df = pd.read_parquet(file)\n",
    "#         dfs.append(df)\n",
    "    \n",
    "#     # Concatenate all DataFrames into a single DataFrame\n",
    "#     combined_df = pd.concat(dfs)\n",
    "#     # combined_df.to_parquet('../../datasets/Ch2/yellow_tripdata_2023.parquet', engine='pyarrow')\n",
    "#     combined_df.to_csv('../../datasets/Ch2/yellow_tripdata_2023.csv', index=False)\n",
    "\n",
    "# run_once()"
   ]
  },
  {
   "cell_type": "markdown",
   "id": "257be096-3b72-41a8-8939-fa117a58c892",
   "metadata": {},
   "source": [
    "### Using other librarys\n",
    "* Polars\n",
    "* Dask"
   ]
  },
  {
   "cell_type": "code",
   "execution_count": 1,
   "id": "aefd5b90-2135-407c-bb62-1d781a70e900",
   "metadata": {},
   "outputs": [],
   "source": [
    "import pandas as pd\n",
    "import time\n",
    "import psutil\n",
    "import polars as pl\n",
    "import dask.dataframe as dd\n",
    "from pathlib import Path"
   ]
  },
  {
   "cell_type": "code",
   "execution_count": 2,
   "id": "cc234d50-36e3-4e5d-9527-715b5647e2a2",
   "metadata": {},
   "outputs": [
    {
     "name": "stdout",
     "output_type": "stream",
     "text": [
      "polars version: 0.20.5\n",
      "dask version: 2024.1.0\n"
     ]
    }
   ],
   "source": [
    "print(f'polars version: {pl.__version__}')\n",
    "import dask\n",
    "print(f'dask version: {dask.__version__}')"
   ]
  },
  {
   "cell_type": "code",
   "execution_count": 3,
   "id": "69c2797e-1dc2-4b12-8aad-8049672b43b9",
   "metadata": {},
   "outputs": [],
   "source": [
    "#import memory_profiler \n",
    "%load_ext memory_profiler"
   ]
  },
  {
   "cell_type": "code",
   "execution_count": 6,
   "id": "c9c7dec2-b371-46bc-8c10-4f88462c9ea6",
   "metadata": {},
   "outputs": [],
   "source": [
    "# %whos"
   ]
  },
  {
   "cell_type": "code",
   "execution_count": null,
   "id": "7122479c-66df-4dc2-adaf-58160d8c3c73",
   "metadata": {},
   "outputs": [],
   "source": []
  },
  {
   "cell_type": "code",
   "execution_count": 4,
   "id": "6d3ddf82-d84e-41eb-9918-2c1e101eb240",
   "metadata": {},
   "outputs": [],
   "source": [
    "# Read in the CSV file\n",
    "file_path = Path('../../datasets/Ch2/yellow_tripdata_2023.csv')"
   ]
  },
  {
   "cell_type": "code",
   "execution_count": 6,
   "id": "72c3d8fb-2056-40c1-942a-61860d8443a9",
   "metadata": {},
   "outputs": [],
   "source": [
    "# # Function to calculate memory usage\n",
    "# def get_memory_usage():\n",
    "#     process = psutil.Process()\n",
    "#     return process.memory_info().rss"
   ]
  },
  {
   "cell_type": "code",
   "execution_count": 5,
   "id": "153c7e35-343a-4974-8686-4961db90a1df",
   "metadata": {},
   "outputs": [],
   "source": [
    "# %%timeit \n",
    "# %memit df_pd = pd.read_csv(file_path, low_memory=False)"
   ]
  },
  {
   "cell_type": "markdown",
   "id": "b9a43c1d-bb7b-4902-bcdd-e33485f86b3b",
   "metadata": {},
   "source": [
    "**Normal Read using pandas `read_csv`**"
   ]
  },
  {
   "cell_type": "code",
   "execution_count": 5,
   "id": "fff7f50c-f64b-46e1-aa93-82193af17100",
   "metadata": {},
   "outputs": [
    {
     "name": "stdout",
     "output_type": "stream",
     "text": [
      "peak memory: 9553.33 MiB, increment: 9389.50 MiB\n",
      "peak memory: 10299.89 MiB, increment: 1981.12 MiB\n",
      "peak memory: 10125.02 MiB, increment: 2164.66 MiB\n",
      "peak memory: 10333.33 MiB, increment: 2553.16 MiB\n",
      "peak memory: 11226.66 MiB, increment: 2932.64 MiB\n",
      "peak memory: 12169.59 MiB, increment: 3268.19 MiB\n",
      "peak memory: 12344.64 MiB, increment: 3949.64 MiB\n",
      "peak memory: 10361.05 MiB, increment: 2209.27 MiB\n",
      "26.3 s ± 499 ms per loop (mean ± std. dev. of 7 runs, 1 loop each)\n"
     ]
    }
   ],
   "source": [
    "%%timeit \n",
    "%memit df_pd = pd.read_csv(file_path, low_memory=False)"
   ]
  },
  {
   "cell_type": "code",
   "execution_count": 14,
   "id": "e21eb745-5c2a-41b1-9180-e2f617cf4299",
   "metadata": {},
   "outputs": [],
   "source": [
    "#%prun df_pd = pd.read_csv(file_path, low_memory=False)"
   ]
  },
  {
   "cell_type": "code",
   "execution_count": 6,
   "id": "6a6872b6-a92c-4b60-ad87-aecfdac46c6d",
   "metadata": {},
   "outputs": [],
   "source": [
    "# df_pd.info()"
   ]
  },
  {
   "cell_type": "code",
   "execution_count": 7,
   "id": "ad44b49d-972f-4049-a2cb-6611e9a56111",
   "metadata": {},
   "outputs": [],
   "source": [
    "del df_pd"
   ]
  },
  {
   "cell_type": "code",
   "execution_count": 8,
   "id": "a7ecd254-c696-4b4d-b854-84efa4f99e5e",
   "metadata": {},
   "outputs": [
    {
     "name": "stdout",
     "output_type": "stream",
     "text": [
      "peak memory: 10698.91 MiB, increment: 4871.73 MiB\n",
      "peak memory: 12857.08 MiB, increment: 3653.81 MiB\n",
      "peak memory: 12743.42 MiB, increment: 4877.66 MiB\n",
      "peak memory: 12544.95 MiB, increment: 4674.19 MiB\n",
      "peak memory: 12351.64 MiB, increment: 4878.78 MiB\n",
      "peak memory: 12344.61 MiB, increment: 4984.69 MiB\n",
      "peak memory: 12267.38 MiB, increment: 4901.64 MiB\n",
      "peak memory: 12245.53 MiB, increment: 4951.77 MiB\n",
      "1.18 s ± 123 ms per loop (mean ± std. dev. of 7 runs, 1 loop each)\n"
     ]
    }
   ],
   "source": [
    "%%timeit \n",
    "%memit df_pl = pl.read_csv(file_path)"
   ]
  },
  {
   "cell_type": "code",
   "execution_count": 16,
   "id": "d94a5fd4-b3ab-4e72-88fe-5930c945c667",
   "metadata": {},
   "outputs": [],
   "source": [
    "# df_pl.dtypes"
   ]
  },
  {
   "cell_type": "code",
   "execution_count": 9,
   "id": "d7387252-9bcf-4e24-9a30-e6beba0b25a1",
   "metadata": {},
   "outputs": [],
   "source": [
    "# df_pl.head()"
   ]
  },
  {
   "cell_type": "code",
   "execution_count": 10,
   "id": "61c2c2c6-96e8-4e34-91cc-bbd4e711bd8b",
   "metadata": {},
   "outputs": [],
   "source": [
    "# df_pl.height"
   ]
  },
  {
   "cell_type": "code",
   "execution_count": 11,
   "id": "647373ea-da89-483b-8c16-06666d96d860",
   "metadata": {},
   "outputs": [],
   "source": [
    "del df_pl"
   ]
  },
  {
   "cell_type": "code",
   "execution_count": 12,
   "id": "f1452248-d7f2-467f-bda8-6cc662c493e7",
   "metadata": {},
   "outputs": [
    {
     "name": "stdout",
     "output_type": "stream",
     "text": [
      "peak memory: 3931.23 MiB, increment: 2.59 MiB\n",
      "peak memory: 3931.28 MiB, increment: 0.05 MiB\n",
      "peak memory: 3931.28 MiB, increment: 0.00 MiB\n",
      "peak memory: 3931.28 MiB, increment: 0.00 MiB\n",
      "peak memory: 3931.95 MiB, increment: 0.67 MiB\n",
      "peak memory: 3931.97 MiB, increment: 0.02 MiB\n",
      "peak memory: 3933.38 MiB, increment: 1.41 MiB\n",
      "peak memory: 3933.38 MiB, increment: 0.00 MiB\n",
      "351 ms ± 4.24 ms per loop (mean ± std. dev. of 7 runs, 1 loop each)\n"
     ]
    }
   ],
   "source": [
    "%%timeit \n",
    "%memit df_dk = dd.read_csv(file_path)"
   ]
  },
  {
   "cell_type": "code",
   "execution_count": 13,
   "id": "80166e74-d5fc-4d72-a951-8603d8a16ead",
   "metadata": {},
   "outputs": [
    {
     "name": "stdout",
     "output_type": "stream",
     "text": [
      "<class 'dask.dataframe.core.DataFrame'>\n",
      "Columns: 20 entries, VendorID to airport_fee\n",
      "dtypes: float64(13), int64(4), string(3)"
     ]
    }
   ],
   "source": [
    "df_dk.info()"
   ]
  },
  {
   "cell_type": "code",
   "execution_count": 14,
   "id": "94fc3a72-3e00-4c09-b268-388e31b88e1b",
   "metadata": {},
   "outputs": [
    {
     "data": {
      "text/html": [
       "<div>\n",
       "<style scoped>\n",
       "    .dataframe tbody tr th:only-of-type {\n",
       "        vertical-align: middle;\n",
       "    }\n",
       "\n",
       "    .dataframe tbody tr th {\n",
       "        vertical-align: top;\n",
       "    }\n",
       "\n",
       "    .dataframe thead th {\n",
       "        text-align: right;\n",
       "    }\n",
       "</style>\n",
       "<table border=\"1\" class=\"dataframe\">\n",
       "  <thead>\n",
       "    <tr style=\"text-align: right;\">\n",
       "      <th></th>\n",
       "      <th>VendorID</th>\n",
       "      <th>tpep_pickup_datetime</th>\n",
       "      <th>tpep_dropoff_datetime</th>\n",
       "      <th>passenger_count</th>\n",
       "      <th>trip_distance</th>\n",
       "      <th>RatecodeID</th>\n",
       "      <th>store_and_fwd_flag</th>\n",
       "      <th>PULocationID</th>\n",
       "      <th>DOLocationID</th>\n",
       "      <th>payment_type</th>\n",
       "      <th>fare_amount</th>\n",
       "      <th>extra</th>\n",
       "      <th>mta_tax</th>\n",
       "      <th>tip_amount</th>\n",
       "      <th>tolls_amount</th>\n",
       "      <th>improvement_surcharge</th>\n",
       "      <th>total_amount</th>\n",
       "      <th>congestion_surcharge</th>\n",
       "      <th>Airport_fee</th>\n",
       "      <th>airport_fee</th>\n",
       "    </tr>\n",
       "  </thead>\n",
       "  <tbody>\n",
       "    <tr>\n",
       "      <th>0</th>\n",
       "      <td>1</td>\n",
       "      <td>2023-05-01 00:33:13</td>\n",
       "      <td>2023-05-01 00:53:01</td>\n",
       "      <td>0.0</td>\n",
       "      <td>7.80</td>\n",
       "      <td>1.0</td>\n",
       "      <td>N</td>\n",
       "      <td>138</td>\n",
       "      <td>43</td>\n",
       "      <td>1</td>\n",
       "      <td>33.8</td>\n",
       "      <td>7.75</td>\n",
       "      <td>0.5</td>\n",
       "      <td>8.60</td>\n",
       "      <td>0.00</td>\n",
       "      <td>1.0</td>\n",
       "      <td>51.65</td>\n",
       "      <td>0.0</td>\n",
       "      <td>1.75</td>\n",
       "      <td>NaN</td>\n",
       "    </tr>\n",
       "    <tr>\n",
       "      <th>1</th>\n",
       "      <td>1</td>\n",
       "      <td>2023-05-01 00:42:49</td>\n",
       "      <td>2023-05-01 01:11:18</td>\n",
       "      <td>2.0</td>\n",
       "      <td>8.10</td>\n",
       "      <td>1.0</td>\n",
       "      <td>N</td>\n",
       "      <td>138</td>\n",
       "      <td>262</td>\n",
       "      <td>1</td>\n",
       "      <td>35.9</td>\n",
       "      <td>10.25</td>\n",
       "      <td>0.5</td>\n",
       "      <td>9.50</td>\n",
       "      <td>0.00</td>\n",
       "      <td>1.0</td>\n",
       "      <td>57.15</td>\n",
       "      <td>2.5</td>\n",
       "      <td>1.75</td>\n",
       "      <td>NaN</td>\n",
       "    </tr>\n",
       "    <tr>\n",
       "      <th>2</th>\n",
       "      <td>1</td>\n",
       "      <td>2023-05-01 00:56:34</td>\n",
       "      <td>2023-05-01 01:13:39</td>\n",
       "      <td>2.0</td>\n",
       "      <td>9.10</td>\n",
       "      <td>1.0</td>\n",
       "      <td>N</td>\n",
       "      <td>138</td>\n",
       "      <td>141</td>\n",
       "      <td>1</td>\n",
       "      <td>35.2</td>\n",
       "      <td>10.25</td>\n",
       "      <td>0.5</td>\n",
       "      <td>10.70</td>\n",
       "      <td>6.55</td>\n",
       "      <td>1.0</td>\n",
       "      <td>64.20</td>\n",
       "      <td>2.5</td>\n",
       "      <td>1.75</td>\n",
       "      <td>NaN</td>\n",
       "    </tr>\n",
       "    <tr>\n",
       "      <th>3</th>\n",
       "      <td>2</td>\n",
       "      <td>2023-05-01 00:00:52</td>\n",
       "      <td>2023-05-01 00:20:12</td>\n",
       "      <td>1.0</td>\n",
       "      <td>8.21</td>\n",
       "      <td>1.0</td>\n",
       "      <td>N</td>\n",
       "      <td>138</td>\n",
       "      <td>140</td>\n",
       "      <td>1</td>\n",
       "      <td>33.1</td>\n",
       "      <td>6.00</td>\n",
       "      <td>0.5</td>\n",
       "      <td>2.24</td>\n",
       "      <td>0.00</td>\n",
       "      <td>1.0</td>\n",
       "      <td>47.09</td>\n",
       "      <td>2.5</td>\n",
       "      <td>1.75</td>\n",
       "      <td>NaN</td>\n",
       "    </tr>\n",
       "    <tr>\n",
       "      <th>4</th>\n",
       "      <td>1</td>\n",
       "      <td>2023-05-01 00:05:50</td>\n",
       "      <td>2023-05-01 00:19:41</td>\n",
       "      <td>0.0</td>\n",
       "      <td>7.90</td>\n",
       "      <td>1.0</td>\n",
       "      <td>N</td>\n",
       "      <td>138</td>\n",
       "      <td>263</td>\n",
       "      <td>1</td>\n",
       "      <td>31.0</td>\n",
       "      <td>10.25</td>\n",
       "      <td>0.5</td>\n",
       "      <td>9.85</td>\n",
       "      <td>6.55</td>\n",
       "      <td>1.0</td>\n",
       "      <td>59.15</td>\n",
       "      <td>2.5</td>\n",
       "      <td>1.75</td>\n",
       "      <td>NaN</td>\n",
       "    </tr>\n",
       "  </tbody>\n",
       "</table>\n",
       "</div>"
      ],
      "text/plain": [
       "   VendorID tpep_pickup_datetime tpep_dropoff_datetime  passenger_count  \\\n",
       "0         1  2023-05-01 00:33:13   2023-05-01 00:53:01              0.0   \n",
       "1         1  2023-05-01 00:42:49   2023-05-01 01:11:18              2.0   \n",
       "2         1  2023-05-01 00:56:34   2023-05-01 01:13:39              2.0   \n",
       "3         2  2023-05-01 00:00:52   2023-05-01 00:20:12              1.0   \n",
       "4         1  2023-05-01 00:05:50   2023-05-01 00:19:41              0.0   \n",
       "\n",
       "   trip_distance  RatecodeID store_and_fwd_flag  PULocationID  DOLocationID  \\\n",
       "0           7.80         1.0                  N           138            43   \n",
       "1           8.10         1.0                  N           138           262   \n",
       "2           9.10         1.0                  N           138           141   \n",
       "3           8.21         1.0                  N           138           140   \n",
       "4           7.90         1.0                  N           138           263   \n",
       "\n",
       "   payment_type  fare_amount  extra  mta_tax  tip_amount  tolls_amount  \\\n",
       "0             1         33.8   7.75      0.5        8.60          0.00   \n",
       "1             1         35.9  10.25      0.5        9.50          0.00   \n",
       "2             1         35.2  10.25      0.5       10.70          6.55   \n",
       "3             1         33.1   6.00      0.5        2.24          0.00   \n",
       "4             1         31.0  10.25      0.5        9.85          6.55   \n",
       "\n",
       "   improvement_surcharge  total_amount  congestion_surcharge  Airport_fee  \\\n",
       "0                    1.0         51.65                   0.0         1.75   \n",
       "1                    1.0         57.15                   2.5         1.75   \n",
       "2                    1.0         64.20                   2.5         1.75   \n",
       "3                    1.0         47.09                   2.5         1.75   \n",
       "4                    1.0         59.15                   2.5         1.75   \n",
       "\n",
       "   airport_fee  \n",
       "0          NaN  \n",
       "1          NaN  \n",
       "2          NaN  \n",
       "3          NaN  \n",
       "4          NaN  "
      ]
     },
     "execution_count": 14,
     "metadata": {},
     "output_type": "execute_result"
    }
   ],
   "source": [
    "df_dk.head()"
   ]
  },
  {
   "cell_type": "code",
   "execution_count": 15,
   "id": "b886da76-7e2d-459f-92a0-b84ff89b9e56",
   "metadata": {},
   "outputs": [],
   "source": [
    "del df_dk"
   ]
  },
  {
   "cell_type": "markdown",
   "id": "4d9e5fdd-d725-4298-b67e-a183f1872bb2",
   "metadata": {},
   "source": [
    "### Chunking "
   ]
  },
  {
   "cell_type": "code",
   "execution_count": 16,
   "id": "f53c2dee-f921-4933-834f-f347af7835b8",
   "metadata": {},
   "outputs": [
    {
     "name": "stdout",
     "output_type": "stream",
     "text": [
      "The memory_profiler extension is already loaded. To reload it, use:\n",
      "  %reload_ext memory_profiler\n"
     ]
    }
   ],
   "source": [
    "import pandas as pd\n",
    "from pathlib import Path\n",
    "\n",
    "import memory_profiler \n",
    "%load_ext memory_profiler\n",
    "\n",
    "file_path = Path('../../datasets/Ch2/yellow_tripdata_2023.csv')"
   ]
  },
  {
   "cell_type": "code",
   "execution_count": 26,
   "id": "98f6d94e-a126-40f6-ad30-20a2ad7c9720",
   "metadata": {},
   "outputs": [],
   "source": [
    "# %%timeit\n",
    "# %memit df_pd = pd.read_csv(file_path, low_memory=False)"
   ]
  },
  {
   "cell_type": "code",
   "execution_count": 25,
   "id": "fd3b3ec6-7808-4da6-bcae-3b177f4770b5",
   "metadata": {},
   "outputs": [],
   "source": [
    "# %%timeit\n",
    "# %memit pd.concat([chunk for chunk  in pd.read_csv(file_path, chunksize=10000, low_memory=False)])"
   ]
  },
  {
   "cell_type": "code",
   "execution_count": 24,
   "id": "b679e0e1-0192-44e1-b459-0f35e1a8428e",
   "metadata": {},
   "outputs": [],
   "source": [
    "# df_pd = pd.concat([chunk for chunk  in pd.read_csv(file_path, chunksize=10000, low_memory=False, parse_dates=['tpep_pickup_datetime', 'tpep_dropoff_datetime'])])"
   ]
  },
  {
   "cell_type": "code",
   "execution_count": null,
   "id": "52cea0a7-3c56-4ebe-bdaa-5f905252d9c7",
   "metadata": {},
   "outputs": [],
   "source": [
    "# memory_map"
   ]
  },
  {
   "cell_type": "code",
   "execution_count": 23,
   "id": "f04e1129-845a-43ae-a695-ea076ab49654",
   "metadata": {},
   "outputs": [],
   "source": [
    "# df_pd.info()"
   ]
  },
  {
   "cell_type": "code",
   "execution_count": 22,
   "id": "19863bf8-9f26-488b-8874-bc95a74eed5f",
   "metadata": {},
   "outputs": [],
   "source": [
    "# df_pd.head()"
   ]
  },
  {
   "cell_type": "code",
   "execution_count": 55,
   "id": "be329eea-98ff-491a-ac16-4f158e2e1fb6",
   "metadata": {},
   "outputs": [
    {
     "data": {
      "text/plain": [
       "0          0 days 00:19:48\n",
       "1          0 days 00:28:29\n",
       "2          0 days 00:17:05\n",
       "3          0 days 00:19:20\n",
       "4          0 days 00:13:51\n",
       "                 ...      \n",
       "16186381   0 days 00:16:29\n",
       "16186382   0 days 00:39:22\n",
       "16186383   0 days 00:23:08\n",
       "16186384   0 days 00:08:05\n",
       "16186385   0 days 00:05:35\n",
       "Length: 16186386, dtype: timedelta64[ns]"
      ]
     },
     "execution_count": 55,
     "metadata": {},
     "output_type": "execute_result"
    }
   ],
   "source": [
    "df_pd['tpep_dropoff_datetime'] - df_pd['tpep_pickup_datetime']"
   ]
  },
  {
   "cell_type": "code",
   "execution_count": 2,
   "id": "1d53736a-8eac-4db9-8a0f-09d217348ba7",
   "metadata": {},
   "outputs": [],
   "source": [
    "import pandas as pd\n",
    "from pathlib import Path\n",
    "\n",
    "import memory_profiler \n",
    "%load_ext memory_profiler\n",
    "\n",
    "file_path = Path('../../datasets/Ch2/yellow_tripdata_2023.csv')"
   ]
  },
  {
   "cell_type": "code",
   "execution_count": 21,
   "id": "7cdc7412-4ee1-47d9-87a4-352739788eb4",
   "metadata": {},
   "outputs": [],
   "source": [
    "# %%time\n",
    "# %memit df_pd = pd.read_csv(file_path, memory_map=True, parse_dates=['tpep_pickup_datetime', 'tpep_dropoff_datetime'])"
   ]
  },
  {
   "cell_type": "code",
   "execution_count": 20,
   "id": "21852a75-cb6a-4618-ad32-6f8bc9f23013",
   "metadata": {},
   "outputs": [],
   "source": [
    "# %%time\n",
    "# %memit df_pd = pd.read_csv(file_path, memory_map=False, parse_dates=['tpep_pickup_datetime', 'tpep_dropoff_datetime'])"
   ]
  },
  {
   "cell_type": "code",
   "execution_count": 19,
   "id": "09249def-f6e1-4e3b-90cc-47dfc1193583",
   "metadata": {},
   "outputs": [],
   "source": [
    "# %%time\n",
    "# %memit df_pd = pd.concat([chunk for chunk  in pd.read_csv(file_path, chunksize=10000, parse_dates=['tpep_pickup_datetime', 'tpep_dropoff_datetime'])])"
   ]
  },
  {
   "cell_type": "code",
   "execution_count": 18,
   "id": "3cfff1f3-ac22-45f7-b2ca-1cb0a7a09bd4",
   "metadata": {},
   "outputs": [],
   "source": [
    "# df_pd"
   ]
  },
  {
   "cell_type": "code",
   "execution_count": 17,
   "id": "0b580c0d-056a-4a77-a000-a2d9f48feb6f",
   "metadata": {},
   "outputs": [],
   "source": [
    "df_pd = pd.read_csv(file_path, low_memory=False)"
   ]
  },
  {
   "cell_type": "code",
   "execution_count": 28,
   "id": "0bf137ef-798b-4df5-a405-22b0be9d71ac",
   "metadata": {},
   "outputs": [
    {
     "data": {
      "text/html": [
       "<div>\n",
       "<style scoped>\n",
       "    .dataframe tbody tr th:only-of-type {\n",
       "        vertical-align: middle;\n",
       "    }\n",
       "\n",
       "    .dataframe tbody tr th {\n",
       "        vertical-align: top;\n",
       "    }\n",
       "\n",
       "    .dataframe thead th {\n",
       "        text-align: right;\n",
       "    }\n",
       "</style>\n",
       "<table border=\"1\" class=\"dataframe\">\n",
       "  <thead>\n",
       "    <tr style=\"text-align: right;\">\n",
       "      <th></th>\n",
       "      <th>VendorID</th>\n",
       "      <th>tpep_pickup_datetime</th>\n",
       "      <th>tpep_dropoff_datetime</th>\n",
       "      <th>passenger_count</th>\n",
       "      <th>trip_distance</th>\n",
       "      <th>RatecodeID</th>\n",
       "      <th>store_and_fwd_flag</th>\n",
       "      <th>PULocationID</th>\n",
       "      <th>DOLocationID</th>\n",
       "      <th>payment_type</th>\n",
       "      <th>fare_amount</th>\n",
       "      <th>extra</th>\n",
       "      <th>mta_tax</th>\n",
       "      <th>tip_amount</th>\n",
       "      <th>tolls_amount</th>\n",
       "      <th>improvement_surcharge</th>\n",
       "      <th>total_amount</th>\n",
       "      <th>congestion_surcharge</th>\n",
       "      <th>Airport_fee</th>\n",
       "      <th>airport_fee</th>\n",
       "    </tr>\n",
       "  </thead>\n",
       "  <tbody>\n",
       "    <tr>\n",
       "      <th>0</th>\n",
       "      <td>1</td>\n",
       "      <td>2023-05-01 00:33:13</td>\n",
       "      <td>2023-05-01 00:53:01</td>\n",
       "      <td>0.0</td>\n",
       "      <td>7.80</td>\n",
       "      <td>1.0</td>\n",
       "      <td>N</td>\n",
       "      <td>138</td>\n",
       "      <td>43</td>\n",
       "      <td>1</td>\n",
       "      <td>33.8</td>\n",
       "      <td>7.75</td>\n",
       "      <td>0.5</td>\n",
       "      <td>8.60</td>\n",
       "      <td>0.00</td>\n",
       "      <td>1.0</td>\n",
       "      <td>51.65</td>\n",
       "      <td>0.0</td>\n",
       "      <td>1.75</td>\n",
       "      <td>NaN</td>\n",
       "    </tr>\n",
       "    <tr>\n",
       "      <th>1</th>\n",
       "      <td>1</td>\n",
       "      <td>2023-05-01 00:42:49</td>\n",
       "      <td>2023-05-01 01:11:18</td>\n",
       "      <td>2.0</td>\n",
       "      <td>8.10</td>\n",
       "      <td>1.0</td>\n",
       "      <td>N</td>\n",
       "      <td>138</td>\n",
       "      <td>262</td>\n",
       "      <td>1</td>\n",
       "      <td>35.9</td>\n",
       "      <td>10.25</td>\n",
       "      <td>0.5</td>\n",
       "      <td>9.50</td>\n",
       "      <td>0.00</td>\n",
       "      <td>1.0</td>\n",
       "      <td>57.15</td>\n",
       "      <td>2.5</td>\n",
       "      <td>1.75</td>\n",
       "      <td>NaN</td>\n",
       "    </tr>\n",
       "    <tr>\n",
       "      <th>2</th>\n",
       "      <td>1</td>\n",
       "      <td>2023-05-01 00:56:34</td>\n",
       "      <td>2023-05-01 01:13:39</td>\n",
       "      <td>2.0</td>\n",
       "      <td>9.10</td>\n",
       "      <td>1.0</td>\n",
       "      <td>N</td>\n",
       "      <td>138</td>\n",
       "      <td>141</td>\n",
       "      <td>1</td>\n",
       "      <td>35.2</td>\n",
       "      <td>10.25</td>\n",
       "      <td>0.5</td>\n",
       "      <td>10.70</td>\n",
       "      <td>6.55</td>\n",
       "      <td>1.0</td>\n",
       "      <td>64.20</td>\n",
       "      <td>2.5</td>\n",
       "      <td>1.75</td>\n",
       "      <td>NaN</td>\n",
       "    </tr>\n",
       "    <tr>\n",
       "      <th>3</th>\n",
       "      <td>2</td>\n",
       "      <td>2023-05-01 00:00:52</td>\n",
       "      <td>2023-05-01 00:20:12</td>\n",
       "      <td>1.0</td>\n",
       "      <td>8.21</td>\n",
       "      <td>1.0</td>\n",
       "      <td>N</td>\n",
       "      <td>138</td>\n",
       "      <td>140</td>\n",
       "      <td>1</td>\n",
       "      <td>33.1</td>\n",
       "      <td>6.00</td>\n",
       "      <td>0.5</td>\n",
       "      <td>2.24</td>\n",
       "      <td>0.00</td>\n",
       "      <td>1.0</td>\n",
       "      <td>47.09</td>\n",
       "      <td>2.5</td>\n",
       "      <td>1.75</td>\n",
       "      <td>NaN</td>\n",
       "    </tr>\n",
       "    <tr>\n",
       "      <th>4</th>\n",
       "      <td>1</td>\n",
       "      <td>2023-05-01 00:05:50</td>\n",
       "      <td>2023-05-01 00:19:41</td>\n",
       "      <td>0.0</td>\n",
       "      <td>7.90</td>\n",
       "      <td>1.0</td>\n",
       "      <td>N</td>\n",
       "      <td>138</td>\n",
       "      <td>263</td>\n",
       "      <td>1</td>\n",
       "      <td>31.0</td>\n",
       "      <td>10.25</td>\n",
       "      <td>0.5</td>\n",
       "      <td>9.85</td>\n",
       "      <td>6.55</td>\n",
       "      <td>1.0</td>\n",
       "      <td>59.15</td>\n",
       "      <td>2.5</td>\n",
       "      <td>1.75</td>\n",
       "      <td>NaN</td>\n",
       "    </tr>\n",
       "  </tbody>\n",
       "</table>\n",
       "</div>"
      ],
      "text/plain": [
       "   VendorID tpep_pickup_datetime tpep_dropoff_datetime  passenger_count  \\\n",
       "0         1  2023-05-01 00:33:13   2023-05-01 00:53:01              0.0   \n",
       "1         1  2023-05-01 00:42:49   2023-05-01 01:11:18              2.0   \n",
       "2         1  2023-05-01 00:56:34   2023-05-01 01:13:39              2.0   \n",
       "3         2  2023-05-01 00:00:52   2023-05-01 00:20:12              1.0   \n",
       "4         1  2023-05-01 00:05:50   2023-05-01 00:19:41              0.0   \n",
       "\n",
       "   trip_distance  RatecodeID store_and_fwd_flag  PULocationID  DOLocationID  \\\n",
       "0           7.80         1.0                  N           138            43   \n",
       "1           8.10         1.0                  N           138           262   \n",
       "2           9.10         1.0                  N           138           141   \n",
       "3           8.21         1.0                  N           138           140   \n",
       "4           7.90         1.0                  N           138           263   \n",
       "\n",
       "   payment_type  fare_amount  extra  mta_tax  tip_amount  tolls_amount  \\\n",
       "0             1         33.8   7.75      0.5        8.60          0.00   \n",
       "1             1         35.9  10.25      0.5        9.50          0.00   \n",
       "2             1         35.2  10.25      0.5       10.70          6.55   \n",
       "3             1         33.1   6.00      0.5        2.24          0.00   \n",
       "4             1         31.0  10.25      0.5        9.85          6.55   \n",
       "\n",
       "   improvement_surcharge  total_amount  congestion_surcharge  Airport_fee  \\\n",
       "0                    1.0         51.65                   0.0         1.75   \n",
       "1                    1.0         57.15                   2.5         1.75   \n",
       "2                    1.0         64.20                   2.5         1.75   \n",
       "3                    1.0         47.09                   2.5         1.75   \n",
       "4                    1.0         59.15                   2.5         1.75   \n",
       "\n",
       "   airport_fee  \n",
       "0          NaN  \n",
       "1          NaN  \n",
       "2          NaN  \n",
       "3          NaN  \n",
       "4          NaN  "
      ]
     },
     "execution_count": 28,
     "metadata": {},
     "output_type": "execute_result"
    }
   ],
   "source": [
    "df_pd.head()"
   ]
  },
  {
   "cell_type": "code",
   "execution_count": 29,
   "id": "a1bb5036-6e93-4d64-90df-736a414332e7",
   "metadata": {},
   "outputs": [
    {
     "name": "stdout",
     "output_type": "stream",
     "text": [
      "<class 'pandas.core.frame.DataFrame'>\n",
      "RangeIndex: 16186386 entries, 0 to 16186385\n",
      "Data columns (total 20 columns):\n",
      " #   Column                 Dtype  \n",
      "---  ------                 -----  \n",
      " 0   VendorID               int64  \n",
      " 1   tpep_pickup_datetime   object \n",
      " 2   tpep_dropoff_datetime  object \n",
      " 3   passenger_count        float64\n",
      " 4   trip_distance          float64\n",
      " 5   RatecodeID             float64\n",
      " 6   store_and_fwd_flag     object \n",
      " 7   PULocationID           int64  \n",
      " 8   DOLocationID           int64  \n",
      " 9   payment_type           int64  \n",
      " 10  fare_amount            float64\n",
      " 11  extra                  float64\n",
      " 12  mta_tax                float64\n",
      " 13  tip_amount             float64\n",
      " 14  tolls_amount           float64\n",
      " 15  improvement_surcharge  float64\n",
      " 16  total_amount           float64\n",
      " 17  congestion_surcharge   float64\n",
      " 18  Airport_fee            float64\n",
      " 19  airport_fee            float64\n",
      "dtypes: float64(13), int64(4), object(3)\n",
      "memory usage: 2.4+ GB\n"
     ]
    }
   ],
   "source": [
    "df_pd.info()"
   ]
  },
  {
   "cell_type": "code",
   "execution_count": 36,
   "id": "a296a184-4ce5-4319-a30c-16479c397a8d",
   "metadata": {},
   "outputs": [
    {
     "data": {
      "text/plain": [
       "VendorID                  0.000000\n",
       "tpep_pickup_datetime      0.000000\n",
       "tpep_dropoff_datetime     0.000000\n",
       "passenger_count           2.648306\n",
       "trip_distance             0.000000\n",
       "RatecodeID                2.648306\n",
       "store_and_fwd_flag        2.648306\n",
       "PULocationID              0.000000\n",
       "DOLocationID              0.000000\n",
       "payment_type              0.000000\n",
       "fare_amount               0.000000\n",
       "extra                     0.000000\n",
       "mta_tax                   0.000000\n",
       "tip_amount                0.000000\n",
       "tolls_amount              0.000000\n",
       "improvement_surcharge     0.000000\n",
       "total_amount              0.000000\n",
       "congestion_surcharge      2.648306\n",
       "Airport_fee              21.151652\n",
       "airport_fee              81.496654\n",
       "dtype: float64"
      ]
     },
     "execution_count": 36,
     "metadata": {},
     "output_type": "execute_result"
    }
   ],
   "source": [
    "(df_pd.isnull().sum()/df_pd.shape[0])*100"
   ]
  },
  {
   "cell_type": "code",
   "execution_count": 40,
   "id": "f06c6adb-370b-4623-bd5e-6814666a037d",
   "metadata": {},
   "outputs": [],
   "source": [
    "df_pd[['tpep_pickup_datetime', 'tpep_dropoff_datetime']] = df_pd[['tpep_pickup_datetime', 'tpep_dropoff_datetime']].apply(pd.to_datetime)"
   ]
  },
  {
   "cell_type": "code",
   "execution_count": 41,
   "id": "64bd5bac-6e7c-4667-b813-82932c47da0c",
   "metadata": {},
   "outputs": [
    {
     "name": "stdout",
     "output_type": "stream",
     "text": [
      "<class 'pandas.core.frame.DataFrame'>\n",
      "RangeIndex: 16186386 entries, 0 to 16186385\n",
      "Data columns (total 20 columns):\n",
      " #   Column                 Dtype         \n",
      "---  ------                 -----         \n",
      " 0   VendorID               int64         \n",
      " 1   tpep_pickup_datetime   datetime64[ns]\n",
      " 2   tpep_dropoff_datetime  datetime64[ns]\n",
      " 3   passenger_count        float64       \n",
      " 4   trip_distance          float64       \n",
      " 5   RatecodeID             float64       \n",
      " 6   store_and_fwd_flag     object        \n",
      " 7   PULocationID           int64         \n",
      " 8   DOLocationID           int64         \n",
      " 9   payment_type           int64         \n",
      " 10  fare_amount            float64       \n",
      " 11  extra                  float64       \n",
      " 12  mta_tax                float64       \n",
      " 13  tip_amount             float64       \n",
      " 14  tolls_amount           float64       \n",
      " 15  improvement_surcharge  float64       \n",
      " 16  total_amount           float64       \n",
      " 17  congestion_surcharge   float64       \n",
      " 18  Airport_fee            float64       \n",
      " 19  airport_fee            float64       \n",
      "dtypes: datetime64[ns](2), float64(13), int64(4), object(1)\n",
      "memory usage: 2.4+ GB\n"
     ]
    }
   ],
   "source": [
    "df_pd.info()"
   ]
  },
  {
   "cell_type": "code",
   "execution_count": 42,
   "id": "1a13b522-a712-4206-9703-ad12ffff0325",
   "metadata": {},
   "outputs": [],
   "source": [
    "df_pd['time_delta'] = df_pd['tpep_dropoff_datetime'] - df_pd['tpep_pickup_datetime']\n",
    "df_pd['year_month'] = df_pd['tpep_dropoff_datetime'].dt.year.astype('str') + df_pd['tpep_dropoff_datetime'].dt.month.astype('str')\n",
    "df_pd['day'] = df_pd['tpep_dropoff_datetime'].dt.date\n",
    "df_pd['year'] = df_pd['tpep_dropoff_datetime'].dt.year"
   ]
  },
  {
   "cell_type": "code",
   "execution_count": 43,
   "id": "50734a5f-99a8-4945-a9e1-f922e1604b06",
   "metadata": {},
   "outputs": [
    {
     "data": {
      "text/plain": [
       "Index(['VendorID', 'tpep_pickup_datetime', 'tpep_dropoff_datetime',\n",
       "       'passenger_count', 'trip_distance', 'RatecodeID', 'store_and_fwd_flag',\n",
       "       'PULocationID', 'DOLocationID', 'payment_type', 'fare_amount', 'extra',\n",
       "       'mta_tax', 'tip_amount', 'tolls_amount', 'improvement_surcharge',\n",
       "       'total_amount', 'congestion_surcharge', 'Airport_fee', 'airport_fee',\n",
       "       'time_delta', 'year_month', 'day', 'year'],\n",
       "      dtype='object')"
      ]
     },
     "execution_count": 43,
     "metadata": {},
     "output_type": "execute_result"
    }
   ],
   "source": [
    "df_pd.columns"
   ]
  },
  {
   "cell_type": "code",
   "execution_count": 44,
   "id": "1762d1b1-f805-4a1e-b33d-b97dd66c11c3",
   "metadata": {},
   "outputs": [
    {
     "data": {
      "text/html": [
       "<div>\n",
       "<style scoped>\n",
       "    .dataframe tbody tr th:only-of-type {\n",
       "        vertical-align: middle;\n",
       "    }\n",
       "\n",
       "    .dataframe tbody tr th {\n",
       "        vertical-align: top;\n",
       "    }\n",
       "\n",
       "    .dataframe thead th {\n",
       "        text-align: right;\n",
       "    }\n",
       "</style>\n",
       "<table border=\"1\" class=\"dataframe\">\n",
       "  <thead>\n",
       "    <tr style=\"text-align: right;\">\n",
       "      <th></th>\n",
       "      <th>VendorID</th>\n",
       "      <th>tpep_pickup_datetime</th>\n",
       "      <th>tpep_dropoff_datetime</th>\n",
       "      <th>passenger_count</th>\n",
       "      <th>trip_distance</th>\n",
       "      <th>RatecodeID</th>\n",
       "      <th>store_and_fwd_flag</th>\n",
       "      <th>PULocationID</th>\n",
       "      <th>DOLocationID</th>\n",
       "      <th>payment_type</th>\n",
       "      <th>...</th>\n",
       "      <th>tolls_amount</th>\n",
       "      <th>improvement_surcharge</th>\n",
       "      <th>total_amount</th>\n",
       "      <th>congestion_surcharge</th>\n",
       "      <th>Airport_fee</th>\n",
       "      <th>airport_fee</th>\n",
       "      <th>time_delta</th>\n",
       "      <th>year_month</th>\n",
       "      <th>day</th>\n",
       "      <th>year</th>\n",
       "    </tr>\n",
       "  </thead>\n",
       "  <tbody>\n",
       "    <tr>\n",
       "      <th>0</th>\n",
       "      <td>1</td>\n",
       "      <td>2023-05-01 00:33:13</td>\n",
       "      <td>2023-05-01 00:53:01</td>\n",
       "      <td>0.0</td>\n",
       "      <td>7.80</td>\n",
       "      <td>1.0</td>\n",
       "      <td>N</td>\n",
       "      <td>138</td>\n",
       "      <td>43</td>\n",
       "      <td>1</td>\n",
       "      <td>...</td>\n",
       "      <td>0.00</td>\n",
       "      <td>1.0</td>\n",
       "      <td>51.65</td>\n",
       "      <td>0.0</td>\n",
       "      <td>1.75</td>\n",
       "      <td>NaN</td>\n",
       "      <td>0 days 00:19:48</td>\n",
       "      <td>20235</td>\n",
       "      <td>2023-05-01</td>\n",
       "      <td>2023</td>\n",
       "    </tr>\n",
       "    <tr>\n",
       "      <th>1</th>\n",
       "      <td>1</td>\n",
       "      <td>2023-05-01 00:42:49</td>\n",
       "      <td>2023-05-01 01:11:18</td>\n",
       "      <td>2.0</td>\n",
       "      <td>8.10</td>\n",
       "      <td>1.0</td>\n",
       "      <td>N</td>\n",
       "      <td>138</td>\n",
       "      <td>262</td>\n",
       "      <td>1</td>\n",
       "      <td>...</td>\n",
       "      <td>0.00</td>\n",
       "      <td>1.0</td>\n",
       "      <td>57.15</td>\n",
       "      <td>2.5</td>\n",
       "      <td>1.75</td>\n",
       "      <td>NaN</td>\n",
       "      <td>0 days 00:28:29</td>\n",
       "      <td>20235</td>\n",
       "      <td>2023-05-01</td>\n",
       "      <td>2023</td>\n",
       "    </tr>\n",
       "    <tr>\n",
       "      <th>2</th>\n",
       "      <td>1</td>\n",
       "      <td>2023-05-01 00:56:34</td>\n",
       "      <td>2023-05-01 01:13:39</td>\n",
       "      <td>2.0</td>\n",
       "      <td>9.10</td>\n",
       "      <td>1.0</td>\n",
       "      <td>N</td>\n",
       "      <td>138</td>\n",
       "      <td>141</td>\n",
       "      <td>1</td>\n",
       "      <td>...</td>\n",
       "      <td>6.55</td>\n",
       "      <td>1.0</td>\n",
       "      <td>64.20</td>\n",
       "      <td>2.5</td>\n",
       "      <td>1.75</td>\n",
       "      <td>NaN</td>\n",
       "      <td>0 days 00:17:05</td>\n",
       "      <td>20235</td>\n",
       "      <td>2023-05-01</td>\n",
       "      <td>2023</td>\n",
       "    </tr>\n",
       "    <tr>\n",
       "      <th>3</th>\n",
       "      <td>2</td>\n",
       "      <td>2023-05-01 00:00:52</td>\n",
       "      <td>2023-05-01 00:20:12</td>\n",
       "      <td>1.0</td>\n",
       "      <td>8.21</td>\n",
       "      <td>1.0</td>\n",
       "      <td>N</td>\n",
       "      <td>138</td>\n",
       "      <td>140</td>\n",
       "      <td>1</td>\n",
       "      <td>...</td>\n",
       "      <td>0.00</td>\n",
       "      <td>1.0</td>\n",
       "      <td>47.09</td>\n",
       "      <td>2.5</td>\n",
       "      <td>1.75</td>\n",
       "      <td>NaN</td>\n",
       "      <td>0 days 00:19:20</td>\n",
       "      <td>20235</td>\n",
       "      <td>2023-05-01</td>\n",
       "      <td>2023</td>\n",
       "    </tr>\n",
       "    <tr>\n",
       "      <th>4</th>\n",
       "      <td>1</td>\n",
       "      <td>2023-05-01 00:05:50</td>\n",
       "      <td>2023-05-01 00:19:41</td>\n",
       "      <td>0.0</td>\n",
       "      <td>7.90</td>\n",
       "      <td>1.0</td>\n",
       "      <td>N</td>\n",
       "      <td>138</td>\n",
       "      <td>263</td>\n",
       "      <td>1</td>\n",
       "      <td>...</td>\n",
       "      <td>6.55</td>\n",
       "      <td>1.0</td>\n",
       "      <td>59.15</td>\n",
       "      <td>2.5</td>\n",
       "      <td>1.75</td>\n",
       "      <td>NaN</td>\n",
       "      <td>0 days 00:13:51</td>\n",
       "      <td>20235</td>\n",
       "      <td>2023-05-01</td>\n",
       "      <td>2023</td>\n",
       "    </tr>\n",
       "  </tbody>\n",
       "</table>\n",
       "<p>5 rows × 24 columns</p>\n",
       "</div>"
      ],
      "text/plain": [
       "   VendorID tpep_pickup_datetime tpep_dropoff_datetime  passenger_count  \\\n",
       "0         1  2023-05-01 00:33:13   2023-05-01 00:53:01              0.0   \n",
       "1         1  2023-05-01 00:42:49   2023-05-01 01:11:18              2.0   \n",
       "2         1  2023-05-01 00:56:34   2023-05-01 01:13:39              2.0   \n",
       "3         2  2023-05-01 00:00:52   2023-05-01 00:20:12              1.0   \n",
       "4         1  2023-05-01 00:05:50   2023-05-01 00:19:41              0.0   \n",
       "\n",
       "   trip_distance  RatecodeID store_and_fwd_flag  PULocationID  DOLocationID  \\\n",
       "0           7.80         1.0                  N           138            43   \n",
       "1           8.10         1.0                  N           138           262   \n",
       "2           9.10         1.0                  N           138           141   \n",
       "3           8.21         1.0                  N           138           140   \n",
       "4           7.90         1.0                  N           138           263   \n",
       "\n",
       "   payment_type  ...  tolls_amount  improvement_surcharge  total_amount  \\\n",
       "0             1  ...          0.00                    1.0         51.65   \n",
       "1             1  ...          0.00                    1.0         57.15   \n",
       "2             1  ...          6.55                    1.0         64.20   \n",
       "3             1  ...          0.00                    1.0         47.09   \n",
       "4             1  ...          6.55                    1.0         59.15   \n",
       "\n",
       "   congestion_surcharge  Airport_fee  airport_fee      time_delta  year_month  \\\n",
       "0                   0.0         1.75          NaN 0 days 00:19:48       20235   \n",
       "1                   2.5         1.75          NaN 0 days 00:28:29       20235   \n",
       "2                   2.5         1.75          NaN 0 days 00:17:05       20235   \n",
       "3                   2.5         1.75          NaN 0 days 00:19:20       20235   \n",
       "4                   2.5         1.75          NaN 0 days 00:13:51       20235   \n",
       "\n",
       "          day  year  \n",
       "0  2023-05-01  2023  \n",
       "1  2023-05-01  2023  \n",
       "2  2023-05-01  2023  \n",
       "3  2023-05-01  2023  \n",
       "4  2023-05-01  2023  \n",
       "\n",
       "[5 rows x 24 columns]"
      ]
     },
     "execution_count": 44,
     "metadata": {},
     "output_type": "execute_result"
    }
   ],
   "source": [
    "df_pd.head()"
   ]
  },
  {
   "cell_type": "code",
   "execution_count": 45,
   "id": "a2a006bd-53c2-48ac-af96-594d18423661",
   "metadata": {},
   "outputs": [],
   "source": [
    "columns = ['PULocationID', 'time_delta', 'year_month', 'trip_distance', 'fare_amount', 'day', 'year', 'passenger_count']\n",
    "# df_pd = df_pd[columns]"
   ]
  },
  {
   "cell_type": "code",
   "execution_count": 49,
   "id": "3182020c-57f6-4136-aea5-4f57b0d52dbe",
   "metadata": {},
   "outputs": [],
   "source": [
    "df_pd = df_pd[df_pd['year'] == 2023]"
   ]
  },
  {
   "cell_type": "code",
   "execution_count": 50,
   "id": "30bd5883-49be-4110-adaf-e7f30f7fd2ad",
   "metadata": {},
   "outputs": [
    {
     "data": {
      "text/plain": [
       "year\n",
       "2023    16186332\n",
       "Name: count, dtype: int64"
      ]
     },
     "execution_count": 50,
     "metadata": {},
     "output_type": "execute_result"
    }
   ],
   "source": [
    "df_pd['year'].value_counts()"
   ]
  },
  {
   "cell_type": "code",
   "execution_count": 51,
   "id": "659cd4a4-f32d-4303-8faf-14d1eb3c3db7",
   "metadata": {},
   "outputs": [
    {
     "data": {
      "text/plain": [
       "year_month\n",
       "20235    3513462\n",
       "20233    3402522\n",
       "20234    3289254\n",
       "20231    3066125\n",
       "20232    2913959\n",
       "20236        998\n",
       "20237          9\n",
       "20238          2\n",
       "20239          1\n",
       "Name: count, dtype: int64"
      ]
     },
     "execution_count": 51,
     "metadata": {},
     "output_type": "execute_result"
    }
   ],
   "source": [
    "df_pd['year_month'].value_counts()"
   ]
  },
  {
   "cell_type": "code",
   "execution_count": 72,
   "id": "96a7779a-38ba-4e56-8f1b-2059675fb072",
   "metadata": {},
   "outputs": [],
   "source": [
    "df = df_pd[columns]"
   ]
  },
  {
   "cell_type": "code",
   "execution_count": 54,
   "id": "a59f7799-6492-45b5-8ffa-f5cc9d11d2b6",
   "metadata": {},
   "outputs": [],
   "source": [
    "monthly_performance = (\n",
    "df_pd.groupby(\n",
    "    ['PULocationID','day','year_month']\n",
    "    )[['trip_distance', \n",
    "       'fare_amount', \n",
    "       'passenger_count']]\n",
    "             .sum()\n",
    "             .groupby(\n",
    "            ['PULocationID','year_month']\n",
    "                )\n",
    "                 .mean()\n",
    ")"
   ]
  },
  {
   "cell_type": "code",
   "execution_count": 58,
   "id": "8bc53e08-f37c-492d-af5e-f0db92f66886",
   "metadata": {},
   "outputs": [
    {
     "data": {
      "text/html": [
       "<div>\n",
       "<style scoped>\n",
       "    .dataframe tbody tr th:only-of-type {\n",
       "        vertical-align: middle;\n",
       "    }\n",
       "\n",
       "    .dataframe tbody tr th {\n",
       "        vertical-align: top;\n",
       "    }\n",
       "\n",
       "    .dataframe thead th {\n",
       "        text-align: right;\n",
       "    }\n",
       "</style>\n",
       "<table border=\"1\" class=\"dataframe\">\n",
       "  <thead>\n",
       "    <tr style=\"text-align: right;\">\n",
       "      <th></th>\n",
       "      <th></th>\n",
       "      <th>trip_distance</th>\n",
       "      <th>fare_amount</th>\n",
       "      <th>passenger_count</th>\n",
       "    </tr>\n",
       "    <tr>\n",
       "      <th>PULocationID</th>\n",
       "      <th>year_month</th>\n",
       "      <th></th>\n",
       "      <th></th>\n",
       "      <th></th>\n",
       "    </tr>\n",
       "  </thead>\n",
       "  <tbody>\n",
       "    <tr>\n",
       "      <th rowspan=\"5\" valign=\"top\">1</th>\n",
       "      <th>20231</th>\n",
       "      <td>21.091613</td>\n",
       "      <td>1156.118065</td>\n",
       "      <td>20.838710</td>\n",
       "    </tr>\n",
       "    <tr>\n",
       "      <th>20232</th>\n",
       "      <td>12.742500</td>\n",
       "      <td>1159.394286</td>\n",
       "      <td>22.535714</td>\n",
       "    </tr>\n",
       "    <tr>\n",
       "      <th>20233</th>\n",
       "      <td>19.640323</td>\n",
       "      <td>1233.041290</td>\n",
       "      <td>22.129032</td>\n",
       "    </tr>\n",
       "    <tr>\n",
       "      <th>20234</th>\n",
       "      <td>9.450667</td>\n",
       "      <td>1382.733333</td>\n",
       "      <td>26.600000</td>\n",
       "    </tr>\n",
       "    <tr>\n",
       "      <th>20235</th>\n",
       "      <td>22.986452</td>\n",
       "      <td>1320.114516</td>\n",
       "      <td>26.000000</td>\n",
       "    </tr>\n",
       "    <tr>\n",
       "      <th>...</th>\n",
       "      <th>...</th>\n",
       "      <td>...</td>\n",
       "      <td>...</td>\n",
       "      <td>...</td>\n",
       "    </tr>\n",
       "    <tr>\n",
       "      <th rowspan=\"5\" valign=\"top\">265</th>\n",
       "      <th>20231</th>\n",
       "      <td>126.912258</td>\n",
       "      <td>5008.275161</td>\n",
       "      <td>75.419355</td>\n",
       "    </tr>\n",
       "    <tr>\n",
       "      <th>20232</th>\n",
       "      <td>585.654643</td>\n",
       "      <td>6214.102500</td>\n",
       "      <td>69.464286</td>\n",
       "    </tr>\n",
       "    <tr>\n",
       "      <th>20233</th>\n",
       "      <td>729.702258</td>\n",
       "      <td>7672.011290</td>\n",
       "      <td>73.387097</td>\n",
       "    </tr>\n",
       "    <tr>\n",
       "      <th>20234</th>\n",
       "      <td>284.559000</td>\n",
       "      <td>6222.201667</td>\n",
       "      <td>86.066667</td>\n",
       "    </tr>\n",
       "    <tr>\n",
       "      <th>20235</th>\n",
       "      <td>4403.556774</td>\n",
       "      <td>6440.507742</td>\n",
       "      <td>90.354839</td>\n",
       "    </tr>\n",
       "  </tbody>\n",
       "</table>\n",
       "<p>1377 rows × 3 columns</p>\n",
       "</div>"
      ],
      "text/plain": [
       "                         trip_distance  fare_amount  passenger_count\n",
       "PULocationID year_month                                             \n",
       "1            20231           21.091613  1156.118065        20.838710\n",
       "             20232           12.742500  1159.394286        22.535714\n",
       "             20233           19.640323  1233.041290        22.129032\n",
       "             20234            9.450667  1382.733333        26.600000\n",
       "             20235           22.986452  1320.114516        26.000000\n",
       "...                                ...          ...              ...\n",
       "265          20231          126.912258  5008.275161        75.419355\n",
       "             20232          585.654643  6214.102500        69.464286\n",
       "             20233          729.702258  7672.011290        73.387097\n",
       "             20234          284.559000  6222.201667        86.066667\n",
       "             20235         4403.556774  6440.507742        90.354839\n",
       "\n",
       "[1377 rows x 3 columns]"
      ]
     },
     "execution_count": 58,
     "metadata": {},
     "output_type": "execute_result"
    }
   ],
   "source": [
    "monthly_performance"
   ]
  },
  {
   "cell_type": "code",
   "execution_count": 57,
   "id": "82529ac3-0d65-4313-98df-dd6f7c7a49f1",
   "metadata": {},
   "outputs": [
    {
     "data": {
      "text/plain": [
       "<Axes: xlabel='PULocationID,year_month'>"
      ]
     },
     "execution_count": 57,
     "metadata": {},
     "output_type": "execute_result"
    },
    {
     "data": {
      "image/png": "[encoded data removed]",
      "text/plain": [
       "<Figure size 640x480 with 1 Axes>"
      ]
     },
     "metadata": {},
     "output_type": "display_data"
    }
   ],
   "source": [
    "monthly_performance['passenger_count'].plot()"
   ]
  },
  {
   "cell_type": "code",
   "execution_count": 109,
   "id": "e2eafaae-2c3c-477e-8928-0c6a24964d27",
   "metadata": {},
   "outputs": [
    {
     "name": "stdout",
     "output_type": "stream",
     "text": [
      "<class 'pandas.core.frame.DataFrame'>\n",
      "RangeIndex: 1093 entries, 0 to 1092\n",
      "Data columns (total 5 columns):\n",
      " #   Column           Non-Null Count  Dtype  \n",
      "---  ------           --------------  -----  \n",
      " 0   PULocationID     1093 non-null   int64  \n",
      " 1   year_month       1093 non-null   object \n",
      " 2   trip_distance    1093 non-null   float64\n",
      " 3   fare_amount      1093 non-null   float64\n",
      " 4   passenger_count  1093 non-null   float64\n",
      "dtypes: float64(3), int64(1), object(1)\n",
      "memory usage: 42.8+ KB\n"
     ]
    }
   ],
   "source": [
    "momthly_performance.reset_index().info()"
   ]
  },
  {
   "cell_type": "code",
   "execution_count": 129,
   "id": "56a3436e-67cd-4f04-b838-51c13e381175",
   "metadata": {},
   "outputs": [],
   "source": [
    "final = momthly_performance.reset_index().set_index(pd.to_datetime(momthly_performance.reset_index()['year_month'], format='%Y%m')).drop(columns='year_month')"
   ]
  },
  {
   "cell_type": "code",
   "execution_count": 155,
   "id": "3e70e36d-8ce9-4bb9-9d14-99dcd8f2b738",
   "metadata": {},
   "outputs": [
    {
     "data": {
      "text/html": [
       "<div>\n",
       "<style scoped>\n",
       "    .dataframe tbody tr th:only-of-type {\n",
       "        vertical-align: middle;\n",
       "    }\n",
       "\n",
       "    .dataframe tbody tr th {\n",
       "        vertical-align: top;\n",
       "    }\n",
       "\n",
       "    .dataframe thead th {\n",
       "        text-align: right;\n",
       "    }\n",
       "</style>\n",
       "<table border=\"1\" class=\"dataframe\">\n",
       "  <thead>\n",
       "    <tr style=\"text-align: right;\">\n",
       "      <th></th>\n",
       "      <th></th>\n",
       "      <th>trip_distance</th>\n",
       "      <th>fare_amount</th>\n",
       "      <th>passenger_count</th>\n",
       "    </tr>\n",
       "    <tr>\n",
       "      <th>PULocationID</th>\n",
       "      <th>year_month</th>\n",
       "      <th></th>\n",
       "      <th></th>\n",
       "      <th></th>\n",
       "    </tr>\n",
       "  </thead>\n",
       "  <tbody>\n",
       "    <tr>\n",
       "      <th rowspan=\"4\" valign=\"top\">1</th>\n",
       "      <th>20231</th>\n",
       "      <td>21.091613</td>\n",
       "      <td>1156.118065</td>\n",
       "      <td>20.838710</td>\n",
       "    </tr>\n",
       "    <tr>\n",
       "      <th>20232</th>\n",
       "      <td>12.742500</td>\n",
       "      <td>1159.394286</td>\n",
       "      <td>22.535714</td>\n",
       "    </tr>\n",
       "    <tr>\n",
       "      <th>20233</th>\n",
       "      <td>19.640323</td>\n",
       "      <td>1233.041290</td>\n",
       "      <td>22.129032</td>\n",
       "    </tr>\n",
       "    <tr>\n",
       "      <th>20234</th>\n",
       "      <td>9.450667</td>\n",
       "      <td>1382.733333</td>\n",
       "      <td>26.600000</td>\n",
       "    </tr>\n",
       "    <tr>\n",
       "      <th>2</th>\n",
       "      <th>20231</th>\n",
       "      <td>13.120000</td>\n",
       "      <td>0.000000</td>\n",
       "      <td>4.000000</td>\n",
       "    </tr>\n",
       "    <tr>\n",
       "      <th>...</th>\n",
       "      <th>...</th>\n",
       "      <td>...</td>\n",
       "      <td>...</td>\n",
       "      <td>...</td>\n",
       "    </tr>\n",
       "    <tr>\n",
       "      <th>264</th>\n",
       "      <th>20235</th>\n",
       "      <td>82.890000</td>\n",
       "      <td>265.800000</td>\n",
       "      <td>11.000000</td>\n",
       "    </tr>\n",
       "    <tr>\n",
       "      <th rowspan=\"4\" valign=\"top\">265</th>\n",
       "      <th>20231</th>\n",
       "      <td>126.912258</td>\n",
       "      <td>5008.275161</td>\n",
       "      <td>75.419355</td>\n",
       "    </tr>\n",
       "    <tr>\n",
       "      <th>20232</th>\n",
       "      <td>585.654643</td>\n",
       "      <td>6214.102500</td>\n",
       "      <td>69.464286</td>\n",
       "    </tr>\n",
       "    <tr>\n",
       "      <th>20233</th>\n",
       "      <td>729.702258</td>\n",
       "      <td>7672.011290</td>\n",
       "      <td>73.387097</td>\n",
       "    </tr>\n",
       "    <tr>\n",
       "      <th>20234</th>\n",
       "      <td>284.559000</td>\n",
       "      <td>6222.201667</td>\n",
       "      <td>86.066667</td>\n",
       "    </tr>\n",
       "  </tbody>\n",
       "</table>\n",
       "<p>1093 rows × 3 columns</p>\n",
       "</div>"
      ],
      "text/plain": [
       "                         trip_distance  fare_amount  passenger_count\n",
       "PULocationID year_month                                             \n",
       "1            20231           21.091613  1156.118065        20.838710\n",
       "             20232           12.742500  1159.394286        22.535714\n",
       "             20233           19.640323  1233.041290        22.129032\n",
       "             20234            9.450667  1382.733333        26.600000\n",
       "2            20231           13.120000     0.000000         4.000000\n",
       "...                                ...          ...              ...\n",
       "264          20235           82.890000   265.800000        11.000000\n",
       "265          20231          126.912258  5008.275161        75.419355\n",
       "             20232          585.654643  6214.102500        69.464286\n",
       "             20233          729.702258  7672.011290        73.387097\n",
       "             20234          284.559000  6222.201667        86.066667\n",
       "\n",
       "[1093 rows x 3 columns]"
      ]
     },
     "execution_count": 155,
     "metadata": {},
     "output_type": "execute_result"
    }
   ],
   "source": [
    "momthly_performance"
   ]
  },
  {
   "cell_type": "code",
   "execution_count": 60,
   "id": "9921c654-fa92-4ede-a993-4e4bfdc0b10f",
   "metadata": {},
   "outputs": [
    {
     "name": "stdout",
     "output_type": "stream",
     "text": [
      "CPU times: user 34.2 s, sys: 5.89 s, total: 40.1 s\n",
      "Wall time: 41.5 s\n"
     ]
    },
    {
     "data": {
      "text/html": [
       "<div>\n",
       "<style scoped>\n",
       "    .dataframe tbody tr th:only-of-type {\n",
       "        vertical-align: middle;\n",
       "    }\n",
       "\n",
       "    .dataframe tbody tr th {\n",
       "        vertical-align: top;\n",
       "    }\n",
       "\n",
       "    .dataframe thead th {\n",
       "        text-align: right;\n",
       "    }\n",
       "</style>\n",
       "<table border=\"1\" class=\"dataframe\">\n",
       "  <thead>\n",
       "    <tr style=\"text-align: right;\">\n",
       "      <th></th>\n",
       "      <th></th>\n",
       "      <th>trip_distance</th>\n",
       "      <th>fare_amount</th>\n",
       "      <th>passenger_count</th>\n",
       "    </tr>\n",
       "    <tr>\n",
       "      <th>PULocationID</th>\n",
       "      <th>year_month</th>\n",
       "      <th></th>\n",
       "      <th></th>\n",
       "      <th></th>\n",
       "    </tr>\n",
       "  </thead>\n",
       "  <tbody>\n",
       "    <tr>\n",
       "      <th rowspan=\"5\" valign=\"top\">1</th>\n",
       "      <th>202210</th>\n",
       "      <td>0.010000</td>\n",
       "      <td>117.500000</td>\n",
       "      <td>1.000000</td>\n",
       "    </tr>\n",
       "    <tr>\n",
       "      <th>20231</th>\n",
       "      <td>21.091613</td>\n",
       "      <td>1156.118065</td>\n",
       "      <td>20.838710</td>\n",
       "    </tr>\n",
       "    <tr>\n",
       "      <th>20232</th>\n",
       "      <td>12.742500</td>\n",
       "      <td>1159.394286</td>\n",
       "      <td>22.535714</td>\n",
       "    </tr>\n",
       "    <tr>\n",
       "      <th>20233</th>\n",
       "      <td>19.640323</td>\n",
       "      <td>1233.041290</td>\n",
       "      <td>22.129032</td>\n",
       "    </tr>\n",
       "    <tr>\n",
       "      <th>20234</th>\n",
       "      <td>9.450667</td>\n",
       "      <td>1382.733333</td>\n",
       "      <td>26.600000</td>\n",
       "    </tr>\n",
       "  </tbody>\n",
       "</table>\n",
       "</div>"
      ],
      "text/plain": [
       "                         trip_distance  fare_amount  passenger_count\n",
       "PULocationID year_month                                             \n",
       "1            202210           0.010000   117.500000         1.000000\n",
       "             20231           21.091613  1156.118065        20.838710\n",
       "             20232           12.742500  1159.394286        22.535714\n",
       "             20233           19.640323  1233.041290        22.129032\n",
       "             20234            9.450667  1382.733333        26.600000"
      ]
     },
     "execution_count": 60,
     "metadata": {},
     "output_type": "execute_result"
    }
   ],
   "source": [
    "%%time\n",
    "\n",
    "df_pd = pd.read_csv(file_path, memory_map=False,low_memory=False)\n",
    "df_pd[['tpep_pickup_datetime', 'tpep_dropoff_datetime']] = df_pd[['tpep_pickup_datetime', 'tpep_dropoff_datetime']].apply(pd.to_datetime)\n",
    "df_pd['time_delta'] = df_pd['tpep_dropoff_datetime'] - df_pd['tpep_pickup_datetime']\n",
    "df_pd['year_month'] = df_pd['tpep_dropoff_datetime'].dt.year.astype('str') + df_pd['tpep_dropoff_datetime'].dt.month.astype('str')\n",
    "df_pd['day'] = df_pd['tpep_dropoff_datetime'].dt.date\n",
    "df_pd['year'] = df_pd['tpep_dropoff_datetime'].dt.year\n",
    "\n",
    "df_pd = df_pd[df_pd['year'] == 2023]\n",
    "\n",
    "columns = ['PULocationID', 'time_delta', 'year_month', 'trip_distance', 'fare_amount', 'day', 'year', 'passenger_count']\n",
    "\n",
    "df = df_pd[columns]\n",
    "\n",
    "momthly_performance = (\n",
    "df.groupby(\n",
    "    ['PULocationID','day','year_month']\n",
    "    )[['trip_distance', \n",
    "       'fare_amount', \n",
    "       'passenger_count']]\n",
    "             .sum()\n",
    "             .groupby(\n",
    "            ['PULocationID','year_month']\n",
    "                )\n",
    "                 .mean()\n",
    ")\n",
    "\n",
    "momthly_performance.head()"
   ]
  },
  {
   "cell_type": "code",
   "execution_count": 162,
   "id": "7c9806ec-9ad8-403d-9da6-dc93adc386fb",
   "metadata": {},
   "outputs": [
    {
     "name": "stdout",
     "output_type": "stream",
     "text": [
      "<class 'pandas.core.frame.DataFrame'>\n",
      "MultiIndex: 1132 entries, (1, '202210') to (265, '20234')\n",
      "Data columns (total 3 columns):\n",
      " #   Column           Non-Null Count  Dtype  \n",
      "---  ------           --------------  -----  \n",
      " 0   trip_distance    1132 non-null   float64\n",
      " 1   fare_amount      1132 non-null   float64\n",
      " 2   passenger_count  1132 non-null   float64\n",
      "dtypes: float64(3)\n",
      "memory usage: 32.1+ KB\n"
     ]
    }
   ],
   "source": [
    "momthly_performance.info()"
   ]
  },
  {
   "cell_type": "code",
   "execution_count": 68,
   "id": "09d4a9ce-1e67-40a1-9aef-3acab14c17db",
   "metadata": {},
   "outputs": [
    {
     "name": "stdout",
     "output_type": "stream",
     "text": [
      "The memory_profiler extension is already loaded. To reload it, use:\n",
      "  %reload_ext memory_profiler\n"
     ]
    }
   ],
   "source": [
    "%load_ext memory_profiler"
   ]
  },
  {
   "cell_type": "code",
   "execution_count": 70,
   "id": "2200595b-7a63-488e-a918-8758c10d7eaa",
   "metadata": {},
   "outputs": [
    {
     "name": "stdout",
     "output_type": "stream",
     "text": [
      "peak memory: 11179.75 MiB, increment: 10152.33 MiB\n",
      "CPU times: user 34.2 s, sys: 3.84 s, total: 38.1 s\n",
      "Wall time: 38.9 s\n"
     ]
    }
   ],
   "source": [
    "%%time\n",
    "%%memit\n",
    "df_pd = pd.read_csv(file_path, memory_map=True, low_memory=False, parse_dates=['tpep_pickup_datetime', 'tpep_dropoff_datetime'])\n",
    "\n",
    "df_pd[['tpep_pickup_datetime', 'tpep_dropoff_datetime']] = df_pd[['tpep_pickup_datetime', 'tpep_dropoff_datetime']].apply(pd.to_datetime)\n",
    "\n",
    "df_pd['time_delta'] = df_pd['tpep_dropoff_datetime'] - df_pd['tpep_pickup_datetime']\n",
    "df_pd['year_month'] = df_pd['tpep_dropoff_datetime'].dt.year.astype('str') + df_pd['tpep_dropoff_datetime'].dt.month.astype('str')\n",
    "df_pd['day'] = df_pd['tpep_dropoff_datetime'].dt.date\n",
    "df_pd['year'] = df_pd['tpep_dropoff_datetime'].dt.year\n",
    "\n",
    "df_pd = df_pd[df_pd['year'] == 2023]\n",
    "\n",
    "columns = ['PULocationID', 'time_delta', 'year_month', 'trip_distance', 'fare_amount', 'day', 'year', 'passenger_count']\n",
    "\n",
    "\n",
    "\n",
    "df = df_pd[columns]\n",
    "\n",
    "\n",
    "momthly_performance = (\n",
    "df.groupby(\n",
    "    ['PULocationID','day','year_month']\n",
    "    )[['trip_distance', \n",
    "       'fare_amount', \n",
    "       'passenger_count']]\n",
    "             .sum()\n",
    "             .groupby(\n",
    "            ['PULocationID','year_month']\n",
    "                )\n",
    "                 .mean()\n",
    ")\n",
    "\n",
    "momthly_performance.head()"
   ]
  },
  {
   "cell_type": "code",
   "execution_count": 63,
   "id": "11a73640-0b6f-4018-9b63-56baca49729b",
   "metadata": {},
   "outputs": [
    {
     "name": "stdout",
     "output_type": "stream",
     "text": [
      "<class 'pandas.core.frame.DataFrame'>\n",
      "MultiIndex: 1377 entries, (1, '20231') to (265, '20235')\n",
      "Data columns (total 3 columns):\n",
      " #   Column           Non-Null Count  Dtype  \n",
      "---  ------           --------------  -----  \n",
      " 0   trip_distance    1377 non-null   float64\n",
      " 1   fare_amount      1377 non-null   float64\n",
      " 2   passenger_count  1377 non-null   float64\n",
      "dtypes: float64(3)\n",
      "memory usage: 38.5+ KB\n"
     ]
    }
   ],
   "source": [
    "momthly_performance.info()"
   ]
  },
  {
   "cell_type": "code",
   "execution_count": 71,
   "id": "6d474181-b457-4b06-ae9c-c8b125d1d122",
   "metadata": {},
   "outputs": [
    {
     "name": "stderr",
     "output_type": "stream",
     "text": [
      "<string>:6: UserWarning: Could not infer format, so each element will be parsed individually, falling back to `dateutil`. To ensure parsing is consistent and as-expected, please specify a format.\n",
      "<string>:6: UserWarning: Could not infer format, so each element will be parsed individually, falling back to `dateutil`. To ensure parsing is consistent and as-expected, please specify a format.\n",
      "<string>:6: UserWarning: Could not infer format, so each element will be parsed individually, falling back to `dateutil`. To ensure parsing is consistent and as-expected, please specify a format.\n",
      "<string>:6: UserWarning: Could not infer format, so each element will be parsed individually, falling back to `dateutil`. To ensure parsing is consistent and as-expected, please specify a format.\n",
      "<string>:6: UserWarning: Could not infer format, so each element will be parsed individually, falling back to `dateutil`. To ensure parsing is consistent and as-expected, please specify a format.\n",
      "<string>:6: UserWarning: Could not infer format, so each element will be parsed individually, falling back to `dateutil`. To ensure parsing is consistent and as-expected, please specify a format.\n",
      "<string>:6: UserWarning: Could not infer format, so each element will be parsed individually, falling back to `dateutil`. To ensure parsing is consistent and as-expected, please specify a format.\n"
     ]
    },
    {
     "name": "stdout",
     "output_type": "stream",
     "text": [
      "peak memory: 8274.61 MiB, increment: 0.33 MiB\n",
      "CPU times: user 31.3 s, sys: 4.05 s, total: 35.3 s\n",
      "Wall time: 36.2 s\n"
     ]
    }
   ],
   "source": [
    "%%time\n",
    "%%memit\n",
    "\n",
    "df_pd = pd.read_csv(file_path, memory_map=False, low_memory=False, chunksize=10_000)\n",
    "\n",
    "results = []\n",
    "for chunk in df_pd:\n",
    "    chunk[['tpep_pickup_datetime', 'tpep_dropoff_datetime']] = chunk[['tpep_pickup_datetime', 'tpep_dropoff_datetime']].apply(pd.to_datetime)\n",
    "    chunk['time_delta'] = chunk['tpep_dropoff_datetime'] - chunk['tpep_pickup_datetime']\n",
    "    chunk['year_month'] = chunk['tpep_dropoff_datetime'].dt.year.astype('str') + chunk['tpep_dropoff_datetime'].dt.month.astype('str')\n",
    "    chunk['day'] = chunk['tpep_dropoff_datetime'].dt.date\n",
    "    chunk['year'] = chunk['tpep_dropoff_datetime'].dt.year\n",
    "    columns = ['PULocationID', 'time_delta', 'year_month', 'trip_distance', 'fare_amount', 'day', 'year', 'passenger_count']\n",
    "    \n",
    "    df = chunk[columns]\n",
    "\n",
    "\n",
    "\n",
    "    momthly_performance = (\n",
    "    df.groupby(\n",
    "        ['PULocationID','day','year_month']\n",
    "        )[['trip_distance', \n",
    "           'fare_amount', \n",
    "           'passenger_count']]\n",
    "                 .sum()\n",
    "                 .groupby(\n",
    "                ['PULocationID','year_month']\n",
    "                    )\n",
    "                     .mean()\n",
    "    )\n",
    "\n",
    "    results.append(momthly_performance)\n",
    "\n",
    "final = pd.concat(results)\n",
    "final.head()"
   ]
  },
  {
   "cell_type": "code",
   "execution_count": 73,
   "id": "adddd57f-872e-432a-b81d-1886f75f4152",
   "metadata": {},
   "outputs": [
    {
     "data": {
      "text/html": [
       "<div>\n",
       "<style scoped>\n",
       "    .dataframe tbody tr th:only-of-type {\n",
       "        vertical-align: middle;\n",
       "    }\n",
       "\n",
       "    .dataframe tbody tr th {\n",
       "        vertical-align: top;\n",
       "    }\n",
       "\n",
       "    .dataframe thead th {\n",
       "        text-align: right;\n",
       "    }\n",
       "</style>\n",
       "<table border=\"1\" class=\"dataframe\">\n",
       "  <thead>\n",
       "    <tr style=\"text-align: right;\">\n",
       "      <th></th>\n",
       "      <th></th>\n",
       "      <th>trip_distance</th>\n",
       "      <th>fare_amount</th>\n",
       "      <th>passenger_count</th>\n",
       "    </tr>\n",
       "    <tr>\n",
       "      <th>PULocationID</th>\n",
       "      <th>year_month</th>\n",
       "      <th></th>\n",
       "      <th></th>\n",
       "      <th></th>\n",
       "    </tr>\n",
       "  </thead>\n",
       "  <tbody>\n",
       "    <tr>\n",
       "      <th rowspan=\"5\" valign=\"top\">1</th>\n",
       "      <th>20231</th>\n",
       "      <td>21.091613</td>\n",
       "      <td>1156.118065</td>\n",
       "      <td>20.838710</td>\n",
       "    </tr>\n",
       "    <tr>\n",
       "      <th>20232</th>\n",
       "      <td>12.742500</td>\n",
       "      <td>1159.394286</td>\n",
       "      <td>22.535714</td>\n",
       "    </tr>\n",
       "    <tr>\n",
       "      <th>20233</th>\n",
       "      <td>19.640323</td>\n",
       "      <td>1233.041290</td>\n",
       "      <td>22.129032</td>\n",
       "    </tr>\n",
       "    <tr>\n",
       "      <th>20234</th>\n",
       "      <td>9.450667</td>\n",
       "      <td>1382.733333</td>\n",
       "      <td>26.600000</td>\n",
       "    </tr>\n",
       "    <tr>\n",
       "      <th>20235</th>\n",
       "      <td>22.986452</td>\n",
       "      <td>1320.114516</td>\n",
       "      <td>26.000000</td>\n",
       "    </tr>\n",
       "  </tbody>\n",
       "</table>\n",
       "</div>"
      ],
      "text/plain": [
       "                         trip_distance  fare_amount  passenger_count\n",
       "PULocationID year_month                                             \n",
       "1            20231           21.091613  1156.118065        20.838710\n",
       "             20232           12.742500  1159.394286        22.535714\n",
       "             20233           19.640323  1233.041290        22.129032\n",
       "             20234            9.450667  1382.733333        26.600000\n",
       "             20235           22.986452  1320.114516        26.000000"
      ]
     },
     "execution_count": 73,
     "metadata": {},
     "output_type": "execute_result"
    }
   ],
   "source": [
    "monthly_performance.head()"
   ]
  },
  {
   "cell_type": "code",
   "execution_count": 74,
   "id": "69edf638-4a14-41e1-8bad-4746ca4f8011",
   "metadata": {},
   "outputs": [
    {
     "name": "stdout",
     "output_type": "stream",
     "text": [
      "<class 'pandas.core.frame.DataFrame'>\n",
      "MultiIndex: 203692 entries, (1, '20235') to (265, '20233')\n",
      "Data columns (total 3 columns):\n",
      " #   Column           Non-Null Count   Dtype  \n",
      "---  ------           --------------   -----  \n",
      " 0   trip_distance    203692 non-null  float64\n",
      " 1   fare_amount      203692 non-null  float64\n",
      " 2   passenger_count  203692 non-null  float64\n",
      "dtypes: float64(3)\n",
      "memory usage: 5.3+ MB\n"
     ]
    }
   ],
   "source": [
    "final.info()"
   ]
  },
  {
   "cell_type": "code",
   "execution_count": 175,
   "id": "4e1cd733-38f3-4a73-b201-cc39daa5d447",
   "metadata": {},
   "outputs": [
    {
     "data": {
      "text/plain": [
       "1268"
      ]
     },
     "execution_count": 175,
     "metadata": {},
     "output_type": "execute_result"
    }
   ],
   "source": [
    "len(results)"
   ]
  },
  {
   "cell_type": "code",
   "execution_count": 186,
   "id": "8300b3dc-c159-42b1-ae32-608a14873179",
   "metadata": {},
   "outputs": [
    {
     "data": {
      "text/plain": [
       "trip_distance       234.87\n",
       "fare_amount        1378.80\n",
       "passenger_count     139.00\n",
       "Name: (4, 20234), dtype: float64"
      ]
     },
     "execution_count": 186,
     "metadata": {},
     "output_type": "execute_result"
    }
   ],
   "source": [
    "results[0].loc[(  4, '20234')]"
   ]
  },
  {
   "cell_type": "code",
   "execution_count": 187,
   "id": "84855670-5064-4aab-8e5a-68fa4d3acd8f",
   "metadata": {},
   "outputs": [
    {
     "data": {
      "text/plain": [
       "trip_distance       189.87\n",
       "fare_amount        1033.80\n",
       "passenger_count      92.00\n",
       "Name: (4, 20234), dtype: float64"
      ]
     },
     "execution_count": 187,
     "metadata": {},
     "output_type": "execute_result"
    }
   ],
   "source": [
    "results[1].loc[(  4, '20234')]"
   ]
  },
  {
   "cell_type": "code",
   "execution_count": 189,
   "id": "f1022623-3c44-4425-8ae5-fd2f473a3de2",
   "metadata": {},
   "outputs": [
    {
     "data": {
      "text/plain": [
       "trip_distance      12.63\n",
       "fare_amount        74.70\n",
       "passenger_count     9.00\n",
       "Name: (4, 20234), dtype: float64"
      ]
     },
     "execution_count": 189,
     "metadata": {},
     "output_type": "execute_result"
    }
   ],
   "source": [
    "results[20].loc[(  4, '20234')]"
   ]
  },
  {
   "cell_type": "code",
   "execution_count": 173,
   "id": "8bee5e54-c9c1-488e-b444-84480ab32b07",
   "metadata": {},
   "outputs": [
    {
     "name": "stdout",
     "output_type": "stream",
     "text": [
      "<class 'pandas.core.frame.DataFrame'>\n",
      "MultiIndex: 159224 entries, (4, '20234') to (265, '20233')\n",
      "Data columns (total 3 columns):\n",
      " #   Column           Non-Null Count   Dtype  \n",
      "---  ------           --------------   -----  \n",
      " 0   trip_distance    159224 non-null  float64\n",
      " 1   fare_amount      159224 non-null  float64\n",
      " 2   passenger_count  159224 non-null  float64\n",
      "dtypes: float64(3)\n",
      "memory usage: 4.1+ MB\n"
     ]
    }
   ],
   "source": [
    "final.info()"
   ]
  },
  {
   "cell_type": "code",
   "execution_count": 174,
   "id": "bab8aa44-9c21-423c-b954-dc9d47509e57",
   "metadata": {},
   "outputs": [
    {
     "data": {
      "text/html": [
       "<div>\n",
       "<style scoped>\n",
       "    .dataframe tbody tr th:only-of-type {\n",
       "        vertical-align: middle;\n",
       "    }\n",
       "\n",
       "    .dataframe tbody tr th {\n",
       "        vertical-align: top;\n",
       "    }\n",
       "\n",
       "    .dataframe thead th {\n",
       "        text-align: right;\n",
       "    }\n",
       "</style>\n",
       "<table border=\"1\" class=\"dataframe\">\n",
       "  <thead>\n",
       "    <tr style=\"text-align: right;\">\n",
       "      <th></th>\n",
       "      <th></th>\n",
       "      <th>trip_distance</th>\n",
       "      <th>fare_amount</th>\n",
       "      <th>passenger_count</th>\n",
       "    </tr>\n",
       "    <tr>\n",
       "      <th>PULocationID</th>\n",
       "      <th>year_month</th>\n",
       "      <th></th>\n",
       "      <th></th>\n",
       "      <th></th>\n",
       "    </tr>\n",
       "  </thead>\n",
       "  <tbody>\n",
       "    <tr>\n",
       "      <th>4</th>\n",
       "      <th>20234</th>\n",
       "      <td>234.87</td>\n",
       "      <td>1378.80</td>\n",
       "      <td>139.0</td>\n",
       "    </tr>\n",
       "    <tr>\n",
       "      <th>7</th>\n",
       "      <th>20234</th>\n",
       "      <td>5.95</td>\n",
       "      <td>32.60</td>\n",
       "      <td>2.0</td>\n",
       "    </tr>\n",
       "    <tr>\n",
       "      <th>10</th>\n",
       "      <th>20234</th>\n",
       "      <td>40.59</td>\n",
       "      <td>206.55</td>\n",
       "      <td>1.0</td>\n",
       "    </tr>\n",
       "    <tr>\n",
       "      <th>13</th>\n",
       "      <th>20234</th>\n",
       "      <td>23.80</td>\n",
       "      <td>210.30</td>\n",
       "      <td>11.0</td>\n",
       "    </tr>\n",
       "    <tr>\n",
       "      <th>17</th>\n",
       "      <th>20234</th>\n",
       "      <td>0.00</td>\n",
       "      <td>3.00</td>\n",
       "      <td>1.0</td>\n",
       "    </tr>\n",
       "  </tbody>\n",
       "</table>\n",
       "</div>"
      ],
      "text/plain": [
       "                         trip_distance  fare_amount  passenger_count\n",
       "PULocationID year_month                                             \n",
       "4            20234              234.87      1378.80            139.0\n",
       "7            20234                5.95        32.60              2.0\n",
       "10           20234               40.59       206.55              1.0\n",
       "13           20234               23.80       210.30             11.0\n",
       "17           20234                0.00         3.00              1.0"
      ]
     },
     "execution_count": 174,
     "metadata": {},
     "output_type": "execute_result"
    }
   ],
   "source": [
    "final.head()"
   ]
  },
  {
   "cell_type": "code",
   "execution_count": 190,
   "id": "282f9f0c-d27d-4247-ac55-d8f44f3ae8cf",
   "metadata": {},
   "outputs": [],
   "source": []
  },
  {
   "cell_type": "code",
   "execution_count": 195,
   "id": "39a7ac3c-dc42-4d23-940b-a10969b2948a",
   "metadata": {},
   "outputs": [
    {
     "data": {
      "text/html": [
       "<div>\n",
       "<style scoped>\n",
       "    .dataframe tbody tr th:only-of-type {\n",
       "        vertical-align: middle;\n",
       "    }\n",
       "\n",
       "    .dataframe tbody tr th {\n",
       "        vertical-align: top;\n",
       "    }\n",
       "\n",
       "    .dataframe thead th {\n",
       "        text-align: right;\n",
       "    }\n",
       "</style>\n",
       "<table border=\"1\" class=\"dataframe\">\n",
       "  <thead>\n",
       "    <tr style=\"text-align: right;\">\n",
       "      <th></th>\n",
       "      <th></th>\n",
       "      <th>trip_distance</th>\n",
       "      <th>fare_amount</th>\n",
       "      <th>passenger_count</th>\n",
       "    </tr>\n",
       "    <tr>\n",
       "      <th>PULocationID</th>\n",
       "      <th>year_month</th>\n",
       "      <th></th>\n",
       "      <th></th>\n",
       "      <th></th>\n",
       "    </tr>\n",
       "  </thead>\n",
       "  <tbody>\n",
       "    <tr>\n",
       "      <th rowspan=\"5\" valign=\"top\">1</th>\n",
       "      <th>202210</th>\n",
       "      <td>0.020</td>\n",
       "      <td>235.000</td>\n",
       "      <td>2.0</td>\n",
       "    </tr>\n",
       "    <tr>\n",
       "      <th>20231</th>\n",
       "      <td>653.330</td>\n",
       "      <td>35530.940</td>\n",
       "      <td>642.0</td>\n",
       "    </tr>\n",
       "    <tr>\n",
       "      <th>20232</th>\n",
       "      <td>355.875</td>\n",
       "      <td>32004.040</td>\n",
       "      <td>619.0</td>\n",
       "    </tr>\n",
       "    <tr>\n",
       "      <th>20233</th>\n",
       "      <td>599.865</td>\n",
       "      <td>38036.780</td>\n",
       "      <td>684.0</td>\n",
       "    </tr>\n",
       "    <tr>\n",
       "      <th>20234</th>\n",
       "      <td>269.820</td>\n",
       "      <td>41189.725</td>\n",
       "      <td>795.0</td>\n",
       "    </tr>\n",
       "  </tbody>\n",
       "</table>\n",
       "</div>"
      ],
      "text/plain": [
       "                         trip_distance  fare_amount  passenger_count\n",
       "PULocationID year_month                                             \n",
       "1            202210              0.020      235.000              2.0\n",
       "             20231             653.330    35530.940            642.0\n",
       "             20232             355.875    32004.040            619.0\n",
       "             20233             599.865    38036.780            684.0\n",
       "             20234             269.820    41189.725            795.0"
      ]
     },
     "execution_count": 195,
     "metadata": {},
     "output_type": "execute_result"
    }
   ],
   "source": [
    "x.head()"
   ]
  },
  {
   "cell_type": "code",
   "execution_count": 196,
   "id": "b73aa475-ef23-4cd8-888a-23705d8382bb",
   "metadata": {},
   "outputs": [
    {
     "data": {
      "text/html": [
       "<div>\n",
       "<style scoped>\n",
       "    .dataframe tbody tr th:only-of-type {\n",
       "        vertical-align: middle;\n",
       "    }\n",
       "\n",
       "    .dataframe tbody tr th {\n",
       "        vertical-align: top;\n",
       "    }\n",
       "\n",
       "    .dataframe thead th {\n",
       "        text-align: right;\n",
       "    }\n",
       "</style>\n",
       "<table border=\"1\" class=\"dataframe\">\n",
       "  <thead>\n",
       "    <tr style=\"text-align: right;\">\n",
       "      <th></th>\n",
       "      <th></th>\n",
       "      <th>trip_distance</th>\n",
       "      <th>fare_amount</th>\n",
       "      <th>passenger_count</th>\n",
       "    </tr>\n",
       "    <tr>\n",
       "      <th>PULocationID</th>\n",
       "      <th>year_month</th>\n",
       "      <th></th>\n",
       "      <th></th>\n",
       "      <th></th>\n",
       "    </tr>\n",
       "  </thead>\n",
       "  <tbody>\n",
       "    <tr>\n",
       "      <th>4</th>\n",
       "      <th>20233</th>\n",
       "      <td>92.31</td>\n",
       "      <td>513.71</td>\n",
       "      <td>0.0</td>\n",
       "    </tr>\n",
       "    <tr>\n",
       "      <th rowspan=\"2\" valign=\"top\">7</th>\n",
       "      <th>20233</th>\n",
       "      <td>40.95</td>\n",
       "      <td>164.81</td>\n",
       "      <td>0.0</td>\n",
       "    </tr>\n",
       "    <tr>\n",
       "      <th>20234</th>\n",
       "      <td>14.17</td>\n",
       "      <td>51.66</td>\n",
       "      <td>0.0</td>\n",
       "    </tr>\n",
       "    <tr>\n",
       "      <th>13</th>\n",
       "      <th>20233</th>\n",
       "      <td>86.24</td>\n",
       "      <td>422.47</td>\n",
       "      <td>0.0</td>\n",
       "    </tr>\n",
       "    <tr>\n",
       "      <th>17</th>\n",
       "      <th>20233</th>\n",
       "      <td>34.78</td>\n",
       "      <td>139.75</td>\n",
       "      <td>0.0</td>\n",
       "    </tr>\n",
       "  </tbody>\n",
       "</table>\n",
       "</div>"
      ],
      "text/plain": [
       "                         trip_distance  fare_amount  passenger_count\n",
       "PULocationID year_month                                             \n",
       "4            20233               92.31       513.71              0.0\n",
       "7            20233               40.95       164.81              0.0\n",
       "             20234               14.17        51.66              0.0\n",
       "13           20233               86.24       422.47              0.0\n",
       "17           20233               34.78       139.75              0.0"
      ]
     },
     "execution_count": 196,
     "metadata": {},
     "output_type": "execute_result"
    }
   ],
   "source": [
    "momthly_performance.head()"
   ]
  },
  {
   "cell_type": "code",
   "execution_count": 197,
   "id": "791cc9ee-6241-4e01-bd44-57bcaca3f0b8",
   "metadata": {},
   "outputs": [
    {
     "name": "stderr",
     "output_type": "stream",
     "text": [
      "/var/folders/48/j6k669vx63qd_68k2_502cl40000gn/T/ipykernel_42550/483867585.py:26: UserWarning: Could not infer format, so each element will be parsed individually, falling back to `dateutil`. To ensure parsing is consistent and as-expected, please specify a format.\n",
      "  results = reduce(lambda x, y: pd.concat([x, y]), (process_chunk(chunk) for chunk in df_pd))\n",
      "/var/folders/48/j6k669vx63qd_68k2_502cl40000gn/T/ipykernel_42550/483867585.py:26: UserWarning: Could not infer format, so each element will be parsed individually, falling back to `dateutil`. To ensure parsing is consistent and as-expected, please specify a format.\n",
      "  results = reduce(lambda x, y: pd.concat([x, y]), (process_chunk(chunk) for chunk in df_pd))\n",
      "/var/folders/48/j6k669vx63qd_68k2_502cl40000gn/T/ipykernel_42550/483867585.py:26: UserWarning: Could not infer format, so each element will be parsed individually, falling back to `dateutil`. To ensure parsing is consistent and as-expected, please specify a format.\n",
      "  results = reduce(lambda x, y: pd.concat([x, y]), (process_chunk(chunk) for chunk in df_pd))\n",
      "/var/folders/48/j6k669vx63qd_68k2_502cl40000gn/T/ipykernel_42550/483867585.py:26: UserWarning: Could not infer format, so each element will be parsed individually, falling back to `dateutil`. To ensure parsing is consistent and as-expected, please specify a format.\n",
      "  results = reduce(lambda x, y: pd.concat([x, y]), (process_chunk(chunk) for chunk in df_pd))\n",
      "/var/folders/48/j6k669vx63qd_68k2_502cl40000gn/T/ipykernel_42550/483867585.py:26: UserWarning: Could not infer format, so each element will be parsed individually, falling back to `dateutil`. To ensure parsing is consistent and as-expected, please specify a format.\n",
      "  results = reduce(lambda x, y: pd.concat([x, y]), (process_chunk(chunk) for chunk in df_pd))\n",
      "/var/folders/48/j6k669vx63qd_68k2_502cl40000gn/T/ipykernel_42550/483867585.py:26: UserWarning: Could not infer format, so each element will be parsed individually, falling back to `dateutil`. To ensure parsing is consistent and as-expected, please specify a format.\n",
      "  results = reduce(lambda x, y: pd.concat([x, y]), (process_chunk(chunk) for chunk in df_pd))\n"
     ]
    },
    {
     "data": {
      "text/html": [
       "<div>\n",
       "<style scoped>\n",
       "    .dataframe tbody tr th:only-of-type {\n",
       "        vertical-align: middle;\n",
       "    }\n",
       "\n",
       "    .dataframe tbody tr th {\n",
       "        vertical-align: top;\n",
       "    }\n",
       "\n",
       "    .dataframe thead th {\n",
       "        text-align: right;\n",
       "    }\n",
       "</style>\n",
       "<table border=\"1\" class=\"dataframe\">\n",
       "  <thead>\n",
       "    <tr style=\"text-align: right;\">\n",
       "      <th></th>\n",
       "      <th>PULocationID</th>\n",
       "      <th>year_month</th>\n",
       "      <th>trip_distance</th>\n",
       "      <th>fare_amount</th>\n",
       "      <th>passenger_count</th>\n",
       "    </tr>\n",
       "  </thead>\n",
       "  <tbody>\n",
       "    <tr>\n",
       "      <th>0</th>\n",
       "      <td>4</td>\n",
       "      <td>20234</td>\n",
       "      <td>234.87</td>\n",
       "      <td>1378.80</td>\n",
       "      <td>139.0</td>\n",
       "    </tr>\n",
       "    <tr>\n",
       "      <th>1</th>\n",
       "      <td>7</td>\n",
       "      <td>20234</td>\n",
       "      <td>5.95</td>\n",
       "      <td>32.60</td>\n",
       "      <td>2.0</td>\n",
       "    </tr>\n",
       "    <tr>\n",
       "      <th>2</th>\n",
       "      <td>10</td>\n",
       "      <td>20234</td>\n",
       "      <td>40.59</td>\n",
       "      <td>206.55</td>\n",
       "      <td>1.0</td>\n",
       "    </tr>\n",
       "    <tr>\n",
       "      <th>3</th>\n",
       "      <td>13</td>\n",
       "      <td>20234</td>\n",
       "      <td>23.80</td>\n",
       "      <td>210.30</td>\n",
       "      <td>11.0</td>\n",
       "    </tr>\n",
       "    <tr>\n",
       "      <th>4</th>\n",
       "      <td>17</td>\n",
       "      <td>20234</td>\n",
       "      <td>0.00</td>\n",
       "      <td>3.00</td>\n",
       "      <td>1.0</td>\n",
       "    </tr>\n",
       "  </tbody>\n",
       "</table>\n",
       "</div>"
      ],
      "text/plain": [
       "   PULocationID year_month  trip_distance  fare_amount  passenger_count\n",
       "0             4      20234         234.87      1378.80            139.0\n",
       "1             7      20234           5.95        32.60              2.0\n",
       "2            10      20234          40.59       206.55              1.0\n",
       "3            13      20234          23.80       210.30             11.0\n",
       "4            17      20234           0.00         3.00              1.0"
      ]
     },
     "execution_count": 197,
     "metadata": {},
     "output_type": "execute_result"
    }
   ],
   "source": [
    "import pandas as pd\n",
    "from functools import reduce\n",
    "\n",
    "df_pd = pd.read_csv(file_path, memory_map=False, parse_dates=['tpep_pickup_datetime', 'tpep_dropoff_datetime'], chunksize=10_000)\n",
    "\n",
    "# Define the function to process each chunk\n",
    "def process_chunk(chunk):\n",
    "    chunk['time_delta'] = chunk['tpep_dropoff_datetime'] - chunk['tpep_pickup_datetime']\n",
    "    chunk['year_month'] = chunk['tpep_dropoff_datetime'].dt.year.astype('str') + chunk['tpep_dropoff_datetime'].dt.month.astype('str')\n",
    "    chunk['day'] = chunk['tpep_dropoff_datetime'].dt.date\n",
    "    chunk['year'] = chunk['tpep_dropoff_datetime'].dt.year\n",
    "    columns = ['PULocationID', 'time_delta', 'year_month', 'trip_distance', 'fare_amount', 'day', 'year', 'passenger_count']\n",
    "    df = chunk[columns]\n",
    "    \n",
    "    momthly_performance = (\n",
    "        df.groupby(['PULocationID', 'day', 'year_month'])\n",
    "        [['trip_distance', 'fare_amount', 'passenger_count']]\n",
    "        .sum()\n",
    "        .groupby(['PULocationID', 'year_month'])\n",
    "        .mean()\n",
    "    )\n",
    "\n",
    "    return momthly_performance\n",
    "\n",
    "# Use reduce to combine the results from all chunks\n",
    "results = reduce(lambda x, y: pd.concat([x, y]), (process_chunk(chunk) for chunk in df_pd))\n",
    "\n",
    "final = results.reset_index()  # Reset the index to get a DataFrame\n",
    "final.head()\n"
   ]
  },
  {
   "cell_type": "code",
   "execution_count": 207,
   "id": "d07df909-b851-4b69-bc48-9beb240211d3",
   "metadata": {},
   "outputs": [
    {
     "name": "stdout",
     "output_type": "stream",
     "text": [
      "<class 'pandas.core.frame.DataFrame'>\n",
      "MultiIndex: 159224 entries, (4, '20234') to (265, '20233')\n",
      "Data columns (total 3 columns):\n",
      " #   Column           Non-Null Count   Dtype  \n",
      "---  ------           --------------   -----  \n",
      " 0   trip_distance    159224 non-null  float64\n",
      " 1   fare_amount      159224 non-null  float64\n",
      " 2   passenger_count  159224 non-null  float64\n",
      "dtypes: float64(3)\n",
      "memory usage: 4.1+ MB\n"
     ]
    }
   ],
   "source": [
    "results.info()"
   ]
  },
  {
   "cell_type": "code",
   "execution_count": 206,
   "id": "6822df43-cfac-4087-b801-b83173b647b8",
   "metadata": {},
   "outputs": [
    {
     "data": {
      "text/html": [
       "<div>\n",
       "<style scoped>\n",
       "    .dataframe tbody tr th:only-of-type {\n",
       "        vertical-align: middle;\n",
       "    }\n",
       "\n",
       "    .dataframe tbody tr th {\n",
       "        vertical-align: top;\n",
       "    }\n",
       "\n",
       "    .dataframe thead th {\n",
       "        text-align: right;\n",
       "    }\n",
       "</style>\n",
       "<table border=\"1\" class=\"dataframe\">\n",
       "  <thead>\n",
       "    <tr style=\"text-align: right;\">\n",
       "      <th></th>\n",
       "      <th></th>\n",
       "      <th>trip_distance</th>\n",
       "      <th>fare_amount</th>\n",
       "      <th>passenger_count</th>\n",
       "    </tr>\n",
       "    <tr>\n",
       "      <th>PULocationID</th>\n",
       "      <th>year_month</th>\n",
       "      <th></th>\n",
       "      <th></th>\n",
       "      <th></th>\n",
       "    </tr>\n",
       "  </thead>\n",
       "  <tbody>\n",
       "    <tr>\n",
       "      <th rowspan=\"5\" valign=\"top\">1</th>\n",
       "      <th>202210</th>\n",
       "      <td>0.020000</td>\n",
       "      <td>235.000000</td>\n",
       "      <td>2.000000</td>\n",
       "    </tr>\n",
       "    <tr>\n",
       "      <th>20231</th>\n",
       "      <td>653.330000</td>\n",
       "      <td>35530.940000</td>\n",
       "      <td>642.000000</td>\n",
       "    </tr>\n",
       "    <tr>\n",
       "      <th>20232</th>\n",
       "      <td>355.875000</td>\n",
       "      <td>32004.040000</td>\n",
       "      <td>619.000000</td>\n",
       "    </tr>\n",
       "    <tr>\n",
       "      <th>20233</th>\n",
       "      <td>599.865000</td>\n",
       "      <td>38036.780000</td>\n",
       "      <td>684.000000</td>\n",
       "    </tr>\n",
       "    <tr>\n",
       "      <th>20234</th>\n",
       "      <td>269.820000</td>\n",
       "      <td>41189.725000</td>\n",
       "      <td>795.000000</td>\n",
       "    </tr>\n",
       "    <tr>\n",
       "      <th>...</th>\n",
       "      <th>...</th>\n",
       "      <td>...</td>\n",
       "      <td>...</td>\n",
       "      <td>...</td>\n",
       "    </tr>\n",
       "    <tr>\n",
       "      <th rowspan=\"5\" valign=\"top\">265</th>\n",
       "      <th>202210</th>\n",
       "      <td>2.330000</td>\n",
       "      <td>10.000000</td>\n",
       "      <td>1.000000</td>\n",
       "    </tr>\n",
       "    <tr>\n",
       "      <th>20231</th>\n",
       "      <td>3629.886667</td>\n",
       "      <td>143351.081667</td>\n",
       "      <td>2147.166667</td>\n",
       "    </tr>\n",
       "    <tr>\n",
       "      <th>20232</th>\n",
       "      <td>6731.669333</td>\n",
       "      <td>123486.299667</td>\n",
       "      <td>1776.000000</td>\n",
       "    </tr>\n",
       "    <tr>\n",
       "      <th>20233</th>\n",
       "      <td>8717.638667</td>\n",
       "      <td>160813.071500</td>\n",
       "      <td>2105.000000</td>\n",
       "    </tr>\n",
       "    <tr>\n",
       "      <th>20234</th>\n",
       "      <td>4862.391667</td>\n",
       "      <td>154557.326000</td>\n",
       "      <td>2367.833333</td>\n",
       "    </tr>\n",
       "  </tbody>\n",
       "</table>\n",
       "<p>1132 rows × 3 columns</p>\n",
       "</div>"
      ],
      "text/plain": [
       "                         trip_distance    fare_amount  passenger_count\n",
       "PULocationID year_month                                               \n",
       "1            202210           0.020000     235.000000         2.000000\n",
       "             20231          653.330000   35530.940000       642.000000\n",
       "             20232          355.875000   32004.040000       619.000000\n",
       "             20233          599.865000   38036.780000       684.000000\n",
       "             20234          269.820000   41189.725000       795.000000\n",
       "...                                ...            ...              ...\n",
       "265          202210           2.330000      10.000000         1.000000\n",
       "             20231         3629.886667  143351.081667      2147.166667\n",
       "             20232         6731.669333  123486.299667      1776.000000\n",
       "             20233         8717.638667  160813.071500      2105.000000\n",
       "             20234         4862.391667  154557.326000      2367.833333\n",
       "\n",
       "[1132 rows x 3 columns]"
      ]
     },
     "execution_count": 206,
     "metadata": {},
     "output_type": "execute_result"
    }
   ],
   "source": [
    "results.reset_index(['PULocationID','year_month']).groupby(['PULocationID','year_month']).sum()"
   ]
  },
  {
   "cell_type": "code",
   "execution_count": 208,
   "id": "9be6e6cb-442c-403e-a5d9-676bdb0a5cdd",
   "metadata": {},
   "outputs": [
    {
     "name": "stdout",
     "output_type": "stream",
     "text": [
      "<class 'pandas.core.frame.DataFrame'>\n",
      "MultiIndex: 144 entries, (4, '20233') to (265, '20233')\n",
      "Data columns (total 3 columns):\n",
      " #   Column           Non-Null Count  Dtype  \n",
      "---  ------           --------------  -----  \n",
      " 0   trip_distance    144 non-null    float64\n",
      " 1   fare_amount      144 non-null    float64\n",
      " 2   passenger_count  144 non-null    float64\n",
      "dtypes: float64(3)\n",
      "memory usage: 12.9+ KB\n"
     ]
    }
   ],
   "source": [
    "momthly_performance.info()"
   ]
  },
  {
   "cell_type": "code",
   "execution_count": 213,
   "id": "57905b2d-1f54-48c6-873e-cae3c5282672",
   "metadata": {},
   "outputs": [
    {
     "ename": "SyntaxError",
     "evalue": "unmatched ')' (2217541468.py, line 25)",
     "output_type": "error",
     "traceback": [
      "\u001b[0;36m  Cell \u001b[0;32mIn[213], line 25\u001b[0;36m\u001b[0m\n\u001b[0;31m    )\u001b[0m\n\u001b[0m    ^\u001b[0m\n\u001b[0;31mSyntaxError\u001b[0m\u001b[0;31m:\u001b[0m unmatched ')'\n"
     ]
    }
   ],
   "source": [
    "import pandas as pd\n",
    "from functools import reduce\n",
    "\n",
    "#file_path = 'your_file_path.csv'\n",
    "chunksize = 10_000\n",
    "\n",
    "# Initialize an empty list to store the results from each chunk\n",
    "results = []\n",
    "\n",
    "# Define the function to process each chunk and aggregate the data\n",
    "def process_chunk(chunk):\n",
    "    chunk['time_delta'] = chunk['tpep_dropoff_datetime'] - chunk['tpep_pickup_datetime']\n",
    "    chunk['year_month'] = chunk['tpep_dropoff_datetime'].dt.year.astype('str') + chunk['tpep_dropoff_datetime'].dt.month.astype('str')\n",
    "    chunk['day'] = chunk['tpep_dropoff_datetime'].dt.date\n",
    "    chunk['year'] = chunk['tpep_dropoff_datetime'].dt.year\n",
    "    columns = ['PULocationID', 'time_delta', 'year_month', 'trip_distance', 'fare_amount', 'day', 'year', 'passenger_count']\n",
    "    df = chunk[columns]\n",
    "    \n",
    "    # monthly_performance = (\n",
    "    #     df.groupby(['PULocationID', 'day', 'year_month'])\n",
    "    #     [['trip_distance', 'fare_amount', 'passenger_count']]\n",
    "    #     .sum()\n",
    "    #     .groupby(['PULocationID', 'year_month'])\n",
    "    #     .mean()\n",
    "    )\n",
    "\n",
    "    return monthly_performance\n",
    "\n",
    "# Iterate through the chunks, process each chunk, and append the result to the 'results' list\n",
    "# for chunk in pd.read_csv(file_path, memory_map=True, parse_dates=['tpep_pickup_datetime', 'tpep_dropoff_datetime'], chunksize=chunksize):\n",
    "#     results.append(process_chunk(chunk))\n",
    "\n",
    "# Concatenate all the results into the final DataFrame\n",
    "final = reduce(lambda x, y: pd.add([x, y]), (process_chunk(chunk) for chunk in df_pd))  \n",
    "\n",
    "\n",
    "# print(final.head())\n"
   ]
  },
  {
   "cell_type": "code",
   "execution_count": 210,
   "id": "515a5488-9d41-4ca4-98fe-9604226b3752",
   "metadata": {},
   "outputs": [
    {
     "name": "stdout",
     "output_type": "stream",
     "text": [
      "<class 'pandas.core.frame.DataFrame'>\n",
      "RangeIndex: 159224 entries, 0 to 159223\n",
      "Data columns (total 5 columns):\n",
      " #   Column           Non-Null Count   Dtype  \n",
      "---  ------           --------------   -----  \n",
      " 0   PULocationID     159224 non-null  int64  \n",
      " 1   year_month       159224 non-null  object \n",
      " 2   trip_distance    159224 non-null  float64\n",
      " 3   fare_amount      159224 non-null  float64\n",
      " 4   passenger_count  159224 non-null  float64\n",
      "dtypes: float64(3), int64(1), object(1)\n",
      "memory usage: 6.1+ MB\n"
     ]
    }
   ],
   "source": [
    "final.info()"
   ]
  },
  {
   "cell_type": "code",
   "execution_count": null,
   "id": "f958d822-8060-47de-b83e-ab0233448e76",
   "metadata": {},
   "outputs": [],
   "source": []
  }
 ],
 "metadata": {
  "kernelspec": {
   "display_name": "Python [conda env:ch2]",
   "language": "python",
   "name": "conda-env-ch2-py"
  },
  "language_info": {
   "codemirror_mode": {
    "name": "ipython",
    "version": 3
   },
   "file_extension": ".py",
   "mimetype": "text/x-python",
   "name": "python",
   "nbconvert_exporter": "python",
   "pygments_lexer": "ipython3",
   "version": "3.12.0"
  }
 },
 "nbformat": 4,
 "nbformat_minor": 5
}
